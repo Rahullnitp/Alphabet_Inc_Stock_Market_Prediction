{
  "nbformat": 4,
  "nbformat_minor": 0,
  "metadata": {
    "colab": {
      "name": "Alphabet_Inc_Stock_Market_Prediction.ipynb",
      "provenance": [],
      "include_colab_link": true
    },
    "kernelspec": {
      "name": "python3",
      "display_name": "Python 3"
    },
    "accelerator": "GPU"
  },
  "cells": [
    {
      "cell_type": "markdown",
      "metadata": {
        "id": "view-in-github",
        "colab_type": "text"
      },
      "source": [
        "<a href=\"https://colab.research.google.com/github/Rahullnitp/Alphabet_Inc_Stock_Market_Prediction/blob/master/Alphabet_Inc_Stock_Market_Prediction.ipynb\" target=\"_parent\"><img src=\"https://colab.research.google.com/assets/colab-badge.svg\" alt=\"Open In Colab\"/></a>"
      ]
    },
    {
      "cell_type": "markdown",
      "metadata": {
        "id": "ScIres33Ib07",
        "colab_type": "text"
      },
      "source": [
        "#Aim\n",
        "\n",
        "Stock market prediction of  Alphabet Inc. .\n",
        "\n",
        "\n",
        "\n",
        "*  In this project , i will analyse and perform predictive analytics on the historic data of Alphabet Inc. and perform  a classification or regression task to predict future price or return. \n",
        "\n",
        "*   Alphabet Inc. is an American multinational conglomerate headquartered in Mountain View, California. It was created through a corporate restructuring of Google, and became the parent company of Google and several former Google subsidiaries.  "
      ]
    },
    {
      "cell_type": "markdown",
      "metadata": {
        "id": "I_OgPOIfWBqW",
        "colab_type": "text"
      },
      "source": [
        "#Data Collection :\n",
        "     \n",
        "\n",
        "*   Alpha vantage APIs is used for Data Collection of \"Alphabet Inc.\" "
      ]
    },
    {
      "cell_type": "code",
      "metadata": {
        "id": "mp8YQuHYIbd-",
        "colab_type": "code",
        "outputId": "0166b9d7-d1a6-436d-8e4d-e4191df07cdd",
        "colab": {
          "base_uri": "https://localhost:8080/",
          "height": 119
        }
      },
      "source": [
        "pip install alpha_vantage   #Python module to get stock data from the Alpha Vantage Api"
      ],
      "execution_count": 28,
      "outputs": [
        {
          "output_type": "stream",
          "text": [
            "Requirement already satisfied: alpha_vantage in /usr/local/lib/python3.6/dist-packages (2.1.2)\n",
            "Requirement already satisfied: requests in /usr/local/lib/python3.6/dist-packages (from alpha_vantage) (2.21.0)\n",
            "Requirement already satisfied: certifi>=2017.4.17 in /usr/local/lib/python3.6/dist-packages (from requests->alpha_vantage) (2019.11.28)\n",
            "Requirement already satisfied: urllib3<1.25,>=1.21.1 in /usr/local/lib/python3.6/dist-packages (from requests->alpha_vantage) (1.24.3)\n",
            "Requirement already satisfied: chardet<3.1.0,>=3.0.2 in /usr/local/lib/python3.6/dist-packages (from requests->alpha_vantage) (3.0.4)\n",
            "Requirement already satisfied: idna<2.9,>=2.5 in /usr/local/lib/python3.6/dist-packages (from requests->alpha_vantage) (2.8)\n"
          ],
          "name": "stdout"
        }
      ]
    },
    {
      "cell_type": "markdown",
      "metadata": {
        "id": "tfG9MhGXVAJ-",
        "colab_type": "text"
      },
      "source": [
        " Extract data in 'data' and information of data in 'meta_data' variables respectively.\n",
        "\n",
        "\n",
        "  \n",
        "\n",
        "\n",
        "\n"
      ]
    },
    {
      "cell_type": "code",
      "metadata": {
        "id": "8gJeWpT9jFFW",
        "colab_type": "code",
        "colab": {}
      },
      "source": [
        "from alpha_vantage.timeseries import TimeSeries\n",
        "ts = TimeSeries(key='1Z4BA7A9NKB32IJL',output_format='pandas')\n",
        "data, meta_data = ts.get_daily('GOOGL', outputsize='full') #by using symbol as \"GOOGL\" ,we can extract the data of 'Alphabet Inc.' ."
      ],
      "execution_count": 0,
      "outputs": []
    },
    {
      "cell_type": "markdown",
      "metadata": {
        "id": "0i9PtN86apdZ",
        "colab_type": "text"
      },
      "source": [
        "Overview of data\n",
        "*  This API returns daily time series (date, daily open, daily high, daily low, daily close, daily volume, daily adjusted close, and split/dividend events) of the global equity specified, covering 20+ years of historical data as shown below in meta_data."
      ]
    },
    {
      "cell_type": "code",
      "metadata": {
        "id": "_Co3FVbMlRJJ",
        "colab_type": "code",
        "outputId": "2a205b8f-fd88-49e4-d74c-abcc8ab07380",
        "colab": {
          "base_uri": "https://localhost:8080/",
          "height": 102
        }
      },
      "source": [
        "meta_data"
      ],
      "execution_count": 147,
      "outputs": [
        {
          "output_type": "execute_result",
          "data": {
            "text/plain": [
              "{'1. Information': 'Daily Prices (open, high, low, close) and Volumes',\n",
              " '2. Symbol': 'GOOGL',\n",
              " '3. Last Refreshed': '2019-12-10',\n",
              " '4. Output Size': 'Full size',\n",
              " '5. Time Zone': 'US/Eastern'}"
            ]
          },
          "metadata": {
            "tags": []
          },
          "execution_count": 147
        }
      ]
    },
    {
      "cell_type": "code",
      "metadata": {
        "id": "IOR0OW3Rfn4v",
        "colab_type": "code",
        "colab": {}
      },
      "source": [
        ""
      ],
      "execution_count": 0,
      "outputs": []
    },
    {
      "cell_type": "markdown",
      "metadata": {
        "id": "foUK9Q0ZiTxj",
        "colab_type": "text"
      },
      "source": [
        "#Data_preprocessing:\n",
        "\n",
        "in this section, i will perform Data mining technique that involves transforming raw data into an understandable format and Data Cleaning .\n"
      ]
    },
    {
      "cell_type": "code",
      "metadata": {
        "id": "o4iniHzHi0DL",
        "colab_type": "code",
        "colab": {}
      },
      "source": [
        "# import libraries\n",
        "\n",
        "import os\n",
        "import numpy as np\n",
        "import pandas as pd\n",
        "import seaborn as sns\n",
        "import matplotlib.pyplot as plt\n",
        "from sklearn.metrics import mean_squared_error\n",
        "from sklearn.model_selection import train_test_split\n",
        "%matplotlib inline\n",
        "import warnings\n",
        "warnings.filterwarnings('ignore')\n",
        "from matplotlib.pylab import rcParams\n"
      ],
      "execution_count": 0,
      "outputs": []
    },
    {
      "cell_type": "code",
      "metadata": {
        "id": "JG_EuGvqlB4r",
        "colab_type": "code",
        "outputId": "19b2fde4-40ef-48c9-cb6c-c947f60c1ab2",
        "colab": {
          "base_uri": "https://localhost:8080/",
          "height": 235
        }
      },
      "source": [
        "data.head()"
      ],
      "execution_count": 149,
      "outputs": [
        {
          "output_type": "execute_result",
          "data": {
            "text/html": [
              "<div>\n",
              "<style scoped>\n",
              "    .dataframe tbody tr th:only-of-type {\n",
              "        vertical-align: middle;\n",
              "    }\n",
              "\n",
              "    .dataframe tbody tr th {\n",
              "        vertical-align: top;\n",
              "    }\n",
              "\n",
              "    .dataframe thead th {\n",
              "        text-align: right;\n",
              "    }\n",
              "</style>\n",
              "<table border=\"1\" class=\"dataframe\">\n",
              "  <thead>\n",
              "    <tr style=\"text-align: right;\">\n",
              "      <th></th>\n",
              "      <th>1. open</th>\n",
              "      <th>2. high</th>\n",
              "      <th>3. low</th>\n",
              "      <th>4. close</th>\n",
              "      <th>5. volume</th>\n",
              "    </tr>\n",
              "    <tr>\n",
              "      <th>date</th>\n",
              "      <th></th>\n",
              "      <th></th>\n",
              "      <th></th>\n",
              "      <th></th>\n",
              "      <th></th>\n",
              "    </tr>\n",
              "  </thead>\n",
              "  <tbody>\n",
              "    <tr>\n",
              "      <th>2019-12-10</th>\n",
              "      <td>1339.94</td>\n",
              "      <td>1348.00</td>\n",
              "      <td>1334.00</td>\n",
              "      <td>1342.89</td>\n",
              "      <td>868417.0</td>\n",
              "    </tr>\n",
              "    <tr>\n",
              "      <th>2019-12-09</th>\n",
              "      <td>1338.86</td>\n",
              "      <td>1357.55</td>\n",
              "      <td>1336.07</td>\n",
              "      <td>1342.99</td>\n",
              "      <td>1556889.0</td>\n",
              "    </tr>\n",
              "    <tr>\n",
              "      <th>2019-12-06</th>\n",
              "      <td>1332.75</td>\n",
              "      <td>1342.47</td>\n",
              "      <td>1331.23</td>\n",
              "      <td>1339.39</td>\n",
              "      <td>1648729.0</td>\n",
              "    </tr>\n",
              "    <tr>\n",
              "      <th>2019-12-05</th>\n",
              "      <td>1327.00</td>\n",
              "      <td>1327.98</td>\n",
              "      <td>1314.32</td>\n",
              "      <td>1326.96</td>\n",
              "      <td>1220631.0</td>\n",
              "    </tr>\n",
              "    <tr>\n",
              "      <th>2019-12-04</th>\n",
              "      <td>1306.10</td>\n",
              "      <td>1324.27</td>\n",
              "      <td>1303.05</td>\n",
              "      <td>1318.94</td>\n",
              "      <td>1776392.0</td>\n",
              "    </tr>\n",
              "  </tbody>\n",
              "</table>\n",
              "</div>"
            ],
            "text/plain": [
              "            1. open  2. high   3. low  4. close  5. volume\n",
              "date                                                      \n",
              "2019-12-10  1339.94  1348.00  1334.00   1342.89   868417.0\n",
              "2019-12-09  1338.86  1357.55  1336.07   1342.99  1556889.0\n",
              "2019-12-06  1332.75  1342.47  1331.23   1339.39  1648729.0\n",
              "2019-12-05  1327.00  1327.98  1314.32   1326.96  1220631.0\n",
              "2019-12-04  1306.10  1324.27  1303.05   1318.94  1776392.0"
            ]
          },
          "metadata": {
            "tags": []
          },
          "execution_count": 149
        }
      ]
    },
    {
      "cell_type": "code",
      "metadata": {
        "id": "FEBJWbzn5Wpw",
        "colab_type": "code",
        "outputId": "7bb72adb-79d7-48dd-f58d-777c3b1a54ee",
        "colab": {
          "base_uri": "https://localhost:8080/",
          "height": 34
        }
      },
      "source": [
        "data.shape"
      ],
      "execution_count": 150,
      "outputs": [
        {
          "output_type": "execute_result",
          "data": {
            "text/plain": [
              "(3855, 5)"
            ]
          },
          "metadata": {
            "tags": []
          },
          "execution_count": 150
        }
      ]
    },
    {
      "cell_type": "code",
      "metadata": {
        "id": "x7-JbhtZ3lWs",
        "colab_type": "code",
        "outputId": "593ab7b2-e056-4df7-ce9f-32d7175ef89a",
        "colab": {
          "base_uri": "https://localhost:8080/",
          "height": 502
        }
      },
      "source": [
        "#Let’s plot the 'close' variable to understand how it’s shaping up in our data: \n",
        "\n",
        "plt.figure(figsize=(16,8))\n",
        "plt.plot(data['4. close'], label='Close Price history')"
      ],
      "execution_count": 151,
      "outputs": [
        {
          "output_type": "execute_result",
          "data": {
            "text/plain": [
              "[<matplotlib.lines.Line2D at 0x7fb801643d68>]"
            ]
          },
          "metadata": {
            "tags": []
          },
          "execution_count": 151
        },
        {
          "output_type": "display_data",
          "data": {
            "image/png": "[encoded data removed]",
            "text/plain": [
              "<Figure size 1152x576 with 1 Axes>"
            ]
          },
          "metadata": {
            "tags": []
          }
        }
      ]
    },
    {
      "cell_type": "code",
      "metadata": {
        "id": "PGvUCxsclQVg",
        "colab_type": "code",
        "colab": {}
      },
      "source": [
        "#Change the data format ,so that it will be easy to understand and readable.\n",
        "\n",
        "data.columns=['open','high','low','close','volume']\n",
        "data=data.reset_index()"
      ],
      "execution_count": 0,
      "outputs": []
    },
    {
      "cell_type": "code",
      "metadata": {
        "id": "JoEjeClXoQeN",
        "colab_type": "code",
        "outputId": "aa965afb-c692-4d57-eca0-8c306b5808c3",
        "colab": {
          "base_uri": "https://localhost:8080/",
          "height": 235
        }
      },
      "source": [
        "data.head().transpose()"
      ],
      "execution_count": 153,
      "outputs": [
        {
          "output_type": "execute_result",
          "data": {
            "text/html": [
              "<div>\n",
              "<style scoped>\n",
              "    .dataframe tbody tr th:only-of-type {\n",
              "        vertical-align: middle;\n",
              "    }\n",
              "\n",
              "    .dataframe tbody tr th {\n",
              "        vertical-align: top;\n",
              "    }\n",
              "\n",
              "    .dataframe thead th {\n",
              "        text-align: right;\n",
              "    }\n",
              "</style>\n",
              "<table border=\"1\" class=\"dataframe\">\n",
              "  <thead>\n",
              "    <tr style=\"text-align: right;\">\n",
              "      <th></th>\n",
              "      <th>0</th>\n",
              "      <th>1</th>\n",
              "      <th>2</th>\n",
              "      <th>3</th>\n",
              "      <th>4</th>\n",
              "    </tr>\n",
              "  </thead>\n",
              "  <tbody>\n",
              "    <tr>\n",
              "      <th>date</th>\n",
              "      <td>2019-12-10 00:00:00</td>\n",
              "      <td>2019-12-09 00:00:00</td>\n",
              "      <td>2019-12-06 00:00:00</td>\n",
              "      <td>2019-12-05 00:00:00</td>\n",
              "      <td>2019-12-04 00:00:00</td>\n",
              "    </tr>\n",
              "    <tr>\n",
              "      <th>open</th>\n",
              "      <td>1339.94</td>\n",
              "      <td>1338.86</td>\n",
              "      <td>1332.75</td>\n",
              "      <td>1327</td>\n",
              "      <td>1306.1</td>\n",
              "    </tr>\n",
              "    <tr>\n",
              "      <th>high</th>\n",
              "      <td>1348</td>\n",
              "      <td>1357.55</td>\n",
              "      <td>1342.47</td>\n",
              "      <td>1327.98</td>\n",
              "      <td>1324.27</td>\n",
              "    </tr>\n",
              "    <tr>\n",
              "      <th>low</th>\n",
              "      <td>1334</td>\n",
              "      <td>1336.07</td>\n",
              "      <td>1331.23</td>\n",
              "      <td>1314.32</td>\n",
              "      <td>1303.05</td>\n",
              "    </tr>\n",
              "    <tr>\n",
              "      <th>close</th>\n",
              "      <td>1342.89</td>\n",
              "      <td>1342.99</td>\n",
              "      <td>1339.39</td>\n",
              "      <td>1326.96</td>\n",
              "      <td>1318.94</td>\n",
              "    </tr>\n",
              "    <tr>\n",
              "      <th>volume</th>\n",
              "      <td>868417</td>\n",
              "      <td>1.55689e+06</td>\n",
              "      <td>1.64873e+06</td>\n",
              "      <td>1.22063e+06</td>\n",
              "      <td>1.77639e+06</td>\n",
              "    </tr>\n",
              "  </tbody>\n",
              "</table>\n",
              "</div>"
            ],
            "text/plain": [
              "                          0  ...                    4\n",
              "date    2019-12-10 00:00:00  ...  2019-12-04 00:00:00\n",
              "open                1339.94  ...               1306.1\n",
              "high                   1348  ...              1324.27\n",
              "low                    1334  ...              1303.05\n",
              "close               1342.89  ...              1318.94\n",
              "volume               868417  ...          1.77639e+06\n",
              "\n",
              "[6 rows x 5 columns]"
            ]
          },
          "metadata": {
            "tags": []
          },
          "execution_count": 153
        }
      ]
    },
    {
      "cell_type": "code",
      "metadata": {
        "id": "OKUPkEV9lGMX",
        "colab_type": "code",
        "outputId": "59f8af36-32a3-4f35-fc99-eff977fc5d7e",
        "colab": {
          "base_uri": "https://localhost:8080/",
          "height": 297
        }
      },
      "source": [
        "data.describe()   # for statistical details like percentile, mean, std and quantiles of data."
      ],
      "execution_count": 154,
      "outputs": [
        {
          "output_type": "execute_result",
          "data": {
            "text/html": [
              "<div>\n",
              "<style scoped>\n",
              "    .dataframe tbody tr th:only-of-type {\n",
              "        vertical-align: middle;\n",
              "    }\n",
              "\n",
              "    .dataframe tbody tr th {\n",
              "        vertical-align: top;\n",
              "    }\n",
              "\n",
              "    .dataframe thead th {\n",
              "        text-align: right;\n",
              "    }\n",
              "</style>\n",
              "<table border=\"1\" class=\"dataframe\">\n",
              "  <thead>\n",
              "    <tr style=\"text-align: right;\">\n",
              "      <th></th>\n",
              "      <th>open</th>\n",
              "      <th>high</th>\n",
              "      <th>low</th>\n",
              "      <th>close</th>\n",
              "      <th>volume</th>\n",
              "    </tr>\n",
              "  </thead>\n",
              "  <tbody>\n",
              "    <tr>\n",
              "      <th>count</th>\n",
              "      <td>3855.000000</td>\n",
              "      <td>3855.000000</td>\n",
              "      <td>3855.000000</td>\n",
              "      <td>3855.000000</td>\n",
              "      <td>3.855000e+03</td>\n",
              "    </tr>\n",
              "    <tr>\n",
              "      <th>mean</th>\n",
              "      <td>659.110933</td>\n",
              "      <td>665.193289</td>\n",
              "      <td>652.551436</td>\n",
              "      <td>658.958307</td>\n",
              "      <td>7.138003e+06</td>\n",
              "    </tr>\n",
              "    <tr>\n",
              "      <th>std</th>\n",
              "      <td>278.382002</td>\n",
              "      <td>280.044492</td>\n",
              "      <td>276.668582</td>\n",
              "      <td>278.495475</td>\n",
              "      <td>8.011137e+06</td>\n",
              "    </tr>\n",
              "    <tr>\n",
              "      <th>min</th>\n",
              "      <td>99.090000</td>\n",
              "      <td>101.740000</td>\n",
              "      <td>95.960000</td>\n",
              "      <td>100.010000</td>\n",
              "      <td>3.845900e+04</td>\n",
              "    </tr>\n",
              "    <tr>\n",
              "      <th>25%</th>\n",
              "      <td>475.115000</td>\n",
              "      <td>480.030000</td>\n",
              "      <td>470.310000</td>\n",
              "      <td>474.605000</td>\n",
              "      <td>1.926933e+06</td>\n",
              "    </tr>\n",
              "    <tr>\n",
              "      <th>50%</th>\n",
              "      <td>588.160000</td>\n",
              "      <td>592.340000</td>\n",
              "      <td>582.820000</td>\n",
              "      <td>587.140000</td>\n",
              "      <td>4.428500e+06</td>\n",
              "    </tr>\n",
              "    <tr>\n",
              "      <th>75%</th>\n",
              "      <td>828.965000</td>\n",
              "      <td>831.905000</td>\n",
              "      <td>823.248800</td>\n",
              "      <td>828.360000</td>\n",
              "      <td>9.150600e+06</td>\n",
              "    </tr>\n",
              "    <tr>\n",
              "      <th>max</th>\n",
              "      <td>1339.940000</td>\n",
              "      <td>1357.550000</td>\n",
              "      <td>1336.070000</td>\n",
              "      <td>1342.990000</td>\n",
              "      <td>8.215110e+07</td>\n",
              "    </tr>\n",
              "  </tbody>\n",
              "</table>\n",
              "</div>"
            ],
            "text/plain": [
              "              open         high          low        close        volume\n",
              "count  3855.000000  3855.000000  3855.000000  3855.000000  3.855000e+03\n",
              "mean    659.110933   665.193289   652.551436   658.958307  7.138003e+06\n",
              "std     278.382002   280.044492   276.668582   278.495475  8.011137e+06\n",
              "min      99.090000   101.740000    95.960000   100.010000  3.845900e+04\n",
              "25%     475.115000   480.030000   470.310000   474.605000  1.926933e+06\n",
              "50%     588.160000   592.340000   582.820000   587.140000  4.428500e+06\n",
              "75%     828.965000   831.905000   823.248800   828.360000  9.150600e+06\n",
              "max    1339.940000  1357.550000  1336.070000  1342.990000  8.215110e+07"
            ]
          },
          "metadata": {
            "tags": []
          },
          "execution_count": 154
        }
      ]
    },
    {
      "cell_type": "code",
      "metadata": {
        "id": "v8dtCEDglJbK",
        "colab_type": "code",
        "outputId": "ac8a3d85-4011-4db0-fd44-21ae198748d9",
        "colab": {
          "base_uri": "https://localhost:8080/",
          "height": 204
        }
      },
      "source": [
        "data.info()        #Information about a DataFrame including the index dtype and column dtypes, non-null values and memory usage."
      ],
      "execution_count": 155,
      "outputs": [
        {
          "output_type": "stream",
          "text": [
            "<class 'pandas.core.frame.DataFrame'>\n",
            "RangeIndex: 3855 entries, 0 to 3854\n",
            "Data columns (total 6 columns):\n",
            "date      3855 non-null datetime64[ns]\n",
            "open      3855 non-null float64\n",
            "high      3855 non-null float64\n",
            "low       3855 non-null float64\n",
            "close     3855 non-null float64\n",
            "volume    3855 non-null float64\n",
            "dtypes: datetime64[ns](1), float64(5)\n",
            "memory usage: 180.8 KB\n"
          ],
          "name": "stdout"
        }
      ]
    },
    {
      "cell_type": "markdown",
      "metadata": {
        "id": "NC45ofLZuau8",
        "colab_type": "text"
      },
      "source": [
        "\n",
        "\n",
        "*   'date' is of datetime type while all others are float\n",
        "\n",
        "\n"
      ]
    },
    {
      "cell_type": "code",
      "metadata": {
        "id": "_q9nhquSui5-",
        "colab_type": "code",
        "outputId": "9535b708-4ab0-4103-e395-a0c1918c17b1",
        "colab": {
          "base_uri": "https://localhost:8080/",
          "height": 136
        }
      },
      "source": [
        "data.isnull().sum() # number of null values in each column."
      ],
      "execution_count": 156,
      "outputs": [
        {
          "output_type": "execute_result",
          "data": {
            "text/plain": [
              "date      0\n",
              "open      0\n",
              "high      0\n",
              "low       0\n",
              "close     0\n",
              "volume    0\n",
              "dtype: int64"
            ]
          },
          "metadata": {
            "tags": []
          },
          "execution_count": 156
        }
      ]
    },
    {
      "cell_type": "code",
      "metadata": {
        "id": "BxPBPsKp5y_B",
        "colab_type": "code",
        "colab": {}
      },
      "source": [
        ""
      ],
      "execution_count": 0,
      "outputs": []
    },
    {
      "cell_type": "markdown",
      "metadata": {
        "id": "8gWpLPpU_3sf",
        "colab_type": "text"
      },
      "source": [
        "#Models"
      ]
    },
    {
      "cell_type": "code",
      "metadata": {
        "id": "LDj4nJh4DgEy",
        "colab_type": "code",
        "colab": {}
      },
      "source": [
        ""
      ],
      "execution_count": 0,
      "outputs": []
    },
    {
      "cell_type": "markdown",
      "metadata": {
        "id": "SVyzQSvu_6Fd",
        "colab_type": "text"
      },
      "source": [
        "##i).Moving Average\n",
        "\n",
        "\n",
        "\n",
        "*   The predicted closing price for each day will be the average of a set of previously observed values. \n",
        "\n",
        "*   for each subsequent step, the predicted values are taken into consideration while removing the oldest observed value from the set.\n",
        "\n"
      ]
    },
    {
      "cell_type": "code",
      "metadata": {
        "id": "-qtNV9tm_5Xo",
        "colab_type": "code",
        "colab": {}
      },
      "source": [
        "#arrange the data in ascending order\n",
        "data=data.sort_values('date',ascending=True).reset_index().drop('index',axis=1)"
      ],
      "execution_count": 0,
      "outputs": []
    },
    {
      "cell_type": "code",
      "metadata": {
        "id": "KkhzMAwAA29u",
        "colab_type": "code",
        "outputId": "61956117-12bc-45f6-bf7b-7abe983e82e3",
        "colab": {
          "base_uri": "https://localhost:8080/",
          "height": 204
        }
      },
      "source": [
        "data.head()"
      ],
      "execution_count": 158,
      "outputs": [
        {
          "output_type": "execute_result",
          "data": {
            "text/html": [
              "<div>\n",
              "<style scoped>\n",
              "    .dataframe tbody tr th:only-of-type {\n",
              "        vertical-align: middle;\n",
              "    }\n",
              "\n",
              "    .dataframe tbody tr th {\n",
              "        vertical-align: top;\n",
              "    }\n",
              "\n",
              "    .dataframe thead th {\n",
              "        text-align: right;\n",
              "    }\n",
              "</style>\n",
              "<table border=\"1\" class=\"dataframe\">\n",
              "  <thead>\n",
              "    <tr style=\"text-align: right;\">\n",
              "      <th></th>\n",
              "      <th>date</th>\n",
              "      <th>open</th>\n",
              "      <th>high</th>\n",
              "      <th>low</th>\n",
              "      <th>close</th>\n",
              "      <th>volume</th>\n",
              "    </tr>\n",
              "  </thead>\n",
              "  <tbody>\n",
              "    <tr>\n",
              "      <th>0</th>\n",
              "      <td>2004-08-19</td>\n",
              "      <td>100.01</td>\n",
              "      <td>104.06</td>\n",
              "      <td>95.96</td>\n",
              "      <td>100.335</td>\n",
              "      <td>44659000.0</td>\n",
              "    </tr>\n",
              "    <tr>\n",
              "      <th>1</th>\n",
              "      <td>2004-08-20</td>\n",
              "      <td>101.01</td>\n",
              "      <td>109.08</td>\n",
              "      <td>100.50</td>\n",
              "      <td>108.310</td>\n",
              "      <td>22834300.0</td>\n",
              "    </tr>\n",
              "    <tr>\n",
              "      <th>2</th>\n",
              "      <td>2004-08-23</td>\n",
              "      <td>110.76</td>\n",
              "      <td>113.48</td>\n",
              "      <td>109.05</td>\n",
              "      <td>109.400</td>\n",
              "      <td>18256100.0</td>\n",
              "    </tr>\n",
              "    <tr>\n",
              "      <th>3</th>\n",
              "      <td>2004-08-24</td>\n",
              "      <td>111.24</td>\n",
              "      <td>111.60</td>\n",
              "      <td>103.57</td>\n",
              "      <td>104.870</td>\n",
              "      <td>15247300.0</td>\n",
              "    </tr>\n",
              "    <tr>\n",
              "      <th>4</th>\n",
              "      <td>2004-08-25</td>\n",
              "      <td>104.76</td>\n",
              "      <td>108.00</td>\n",
              "      <td>103.88</td>\n",
              "      <td>106.000</td>\n",
              "      <td>9188600.0</td>\n",
              "    </tr>\n",
              "  </tbody>\n",
              "</table>\n",
              "</div>"
            ],
            "text/plain": [
              "        date    open    high     low    close      volume\n",
              "0 2004-08-19  100.01  104.06   95.96  100.335  44659000.0\n",
              "1 2004-08-20  101.01  109.08  100.50  108.310  22834300.0\n",
              "2 2004-08-23  110.76  113.48  109.05  109.400  18256100.0\n",
              "3 2004-08-24  111.24  111.60  103.57  104.870  15247300.0\n",
              "4 2004-08-25  104.76  108.00  103.88  106.000   9188600.0"
            ]
          },
          "metadata": {
            "tags": []
          },
          "execution_count": 158
        }
      ]
    },
    {
      "cell_type": "markdown",
      "metadata": {
        "id": "kcDACt7zQWS9",
        "colab_type": "text"
      },
      "source": [
        "\n",
        "\n",
        "* In this method we have the use of only 'date' and target feature 'close'.so,we will make a new dataframe called as 'data_M_A'"
      ]
    },
    {
      "cell_type": "code",
      "metadata": {
        "id": "JRhvffeDRQso",
        "colab_type": "code",
        "colab": {}
      },
      "source": [
        "#make new dataframe\n",
        "data_M_A=data[['date','close']]"
      ],
      "execution_count": 0,
      "outputs": []
    },
    {
      "cell_type": "code",
      "metadata": {
        "id": "W85vBoBZA4VY",
        "colab_type": "code",
        "colab": {}
      },
      "source": [
        "#splitting in train and test set.\n",
        "train_len=int(0.9*len(data_M_A))    # not using following method for splitting data as it rearrange the the data every time it splitt.\n",
        "train=data_M_A[:train_len]          # x_train,x_valid,y_train,y_valid=train_test_split(data_M_A,y_label,test_size=.15,random_state=0)     # Split the data in two parts i.e. train and validation part.\n",
        "\n",
        "valid=data_M_A[train_len:]"
      ],
      "execution_count": 0,
      "outputs": []
    },
    {
      "cell_type": "code",
      "metadata": {
        "id": "T1htPcoYGGCk",
        "colab_type": "code",
        "colab": {}
      },
      "source": [
        "#Making the prediction\n",
        "predictions = []\n",
        "for i in range(0,valid.shape[0]):\n",
        "    a = train['close'][len(train)-valid.shape[0]+i:].sum() + sum(predictions)\n",
        "    b = a/(valid.shape[0])\n",
        "    predictions.append(b)"
      ],
      "execution_count": 0,
      "outputs": []
    },
    {
      "cell_type": "code",
      "metadata": {
        "id": "Fa6sfR89Kp6s",
        "colab_type": "code",
        "outputId": "727a19dc-77d3-4161-9aba-78272f0ed440",
        "colab": {
          "base_uri": "https://localhost:8080/",
          "height": 34
        }
      },
      "source": [
        "#Checking the result(RMSE values)\n",
        "\n",
        "ms=mean_squared_error(np.array(valid['close']), predictions)      \n",
        "rms=np.sqrt(ms)\n",
        "rms                                       # Mathematically: rms=np.sqrt(np.mean(np.power((np.array(y_valid)-predictions),2)))"
      ],
      "execution_count": 162,
      "outputs": [
        {
          "output_type": "execute_result",
          "data": {
            "text/plain": [
              "171.66824372162446"
            ]
          },
          "metadata": {
            "tags": []
          },
          "execution_count": 162
        }
      ]
    },
    {
      "cell_type": "code",
      "metadata": {
        "id": "mRl_jugEOprC",
        "colab_type": "code",
        "outputId": "61fac0dd-1757-410d-eb79-7f368b2c2232",
        "colab": {
          "base_uri": "https://localhost:8080/",
          "height": 627
        }
      },
      "source": [
        "#plot\n",
        "valid['predictions'] = 0\n",
        "valid['predictions'] = predictions\n",
        "plt.figure(figsize=(20,10))\n",
        "plt.plot(train['close'])\n",
        "plt.plot(valid[['close', 'predictions']])\n",
        "#plt.plot(data['close'])\n"
      ],
      "execution_count": 163,
      "outputs": [
        {
          "output_type": "execute_result",
          "data": {
            "text/plain": [
              "[<matplotlib.lines.Line2D at 0x7fb80162dda0>,\n",
              " <matplotlib.lines.Line2D at 0x7fb80162deb8>]"
            ]
          },
          "metadata": {
            "tags": []
          },
          "execution_count": 163
        },
        {
          "output_type": "display_data",
          "data": {
            "image/png": "[encoded data removed]",
            "text/plain": [
              "<Figure size 1440x720 with 1 Axes>"
            ]
          },
          "metadata": {
            "tags": []
          }
        }
      ]
    },
    {
      "cell_type": "code",
      "metadata": {
        "id": "HUBXEsxYfMGV",
        "colab_type": "code",
        "colab": {}
      },
      "source": [
        ""
      ],
      "execution_count": 0,
      "outputs": []
    }
  ]
}