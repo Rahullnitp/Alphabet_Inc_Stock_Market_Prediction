{
  "nbformat": 4,
  "nbformat_minor": 0,
  "metadata": {
    "colab": {
      "name": "Alphabet_Inc_Stock_Market_Prediction.ipynb",
      "provenance": [],
      "collapsed_sections": [],
      "include_colab_link": true
    },
    "kernelspec": {
      "name": "python3",
      "display_name": "Python 3"
    },
    "accelerator": "GPU"
  },
  "cells": [
    {
      "cell_type": "markdown",
      "metadata": {
        "id": "view-in-github",
        "colab_type": "text"
      },
      "source": [
        "<a href=\"https://colab.research.google.com/github/Rahullnitp/Alphabet_Inc_Stock_Market_Prediction/blob/master/Alphabet_Inc_Stock_Market_Prediction.ipynb\" target=\"_parent\"><img src=\"https://colab.research.google.com/assets/colab-badge.svg\" alt=\"Open In Colab\"/></a>"
      ]
    },
    {
      "cell_type": "markdown",
      "metadata": {
        "id": "ScIres33Ib07",
        "colab_type": "text"
      },
      "source": [
        "#Aim\n",
        "\n",
        "Stock market prediction of  Alphabet Inc. .\n",
        "\n",
        "\n",
        "\n",
        "*  In this project , i will analyse and perform predictive analytics on the historic data of Alphabet Inc. and perform  a classification or regression task to predict future price or return. \n",
        "\n",
        "*   Alphabet Inc. is an American multinational conglomerate headquartered in Mountain View, California. It was created through a corporate restructuring of Google, and became the parent company of Google and several former Google subsidiaries.  "
      ]
    },
    {
      "cell_type": "markdown",
      "metadata": {
        "id": "I_OgPOIfWBqW",
        "colab_type": "text"
      },
      "source": [
        "#Data Collection :\n",
        "     \n",
        "\n",
        "*   Alpha vantage APIs is used for Data Collection of \"Alphabet Inc.\" "
      ]
    },
    {
      "cell_type": "code",
      "metadata": {
        "id": "mp8YQuHYIbd-",
        "colab_type": "code",
        "outputId": "bfc5bfd3-0b0f-4448-b227-2d564c1ca683",
        "colab": {
          "base_uri": "https://localhost:8080/",
          "height": 119
        }
      },
      "source": [
        "pip install alpha_vantage   #Python module to get stock data from the Alpha Vantage Api"
      ],
      "execution_count": 1,
      "outputs": [
        {
          "output_type": "stream",
          "text": [
            "Requirement already satisfied: alpha_vantage in /usr/local/lib/python3.6/dist-packages (2.1.2)\n",
            "Requirement already satisfied: requests in /usr/local/lib/python3.6/dist-packages (from alpha_vantage) (2.21.0)\n",
            "Requirement already satisfied: urllib3<1.25,>=1.21.1 in /usr/local/lib/python3.6/dist-packages (from requests->alpha_vantage) (1.24.3)\n",
            "Requirement already satisfied: idna<2.9,>=2.5 in /usr/local/lib/python3.6/dist-packages (from requests->alpha_vantage) (2.8)\n",
            "Requirement already satisfied: certifi>=2017.4.17 in /usr/local/lib/python3.6/dist-packages (from requests->alpha_vantage) (2019.11.28)\n",
            "Requirement already satisfied: chardet<3.1.0,>=3.0.2 in /usr/local/lib/python3.6/dist-packages (from requests->alpha_vantage) (3.0.4)\n"
          ],
          "name": "stdout"
        }
      ]
    },
    {
      "cell_type": "markdown",
      "metadata": {
        "id": "tfG9MhGXVAJ-",
        "colab_type": "text"
      },
      "source": [
        " Extract data in 'data' and information of data in 'meta_data' variables respectively.\n",
        "\n",
        "\n",
        "  \n",
        "\n",
        "\n",
        "\n"
      ]
    },
    {
      "cell_type": "code",
      "metadata": {
        "id": "8gJeWpT9jFFW",
        "colab_type": "code",
        "colab": {}
      },
      "source": [
        "from alpha_vantage.timeseries import TimeSeries\n",
        "ts = TimeSeries(key='1Z4BA7A9NKB32IJL',output_format='pandas')  \n",
        "data, meta_data = ts.get_daily('GOOGL', outputsize='full') #by using symbol as \"GOOGL\" ,we can extract the data of 'Alphabet Inc.' ."
      ],
      "execution_count": 0,
      "outputs": []
    },
    {
      "cell_type": "markdown",
      "metadata": {
        "id": "0i9PtN86apdZ",
        "colab_type": "text"
      },
      "source": [
        "Overview of data\n",
        "*  This API returns daily time series (date, daily open, daily high, daily low, daily close, daily volume, daily adjusted close, and split/dividend events) of the global equity specified, covering 20+ years of historical data as shown below in meta_data."
      ]
    },
    {
      "cell_type": "code",
      "metadata": {
        "id": "_Co3FVbMlRJJ",
        "colab_type": "code",
        "outputId": "b494f9f7-cc00-450b-cd49-e9d90e80c97f",
        "colab": {
          "base_uri": "https://localhost:8080/",
          "height": 102
        }
      },
      "source": [
        "meta_data"
      ],
      "execution_count": 3,
      "outputs": [
        {
          "output_type": "execute_result",
          "data": {
            "text/plain": [
              "{'1. Information': 'Daily Prices (open, high, low, close) and Volumes',\n",
              " '2. Symbol': 'GOOGL',\n",
              " '3. Last Refreshed': '2019-12-11',\n",
              " '4. Output Size': 'Full size',\n",
              " '5. Time Zone': 'US/Eastern'}"
            ]
          },
          "metadata": {
            "tags": []
          },
          "execution_count": 3
        }
      ]
    },
    {
      "cell_type": "code",
      "metadata": {
        "id": "IOR0OW3Rfn4v",
        "colab_type": "code",
        "colab": {}
      },
      "source": [
        ""
      ],
      "execution_count": 0,
      "outputs": []
    },
    {
      "cell_type": "markdown",
      "metadata": {
        "id": "foUK9Q0ZiTxj",
        "colab_type": "text"
      },
      "source": [
        "#Data_preprocessing:\n",
        "\n",
        "in this section, i will perform Data mining technique that involves transforming raw data into an understandable format and Data Cleaning .\n"
      ]
    },
    {
      "cell_type": "code",
      "metadata": {
        "id": "o4iniHzHi0DL",
        "colab_type": "code",
        "colab": {}
      },
      "source": [
        "# import libraries\n",
        "\n",
        "import os\n",
        "# %tensorflow_version 2.x\n",
        "import math\n",
        "import numpy as np\n",
        "import pandas as pd\n",
        "import seaborn as sns\n",
        "import matplotlib.pyplot as plt\n",
        "from sklearn.metrics import mean_squared_error\n",
        "from sklearn.model_selection import train_test_split\n",
        "%matplotlib inline\n",
        "from mpl_toolkits.mplot3d import Axes3D\n",
        "import warnings\n",
        "warnings.filterwarnings('ignore')\n",
        "from matplotlib.pylab import rcParams\n"
      ],
      "execution_count": 0,
      "outputs": []
    },
    {
      "cell_type": "code",
      "metadata": {
        "id": "JG_EuGvqlB4r",
        "colab_type": "code",
        "outputId": "78eb153e-1c79-4a38-e50a-c2a9d5bf7584",
        "colab": {
          "base_uri": "https://localhost:8080/",
          "height": 227
        }
      },
      "source": [
        "data.head()"
      ],
      "execution_count": 5,
      "outputs": [
        {
          "output_type": "execute_result",
          "data": {
            "text/html": [
              "<div>\n",
              "<style scoped>\n",
              "    .dataframe tbody tr th:only-of-type {\n",
              "        vertical-align: middle;\n",
              "    }\n",
              "\n",
              "    .dataframe tbody tr th {\n",
              "        vertical-align: top;\n",
              "    }\n",
              "\n",
              "    .dataframe thead th {\n",
              "        text-align: right;\n",
              "    }\n",
              "</style>\n",
              "<table border=\"1\" class=\"dataframe\">\n",
              "  <thead>\n",
              "    <tr style=\"text-align: right;\">\n",
              "      <th></th>\n",
              "      <th>1. open</th>\n",
              "      <th>2. high</th>\n",
              "      <th>3. low</th>\n",
              "      <th>4. close</th>\n",
              "      <th>5. volume</th>\n",
              "    </tr>\n",
              "    <tr>\n",
              "      <th>date</th>\n",
              "      <th></th>\n",
              "      <th></th>\n",
              "      <th></th>\n",
              "      <th></th>\n",
              "      <th></th>\n",
              "    </tr>\n",
              "  </thead>\n",
              "  <tbody>\n",
              "    <tr>\n",
              "      <th>2019-12-11</th>\n",
              "      <td>1348.30</td>\n",
              "      <td>1349.89</td>\n",
              "      <td>1341.10</td>\n",
              "      <td>1344.25</td>\n",
              "      <td>914503.0</td>\n",
              "    </tr>\n",
              "    <tr>\n",
              "      <th>2019-12-10</th>\n",
              "      <td>1339.94</td>\n",
              "      <td>1348.00</td>\n",
              "      <td>1334.00</td>\n",
              "      <td>1342.89</td>\n",
              "      <td>880430.0</td>\n",
              "    </tr>\n",
              "    <tr>\n",
              "      <th>2019-12-09</th>\n",
              "      <td>1338.86</td>\n",
              "      <td>1357.55</td>\n",
              "      <td>1336.07</td>\n",
              "      <td>1342.99</td>\n",
              "      <td>1556889.0</td>\n",
              "    </tr>\n",
              "    <tr>\n",
              "      <th>2019-12-06</th>\n",
              "      <td>1332.75</td>\n",
              "      <td>1342.47</td>\n",
              "      <td>1331.23</td>\n",
              "      <td>1339.39</td>\n",
              "      <td>1648729.0</td>\n",
              "    </tr>\n",
              "    <tr>\n",
              "      <th>2019-12-05</th>\n",
              "      <td>1327.00</td>\n",
              "      <td>1327.98</td>\n",
              "      <td>1314.32</td>\n",
              "      <td>1326.96</td>\n",
              "      <td>1220631.0</td>\n",
              "    </tr>\n",
              "  </tbody>\n",
              "</table>\n",
              "</div>"
            ],
            "text/plain": [
              "            1. open  2. high   3. low  4. close  5. volume\n",
              "date                                                      \n",
              "2019-12-11  1348.30  1349.89  1341.10   1344.25   914503.0\n",
              "2019-12-10  1339.94  1348.00  1334.00   1342.89   880430.0\n",
              "2019-12-09  1338.86  1357.55  1336.07   1342.99  1556889.0\n",
              "2019-12-06  1332.75  1342.47  1331.23   1339.39  1648729.0\n",
              "2019-12-05  1327.00  1327.98  1314.32   1326.96  1220631.0"
            ]
          },
          "metadata": {
            "tags": []
          },
          "execution_count": 5
        }
      ]
    },
    {
      "cell_type": "code",
      "metadata": {
        "id": "FEBJWbzn5Wpw",
        "colab_type": "code",
        "outputId": "01cec39c-3dea-4ba3-86b1-12e8e55f1680",
        "colab": {
          "base_uri": "https://localhost:8080/",
          "height": 34
        }
      },
      "source": [
        "data.shape"
      ],
      "execution_count": 6,
      "outputs": [
        {
          "output_type": "execute_result",
          "data": {
            "text/plain": [
              "(3856, 5)"
            ]
          },
          "metadata": {
            "tags": []
          },
          "execution_count": 6
        }
      ]
    },
    {
      "cell_type": "code",
      "metadata": {
        "id": "x7-JbhtZ3lWs",
        "colab_type": "code",
        "outputId": "5264559a-e518-4353-b9d0-d205f8705d60",
        "colab": {
          "base_uri": "https://localhost:8080/",
          "height": 502
        }
      },
      "source": [
        "#Let’s plot the 'close' variable to understand how it’s shaping up in our data: \n",
        "\n",
        "plt.figure(figsize=(16,8))\n",
        "plt.plot(data['4. close'], label='Close Price history')\n",
        "plt.xlabel(\"Time\")\n",
        "plt.ylabel(\"Close_Value\")"
      ],
      "execution_count": 7,
      "outputs": [
        {
          "output_type": "execute_result",
          "data": {
            "text/plain": [
              "[<matplotlib.lines.Line2D at 0x7fc057259cf8>]"
            ]
          },
          "metadata": {
            "tags": []
          },
          "execution_count": 7
        },
        {
          "output_type": "display_data",
          "data": {
            "image/png": "[encoded data removed]",
            "text/plain": [
              "<Figure size 1152x576 with 1 Axes>"
            ]
          },
          "metadata": {
            "tags": []
          }
        }
      ]
    },
    {
      "cell_type": "code",
      "metadata": {
        "id": "PGvUCxsclQVg",
        "colab_type": "code",
        "colab": {}
      },
      "source": [
        "#Change the data format ,so that it will be easy to understand and readable.\n",
        "\n",
        "data.columns=['open','high','low','close','volume']\n",
        "data=data.reset_index()"
      ],
      "execution_count": 0,
      "outputs": []
    },
    {
      "cell_type": "code",
      "metadata": {
        "id": "JoEjeClXoQeN",
        "colab_type": "code",
        "outputId": "dbb6f2a9-4cc5-4ce7-c17a-b4eabddc6527",
        "colab": {
          "base_uri": "https://localhost:8080/",
          "height": 227
        }
      },
      "source": [
        "data.head().transpose()"
      ],
      "execution_count": 9,
      "outputs": [
        {
          "output_type": "execute_result",
          "data": {
            "text/html": [
              "<div>\n",
              "<style scoped>\n",
              "    .dataframe tbody tr th:only-of-type {\n",
              "        vertical-align: middle;\n",
              "    }\n",
              "\n",
              "    .dataframe tbody tr th {\n",
              "        vertical-align: top;\n",
              "    }\n",
              "\n",
              "    .dataframe thead th {\n",
              "        text-align: right;\n",
              "    }\n",
              "</style>\n",
              "<table border=\"1\" class=\"dataframe\">\n",
              "  <thead>\n",
              "    <tr style=\"text-align: right;\">\n",
              "      <th></th>\n",
              "      <th>0</th>\n",
              "      <th>1</th>\n",
              "      <th>2</th>\n",
              "      <th>3</th>\n",
              "      <th>4</th>\n",
              "    </tr>\n",
              "  </thead>\n",
              "  <tbody>\n",
              "    <tr>\n",
              "      <th>date</th>\n",
              "      <td>2019-12-11 00:00:00</td>\n",
              "      <td>2019-12-10 00:00:00</td>\n",
              "      <td>2019-12-09 00:00:00</td>\n",
              "      <td>2019-12-06 00:00:00</td>\n",
              "      <td>2019-12-05 00:00:00</td>\n",
              "    </tr>\n",
              "    <tr>\n",
              "      <th>open</th>\n",
              "      <td>1348.3</td>\n",
              "      <td>1339.94</td>\n",
              "      <td>1338.86</td>\n",
              "      <td>1332.75</td>\n",
              "      <td>1327</td>\n",
              "    </tr>\n",
              "    <tr>\n",
              "      <th>high</th>\n",
              "      <td>1349.89</td>\n",
              "      <td>1348</td>\n",
              "      <td>1357.55</td>\n",
              "      <td>1342.47</td>\n",
              "      <td>1327.98</td>\n",
              "    </tr>\n",
              "    <tr>\n",
              "      <th>low</th>\n",
              "      <td>1341.1</td>\n",
              "      <td>1334</td>\n",
              "      <td>1336.07</td>\n",
              "      <td>1331.23</td>\n",
              "      <td>1314.32</td>\n",
              "    </tr>\n",
              "    <tr>\n",
              "      <th>close</th>\n",
              "      <td>1344.25</td>\n",
              "      <td>1342.89</td>\n",
              "      <td>1342.99</td>\n",
              "      <td>1339.39</td>\n",
              "      <td>1326.96</td>\n",
              "    </tr>\n",
              "    <tr>\n",
              "      <th>volume</th>\n",
              "      <td>914503</td>\n",
              "      <td>880430</td>\n",
              "      <td>1.55689e+06</td>\n",
              "      <td>1.64873e+06</td>\n",
              "      <td>1.22063e+06</td>\n",
              "    </tr>\n",
              "  </tbody>\n",
              "</table>\n",
              "</div>"
            ],
            "text/plain": [
              "                          0  ...                    4\n",
              "date    2019-12-11 00:00:00  ...  2019-12-05 00:00:00\n",
              "open                 1348.3  ...                 1327\n",
              "high                1349.89  ...              1327.98\n",
              "low                  1341.1  ...              1314.32\n",
              "close               1344.25  ...              1326.96\n",
              "volume               914503  ...          1.22063e+06\n",
              "\n",
              "[6 rows x 5 columns]"
            ]
          },
          "metadata": {
            "tags": []
          },
          "execution_count": 9
        }
      ]
    },
    {
      "cell_type": "code",
      "metadata": {
        "id": "OKUPkEV9lGMX",
        "colab_type": "code",
        "outputId": "84e0444c-9fac-4d93-9e5b-cd91ba9c1143",
        "colab": {
          "base_uri": "https://localhost:8080/",
          "height": 286
        }
      },
      "source": [
        "data.describe()   # for statistical details like percentile, mean, std and quantiles of data."
      ],
      "execution_count": 10,
      "outputs": [
        {
          "output_type": "execute_result",
          "data": {
            "text/html": [
              "<div>\n",
              "<style scoped>\n",
              "    .dataframe tbody tr th:only-of-type {\n",
              "        vertical-align: middle;\n",
              "    }\n",
              "\n",
              "    .dataframe tbody tr th {\n",
              "        vertical-align: top;\n",
              "    }\n",
              "\n",
              "    .dataframe thead th {\n",
              "        text-align: right;\n",
              "    }\n",
              "</style>\n",
              "<table border=\"1\" class=\"dataframe\">\n",
              "  <thead>\n",
              "    <tr style=\"text-align: right;\">\n",
              "      <th></th>\n",
              "      <th>open</th>\n",
              "      <th>high</th>\n",
              "      <th>low</th>\n",
              "      <th>close</th>\n",
              "      <th>volume</th>\n",
              "    </tr>\n",
              "  </thead>\n",
              "  <tbody>\n",
              "    <tr>\n",
              "      <th>count</th>\n",
              "      <td>3856.000000</td>\n",
              "      <td>3856.000000</td>\n",
              "      <td>3856.000000</td>\n",
              "      <td>3856.000000</td>\n",
              "      <td>3.856000e+03</td>\n",
              "    </tr>\n",
              "    <tr>\n",
              "      <th>mean</th>\n",
              "      <td>659.289664</td>\n",
              "      <td>665.370856</td>\n",
              "      <td>652.730002</td>\n",
              "      <td>659.136028</td>\n",
              "      <td>7.136392e+06</td>\n",
              "    </tr>\n",
              "    <tr>\n",
              "      <th>std</th>\n",
              "      <td>278.567076</td>\n",
              "      <td>280.225183</td>\n",
              "      <td>276.854834</td>\n",
              "      <td>278.677952</td>\n",
              "      <td>8.010723e+06</td>\n",
              "    </tr>\n",
              "    <tr>\n",
              "      <th>min</th>\n",
              "      <td>99.090000</td>\n",
              "      <td>101.740000</td>\n",
              "      <td>95.960000</td>\n",
              "      <td>100.010000</td>\n",
              "      <td>3.845900e+04</td>\n",
              "    </tr>\n",
              "    <tr>\n",
              "      <th>25%</th>\n",
              "      <td>475.132500</td>\n",
              "      <td>480.055000</td>\n",
              "      <td>470.320000</td>\n",
              "      <td>474.742500</td>\n",
              "      <td>1.925898e+06</td>\n",
              "    </tr>\n",
              "    <tr>\n",
              "      <th>50%</th>\n",
              "      <td>588.440000</td>\n",
              "      <td>592.370000</td>\n",
              "      <td>582.835000</td>\n",
              "      <td>587.325000</td>\n",
              "      <td>4.423500e+06</td>\n",
              "    </tr>\n",
              "    <tr>\n",
              "      <th>75%</th>\n",
              "      <td>829.022500</td>\n",
              "      <td>831.935000</td>\n",
              "      <td>823.386950</td>\n",
              "      <td>828.667500</td>\n",
              "      <td>9.148300e+06</td>\n",
              "    </tr>\n",
              "    <tr>\n",
              "      <th>max</th>\n",
              "      <td>1348.300000</td>\n",
              "      <td>1357.550000</td>\n",
              "      <td>1341.100000</td>\n",
              "      <td>1344.250000</td>\n",
              "      <td>8.215110e+07</td>\n",
              "    </tr>\n",
              "  </tbody>\n",
              "</table>\n",
              "</div>"
            ],
            "text/plain": [
              "              open         high          low        close        volume\n",
              "count  3856.000000  3856.000000  3856.000000  3856.000000  3.856000e+03\n",
              "mean    659.289664   665.370856   652.730002   659.136028  7.136392e+06\n",
              "std     278.567076   280.225183   276.854834   278.677952  8.010723e+06\n",
              "min      99.090000   101.740000    95.960000   100.010000  3.845900e+04\n",
              "25%     475.132500   480.055000   470.320000   474.742500  1.925898e+06\n",
              "50%     588.440000   592.370000   582.835000   587.325000  4.423500e+06\n",
              "75%     829.022500   831.935000   823.386950   828.667500  9.148300e+06\n",
              "max    1348.300000  1357.550000  1341.100000  1344.250000  8.215110e+07"
            ]
          },
          "metadata": {
            "tags": []
          },
          "execution_count": 10
        }
      ]
    },
    {
      "cell_type": "code",
      "metadata": {
        "id": "v8dtCEDglJbK",
        "colab_type": "code",
        "outputId": "34643a53-e762-4631-e775-a6b6a0db1019",
        "colab": {
          "base_uri": "https://localhost:8080/",
          "height": 204
        }
      },
      "source": [
        "data.info()        #Information about a DataFrame including the index dtype and column dtypes, non-null values and memory usage."
      ],
      "execution_count": 11,
      "outputs": [
        {
          "output_type": "stream",
          "text": [
            "<class 'pandas.core.frame.DataFrame'>\n",
            "RangeIndex: 3856 entries, 0 to 3855\n",
            "Data columns (total 6 columns):\n",
            "date      3856 non-null datetime64[ns]\n",
            "open      3856 non-null float64\n",
            "high      3856 non-null float64\n",
            "low       3856 non-null float64\n",
            "close     3856 non-null float64\n",
            "volume    3856 non-null float64\n",
            "dtypes: datetime64[ns](1), float64(5)\n",
            "memory usage: 180.9 KB\n"
          ],
          "name": "stdout"
        }
      ]
    },
    {
      "cell_type": "markdown",
      "metadata": {
        "id": "NC45ofLZuau8",
        "colab_type": "text"
      },
      "source": [
        "\n",
        "\n",
        "*   'date' is of datetime type while all others are float\n",
        "\n",
        "\n"
      ]
    },
    {
      "cell_type": "code",
      "metadata": {
        "id": "_q9nhquSui5-",
        "colab_type": "code",
        "outputId": "7eeb5837-9a90-4984-aa5d-70ac7d5b224e",
        "colab": {
          "base_uri": "https://localhost:8080/",
          "height": 136
        }
      },
      "source": [
        "data.isnull().sum() # number of null values in each column."
      ],
      "execution_count": 12,
      "outputs": [
        {
          "output_type": "execute_result",
          "data": {
            "text/plain": [
              "date      0\n",
              "open      0\n",
              "high      0\n",
              "low       0\n",
              "close     0\n",
              "volume    0\n",
              "dtype: int64"
            ]
          },
          "metadata": {
            "tags": []
          },
          "execution_count": 12
        }
      ]
    },
    {
      "cell_type": "code",
      "metadata": {
        "id": "BxPBPsKp5y_B",
        "colab_type": "code",
        "outputId": "0179fea8-2482-4497-b713-663892b374b3",
        "colab": {
          "base_uri": "https://localhost:8080/",
          "height": 197
        }
      },
      "source": [
        "data.head()"
      ],
      "execution_count": 13,
      "outputs": [
        {
          "output_type": "execute_result",
          "data": {
            "text/html": [
              "<div>\n",
              "<style scoped>\n",
              "    .dataframe tbody tr th:only-of-type {\n",
              "        vertical-align: middle;\n",
              "    }\n",
              "\n",
              "    .dataframe tbody tr th {\n",
              "        vertical-align: top;\n",
              "    }\n",
              "\n",
              "    .dataframe thead th {\n",
              "        text-align: right;\n",
              "    }\n",
              "</style>\n",
              "<table border=\"1\" class=\"dataframe\">\n",
              "  <thead>\n",
              "    <tr style=\"text-align: right;\">\n",
              "      <th></th>\n",
              "      <th>date</th>\n",
              "      <th>open</th>\n",
              "      <th>high</th>\n",
              "      <th>low</th>\n",
              "      <th>close</th>\n",
              "      <th>volume</th>\n",
              "    </tr>\n",
              "  </thead>\n",
              "  <tbody>\n",
              "    <tr>\n",
              "      <th>0</th>\n",
              "      <td>2019-12-11</td>\n",
              "      <td>1348.30</td>\n",
              "      <td>1349.89</td>\n",
              "      <td>1341.10</td>\n",
              "      <td>1344.25</td>\n",
              "      <td>914503.0</td>\n",
              "    </tr>\n",
              "    <tr>\n",
              "      <th>1</th>\n",
              "      <td>2019-12-10</td>\n",
              "      <td>1339.94</td>\n",
              "      <td>1348.00</td>\n",
              "      <td>1334.00</td>\n",
              "      <td>1342.89</td>\n",
              "      <td>880430.0</td>\n",
              "    </tr>\n",
              "    <tr>\n",
              "      <th>2</th>\n",
              "      <td>2019-12-09</td>\n",
              "      <td>1338.86</td>\n",
              "      <td>1357.55</td>\n",
              "      <td>1336.07</td>\n",
              "      <td>1342.99</td>\n",
              "      <td>1556889.0</td>\n",
              "    </tr>\n",
              "    <tr>\n",
              "      <th>3</th>\n",
              "      <td>2019-12-06</td>\n",
              "      <td>1332.75</td>\n",
              "      <td>1342.47</td>\n",
              "      <td>1331.23</td>\n",
              "      <td>1339.39</td>\n",
              "      <td>1648729.0</td>\n",
              "    </tr>\n",
              "    <tr>\n",
              "      <th>4</th>\n",
              "      <td>2019-12-05</td>\n",
              "      <td>1327.00</td>\n",
              "      <td>1327.98</td>\n",
              "      <td>1314.32</td>\n",
              "      <td>1326.96</td>\n",
              "      <td>1220631.0</td>\n",
              "    </tr>\n",
              "  </tbody>\n",
              "</table>\n",
              "</div>"
            ],
            "text/plain": [
              "        date     open     high      low    close     volume\n",
              "0 2019-12-11  1348.30  1349.89  1341.10  1344.25   914503.0\n",
              "1 2019-12-10  1339.94  1348.00  1334.00  1342.89   880430.0\n",
              "2 2019-12-09  1338.86  1357.55  1336.07  1342.99  1556889.0\n",
              "3 2019-12-06  1332.75  1342.47  1331.23  1339.39  1648729.0\n",
              "4 2019-12-05  1327.00  1327.98  1314.32  1326.96  1220631.0"
            ]
          },
          "metadata": {
            "tags": []
          },
          "execution_count": 13
        }
      ]
    },
    {
      "cell_type": "markdown",
      "metadata": {
        "id": "8gWpLPpU_3sf",
        "colab_type": "text"
      },
      "source": [
        "#Models"
      ]
    },
    {
      "cell_type": "markdown",
      "metadata": {
        "id": "SVyzQSvu_6Fd",
        "colab_type": "text"
      },
      "source": [
        "##i).Moving Average\n",
        "\n",
        "\n",
        "\n",
        "*   The predicted closing price for each day will be the average of a set of previously observed values. \n",
        "\n",
        "*   for each subsequent step, the predicted values are taken into consideration while removing the oldest observed value from the set.\n",
        "\n"
      ]
    },
    {
      "cell_type": "code",
      "metadata": {
        "id": "-qtNV9tm_5Xo",
        "colab_type": "code",
        "colab": {}
      },
      "source": [
        "#arrange the data in ascending order\n",
        "data=data.sort_values('date',ascending=True).reset_index().drop('index',axis=1)"
      ],
      "execution_count": 0,
      "outputs": []
    },
    {
      "cell_type": "code",
      "metadata": {
        "id": "KkhzMAwAA29u",
        "colab_type": "code",
        "outputId": "a864e0c2-1d42-4bd9-c538-251fadaf4f4f",
        "colab": {
          "base_uri": "https://localhost:8080/",
          "height": 197
        }
      },
      "source": [
        "data.head()"
      ],
      "execution_count": 15,
      "outputs": [
        {
          "output_type": "execute_result",
          "data": {
            "text/html": [
              "<div>\n",
              "<style scoped>\n",
              "    .dataframe tbody tr th:only-of-type {\n",
              "        vertical-align: middle;\n",
              "    }\n",
              "\n",
              "    .dataframe tbody tr th {\n",
              "        vertical-align: top;\n",
              "    }\n",
              "\n",
              "    .dataframe thead th {\n",
              "        text-align: right;\n",
              "    }\n",
              "</style>\n",
              "<table border=\"1\" class=\"dataframe\">\n",
              "  <thead>\n",
              "    <tr style=\"text-align: right;\">\n",
              "      <th></th>\n",
              "      <th>date</th>\n",
              "      <th>open</th>\n",
              "      <th>high</th>\n",
              "      <th>low</th>\n",
              "      <th>close</th>\n",
              "      <th>volume</th>\n",
              "    </tr>\n",
              "  </thead>\n",
              "  <tbody>\n",
              "    <tr>\n",
              "      <th>0</th>\n",
              "      <td>2004-08-19</td>\n",
              "      <td>100.01</td>\n",
              "      <td>104.06</td>\n",
              "      <td>95.96</td>\n",
              "      <td>100.335</td>\n",
              "      <td>44659000.0</td>\n",
              "    </tr>\n",
              "    <tr>\n",
              "      <th>1</th>\n",
              "      <td>2004-08-20</td>\n",
              "      <td>101.01</td>\n",
              "      <td>109.08</td>\n",
              "      <td>100.50</td>\n",
              "      <td>108.310</td>\n",
              "      <td>22834300.0</td>\n",
              "    </tr>\n",
              "    <tr>\n",
              "      <th>2</th>\n",
              "      <td>2004-08-23</td>\n",
              "      <td>110.76</td>\n",
              "      <td>113.48</td>\n",
              "      <td>109.05</td>\n",
              "      <td>109.400</td>\n",
              "      <td>18256100.0</td>\n",
              "    </tr>\n",
              "    <tr>\n",
              "      <th>3</th>\n",
              "      <td>2004-08-24</td>\n",
              "      <td>111.24</td>\n",
              "      <td>111.60</td>\n",
              "      <td>103.57</td>\n",
              "      <td>104.870</td>\n",
              "      <td>15247300.0</td>\n",
              "    </tr>\n",
              "    <tr>\n",
              "      <th>4</th>\n",
              "      <td>2004-08-25</td>\n",
              "      <td>104.76</td>\n",
              "      <td>108.00</td>\n",
              "      <td>103.88</td>\n",
              "      <td>106.000</td>\n",
              "      <td>9188600.0</td>\n",
              "    </tr>\n",
              "  </tbody>\n",
              "</table>\n",
              "</div>"
            ],
            "text/plain": [
              "        date    open    high     low    close      volume\n",
              "0 2004-08-19  100.01  104.06   95.96  100.335  44659000.0\n",
              "1 2004-08-20  101.01  109.08  100.50  108.310  22834300.0\n",
              "2 2004-08-23  110.76  113.48  109.05  109.400  18256100.0\n",
              "3 2004-08-24  111.24  111.60  103.57  104.870  15247300.0\n",
              "4 2004-08-25  104.76  108.00  103.88  106.000   9188600.0"
            ]
          },
          "metadata": {
            "tags": []
          },
          "execution_count": 15
        }
      ]
    },
    {
      "cell_type": "markdown",
      "metadata": {
        "id": "kcDACt7zQWS9",
        "colab_type": "text"
      },
      "source": [
        "\n",
        "\n",
        "* In this method we have the use of only 'date' and target feature 'close'.so,we will make a new dataframe called as 'data_M_A'"
      ]
    },
    {
      "cell_type": "code",
      "metadata": {
        "id": "JRhvffeDRQso",
        "colab_type": "code",
        "colab": {}
      },
      "source": [
        "#make new dataframe\n",
        "data_M_A=data[['date','close']]"
      ],
      "execution_count": 0,
      "outputs": []
    },
    {
      "cell_type": "code",
      "metadata": {
        "id": "W85vBoBZA4VY",
        "colab_type": "code",
        "colab": {}
      },
      "source": [
        "#splitting in train and test set.\n",
        "train_len=int(0.9*len(data_M_A))    # not using following method for splitting data as it rearrange the the data every time it splitt.\n",
        "train=data_M_A[:train_len]          # x_train,x_valid,y_train,y_valid=train_test_split(data_M_A,y_label,test_size=.15,random_state=0)     # Split the data in two parts i.e. train and validation part.\n",
        "\n",
        "valid=data_M_A[train_len:]"
      ],
      "execution_count": 0,
      "outputs": []
    },
    {
      "cell_type": "markdown",
      "metadata": {
        "id": "f-HL3nCkhdZ0",
        "colab_type": "text"
      },
      "source": [
        "###Prediction"
      ]
    },
    {
      "cell_type": "code",
      "metadata": {
        "id": "T1htPcoYGGCk",
        "colab_type": "code",
        "colab": {}
      },
      "source": [
        "#Making the prediction\n",
        "predictions = []\n",
        "for i in range(0,valid.shape[0]):\n",
        "    a = train['close'][len(train)-valid.shape[0]+i:].sum() + sum(predictions)\n",
        "    b = a/(valid.shape[0])\n",
        "    predictions.append(b)"
      ],
      "execution_count": 0,
      "outputs": []
    },
    {
      "cell_type": "code",
      "metadata": {
        "id": "Fa6sfR89Kp6s",
        "colab_type": "code",
        "outputId": "97a95850-75f2-48e4-988f-92780dac9d12",
        "colab": {
          "base_uri": "https://localhost:8080/",
          "height": 34
        }
      },
      "source": [
        "#Checking the result(RMSE values)\n",
        "\n",
        "ms=mean_squared_error(np.array(valid['close']), predictions)      \n",
        "rms=np.sqrt(ms)\n",
        "rms                                       # Mathematically: rms=np.sqrt(np.mean(np.power((np.array(y_valid)-predictions),2)))"
      ],
      "execution_count": 19,
      "outputs": [
        {
          "output_type": "execute_result",
          "data": {
            "text/plain": [
              "171.80550736328757"
            ]
          },
          "metadata": {
            "tags": []
          },
          "execution_count": 19
        }
      ]
    },
    {
      "cell_type": "markdown",
      "metadata": {
        "id": "afXfqlJVhZVE",
        "colab_type": "text"
      },
      "source": [
        "###Plot"
      ]
    },
    {
      "cell_type": "code",
      "metadata": {
        "id": "mRl_jugEOprC",
        "colab_type": "code",
        "outputId": "e9298963-2f18-4bc8-b81e-06fb7afe9f26",
        "colab": {
          "base_uri": "https://localhost:8080/",
          "height": 606
        }
      },
      "source": [
        "#plot\n",
        "valid['predictions'] = 0\n",
        "valid['predictions'] = predictions\n",
        "plt.figure(figsize=(20,10))\n",
        "plt.plot(train['close'],label=\"train\")\n",
        "plt.plot(valid['close'],label=\"test\")\n",
        "plt.plot(valid['predictions'],label=\"prediction\")\n",
        "#plt.plot(data['close'])\n",
        "plt.legend()\n",
        "plt.xlabel(\"Time\")\n",
        "plt.ylabel(\"close Value\")\n",
        "plt.show()"
      ],
      "execution_count": 20,
      "outputs": [
        {
          "output_type": "display_data",
          "data": {
            "image/png": "[encoded data removed]",
            "text/plain": [
              "<Figure size 1440x720 with 1 Axes>"
            ]
          },
          "metadata": {
            "tags": []
          }
        }
      ]
    },
    {
      "cell_type": "markdown",
      "metadata": {
        "id": "lVpJsmGghJmB",
        "colab_type": "text"
      },
      "source": [
        "###Conclusion\n",
        "\n",
        "\n",
        "*   RMSE value is close to 172 but the result is not very auscpicious.\n",
        "*   As from the plot ,the predicted value are following the same trend as the observed value, first increase then decrease \n",
        "\n"
      ]
    },
    {
      "cell_type": "markdown",
      "metadata": {
        "id": "4pQGYz4Vm9C1",
        "colab_type": "text"
      },
      "source": [
        "##ii). Linear Regression"
      ]
    },
    {
      "cell_type": "markdown",
      "metadata": {
        "id": "EezmTEypnJlA",
        "colab_type": "text"
      },
      "source": [
        "\n",
        "\n",
        "*   This returns an equation that determines the relationship between independent variables and dependent variables('close').                      \n",
        "\n",
        "We will first create a separate dataset, so that any feature engineering based on the model doesn't affect the original dataset.\n",
        "\n"
      ]
    },
    {
      "cell_type": "markdown",
      "metadata": {
        "id": "rh0KszQ9qJXC",
        "colab_type": "text"
      },
      "source": [
        "###Dummy Dataset "
      ]
    },
    {
      "cell_type": "code",
      "metadata": {
        "id": "HUBXEsxYfMGV",
        "colab_type": "code",
        "outputId": "4e261d8b-4b8f-4e4c-89a0-1bdd16c2dc00",
        "colab": {
          "base_uri": "https://localhost:8080/",
          "height": 197
        }
      },
      "source": [
        "data_L_R=data[['date','close']]\n",
        "data_L_R.head()"
      ],
      "execution_count": 21,
      "outputs": [
        {
          "output_type": "execute_result",
          "data": {
            "text/html": [
              "<div>\n",
              "<style scoped>\n",
              "    .dataframe tbody tr th:only-of-type {\n",
              "        vertical-align: middle;\n",
              "    }\n",
              "\n",
              "    .dataframe tbody tr th {\n",
              "        vertical-align: top;\n",
              "    }\n",
              "\n",
              "    .dataframe thead th {\n",
              "        text-align: right;\n",
              "    }\n",
              "</style>\n",
              "<table border=\"1\" class=\"dataframe\">\n",
              "  <thead>\n",
              "    <tr style=\"text-align: right;\">\n",
              "      <th></th>\n",
              "      <th>date</th>\n",
              "      <th>close</th>\n",
              "    </tr>\n",
              "  </thead>\n",
              "  <tbody>\n",
              "    <tr>\n",
              "      <th>0</th>\n",
              "      <td>2004-08-19</td>\n",
              "      <td>100.335</td>\n",
              "    </tr>\n",
              "    <tr>\n",
              "      <th>1</th>\n",
              "      <td>2004-08-20</td>\n",
              "      <td>108.310</td>\n",
              "    </tr>\n",
              "    <tr>\n",
              "      <th>2</th>\n",
              "      <td>2004-08-23</td>\n",
              "      <td>109.400</td>\n",
              "    </tr>\n",
              "    <tr>\n",
              "      <th>3</th>\n",
              "      <td>2004-08-24</td>\n",
              "      <td>104.870</td>\n",
              "    </tr>\n",
              "    <tr>\n",
              "      <th>4</th>\n",
              "      <td>2004-08-25</td>\n",
              "      <td>106.000</td>\n",
              "    </tr>\n",
              "  </tbody>\n",
              "</table>\n",
              "</div>"
            ],
            "text/plain": [
              "        date    close\n",
              "0 2004-08-19  100.335\n",
              "1 2004-08-20  108.310\n",
              "2 2004-08-23  109.400\n",
              "3 2004-08-24  104.870\n",
              "4 2004-08-25  106.000"
            ]
          },
          "metadata": {
            "tags": []
          },
          "execution_count": 21
        }
      ]
    },
    {
      "cell_type": "code",
      "metadata": {
        "id": "yf41U7k0aZxo",
        "colab_type": "code",
        "colab": {}
      },
      "source": [
        "#setting index as date value\n",
        "data_L_R.index=data_L_R['date']"
      ],
      "execution_count": 0,
      "outputs": []
    },
    {
      "cell_type": "markdown",
      "metadata": {
        "id": "qj76RxeZqgUI",
        "colab_type": "text"
      },
      "source": [
        "###Feature_Engineering\n"
      ]
    },
    {
      "cell_type": "markdown",
      "metadata": {
        "id": "NZMMMYb2v6v5",
        "colab_type": "text"
      },
      "source": [
        "* we can extract more features from 'date' column other than 'day','month' and 'year' like :\n",
        "\n",
        "*   'Dayofweek',\n",
        "*   'Dayofyear',\n",
        "\n",
        "*   'Is_month_end' or 'Is_month_start' etc.\n",
        "\n",
        "\n",
        "\n",
        "\n",
        "\n",
        "\n",
        " \n",
        "\n"
      ]
    },
    {
      "cell_type": "code",
      "metadata": {
        "id": "xnVxRPk4pxXc",
        "colab_type": "code",
        "outputId": "86067104-2f5a-4531-83ca-0e070b94566f",
        "colab": {
          "base_uri": "https://localhost:8080/",
          "height": 1000
        }
      },
      "source": [
        "!pip install fastai==0.7.0  #install fastai for using structured module"
      ],
      "execution_count": 23,
      "outputs": [
        {
          "output_type": "stream",
          "text": [
            "Collecting fastai==0.7.0\n",
            "  Using cached https://files.pythonhosted.org/packages/50/6d/9d0d6e17a78b0598d5e8c49a0d03ffc7ff265ae62eca3e2345fab14edb9b/fastai-0.7.0-py3-none-any.whl\n",
            "Requirement already satisfied: certifi in /usr/local/lib/python3.6/dist-packages (from fastai==0.7.0) (2019.11.28)\n",
            "Requirement already satisfied: python-dateutil in /usr/local/lib/python3.6/dist-packages (from fastai==0.7.0) (2.6.1)\n",
            "Requirement already satisfied: html5lib in /usr/local/lib/python3.6/dist-packages (from fastai==0.7.0) (1.0.1)\n",
            "Requirement already satisfied: jupyter in /usr/local/lib/python3.6/dist-packages (from fastai==0.7.0) (1.0.0)\n",
            "Requirement already satisfied: numpy in /usr/local/lib/python3.6/dist-packages (from fastai==0.7.0) (1.17.4)\n",
            "Requirement already satisfied: Pillow in /usr/local/lib/python3.6/dist-packages (from fastai==0.7.0) (4.3.0)\n",
            "Collecting torch<0.4\n",
            "  Using cached https://files.pythonhosted.org/packages/5b/a5/e8b50b55b1abac9f1e3346c4242f1e42a82d368a8442cbd50c532922f6c4/torch-0.3.1-cp36-cp36m-manylinux1_x86_64.whl\n",
            "Collecting isoweek\n",
            "  Downloading https://files.pythonhosted.org/packages/c2/d4/fe7e2637975c476734fcbf53776e650a29680194eb0dd21dbdc020ca92de/isoweek-1.3.3-py2.py3-none-any.whl\n",
            "Requirement already satisfied: opencv-python in /usr/local/lib/python3.6/dist-packages (from fastai==0.7.0) (4.1.2.30)\n",
            "Requirement already satisfied: simplegeneric in /usr/local/lib/python3.6/dist-packages (from fastai==0.7.0) (0.8.1)\n",
            "Requirement already satisfied: testpath in /usr/local/lib/python3.6/dist-packages (from fastai==0.7.0) (0.4.4)\n",
            "Requirement already satisfied: Jinja2 in /usr/local/lib/python3.6/dist-packages (from fastai==0.7.0) (2.10.3)\n",
            "Requirement already satisfied: bleach in /usr/local/lib/python3.6/dist-packages (from fastai==0.7.0) (3.1.0)\n",
            "Requirement already satisfied: ipykernel in /usr/local/lib/python3.6/dist-packages (from fastai==0.7.0) (4.6.1)\n",
            "Requirement already satisfied: sklearn-pandas in /usr/local/lib/python3.6/dist-packages (from fastai==0.7.0) (1.8.0)\n",
            "Requirement already satisfied: MarkupSafe in /usr/local/lib/python3.6/dist-packages (from fastai==0.7.0) (1.1.1)\n",
            "Requirement already satisfied: pyzmq in /usr/local/lib/python3.6/dist-packages (from fastai==0.7.0) (17.0.0)\n",
            "Requirement already satisfied: jedi in /usr/local/lib/python3.6/dist-packages (from fastai==0.7.0) (0.15.1)\n",
            "Requirement already satisfied: ipython-genutils in /usr/local/lib/python3.6/dist-packages (from fastai==0.7.0) (0.2.0)\n",
            "Requirement already satisfied: pyparsing in /usr/local/lib/python3.6/dist-packages (from fastai==0.7.0) (2.4.5)\n",
            "Requirement already satisfied: seaborn in /usr/local/lib/python3.6/dist-packages (from fastai==0.7.0) (0.9.0)\n",
            "Requirement already satisfied: torchvision in /usr/local/lib/python3.6/dist-packages (from fastai==0.7.0) (0.4.2)\n",
            "Requirement already satisfied: Pygments in /usr/local/lib/python3.6/dist-packages (from fastai==0.7.0) (2.1.3)\n",
            "Requirement already satisfied: ipywidgets in /usr/local/lib/python3.6/dist-packages (from fastai==0.7.0) (7.5.1)\n",
            "Requirement already satisfied: pickleshare in /usr/local/lib/python3.6/dist-packages (from fastai==0.7.0) (0.7.5)\n",
            "Requirement already satisfied: webencodings in /usr/local/lib/python3.6/dist-packages (from fastai==0.7.0) (0.5.1)\n",
            "Requirement already satisfied: matplotlib in /usr/local/lib/python3.6/dist-packages (from fastai==0.7.0) (3.1.2)\n",
            "Requirement already satisfied: scipy in /usr/local/lib/python3.6/dist-packages (from fastai==0.7.0) (1.3.3)\n",
            "Requirement already satisfied: pandas in /usr/local/lib/python3.6/dist-packages (from fastai==0.7.0) (0.25.3)\n",
            "Requirement already satisfied: PyYAML in /usr/local/lib/python3.6/dist-packages (from fastai==0.7.0) (3.13)\n",
            "Requirement already satisfied: feather-format in /usr/local/lib/python3.6/dist-packages (from fastai==0.7.0) (0.4.0)\n",
            "Requirement already satisfied: jsonschema in /usr/local/lib/python3.6/dist-packages (from fastai==0.7.0) (2.6.0)\n",
            "Requirement already satisfied: ptyprocess in /usr/local/lib/python3.6/dist-packages (from fastai==0.7.0) (0.6.0)\n",
            "Collecting pandas-summary\n",
            "  Using cached https://files.pythonhosted.org/packages/f5/20/865d4785f86e86f7ad7ebd52fc14810ef59ef13cd959f1363a2615d1c665/pandas_summary-0.0.7-py2.py3-none-any.whl\n",
            "Requirement already satisfied: torchtext in /usr/local/lib/python3.6/dist-packages (from fastai==0.7.0) (0.3.1)\n",
            "Requirement already satisfied: traitlets in /usr/local/lib/python3.6/dist-packages (from fastai==0.7.0) (4.3.3)\n",
            "Collecting bcolz\n",
            "\u001b[?25l  Downloading https://files.pythonhosted.org/packages/5c/4e/23942de9d5c0fb16f10335fa83e52b431bcb8c0d4a8419c9ac206268c279/bcolz-1.2.1.tar.gz (1.5MB)\n",
            "\u001b[K     |████████████████████████████████| 1.5MB 9.8MB/s \n",
            "\u001b[?25hRequirement already satisfied: pytz in /usr/local/lib/python3.6/dist-packages (from fastai==0.7.0) (2018.9)\n",
            "Requirement already satisfied: widgetsnbextension in /usr/local/lib/python3.6/dist-packages (from fastai==0.7.0) (3.5.1)\n",
            "Requirement already satisfied: decorator in /usr/local/lib/python3.6/dist-packages (from fastai==0.7.0) (4.4.1)\n",
            "Requirement already satisfied: plotnine in /usr/local/lib/python3.6/dist-packages (from fastai==0.7.0) (0.5.1)\n",
            "Requirement already satisfied: wcwidth in /usr/local/lib/python3.6/dist-packages (from fastai==0.7.0) (0.1.7)\n",
            "Requirement already satisfied: ipython in /usr/local/lib/python3.6/dist-packages (from fastai==0.7.0) (5.5.0)\n",
            "Requirement already satisfied: tornado in /usr/local/lib/python3.6/dist-packages (from fastai==0.7.0) (4.5.3)\n",
            "Requirement already satisfied: cycler in /usr/local/lib/python3.6/dist-packages (from fastai==0.7.0) (0.10.0)\n",
            "Requirement already satisfied: entrypoints in /usr/local/lib/python3.6/dist-packages (from fastai==0.7.0) (0.3)\n",
            "Requirement already satisfied: graphviz in /usr/local/lib/python3.6/dist-packages (from fastai==0.7.0) (0.10.1)\n",
            "Requirement already satisfied: tqdm in /usr/local/lib/python3.6/dist-packages (from fastai==0.7.0) (4.28.1)\n",
            "Requirement already satisfied: six>=1.5 in /usr/local/lib/python3.6/dist-packages (from python-dateutil->fastai==0.7.0) (1.12.0)\n",
            "Requirement already satisfied: jupyter-console in /usr/local/lib/python3.6/dist-packages (from jupyter->fastai==0.7.0) (5.2.0)\n",
            "Requirement already satisfied: nbconvert in /usr/local/lib/python3.6/dist-packages (from jupyter->fastai==0.7.0) (5.6.1)\n",
            "Requirement already satisfied: qtconsole in /usr/local/lib/python3.6/dist-packages (from jupyter->fastai==0.7.0) (4.6.0)\n",
            "Requirement already satisfied: notebook in /usr/local/lib/python3.6/dist-packages (from jupyter->fastai==0.7.0) (5.2.2)\n",
            "Requirement already satisfied: olefile in /usr/local/lib/python3.6/dist-packages (from Pillow->fastai==0.7.0) (0.46)\n",
            "Requirement already satisfied: jupyter-client in /usr/local/lib/python3.6/dist-packages (from ipykernel->fastai==0.7.0) (5.3.4)\n",
            "Requirement already satisfied: scikit-learn>=0.15.0 in /usr/local/lib/python3.6/dist-packages (from sklearn-pandas->fastai==0.7.0) (0.21.3)\n",
            "Requirement already satisfied: parso>=0.5.0 in /usr/local/lib/python3.6/dist-packages (from jedi->fastai==0.7.0) (0.5.1)\n",
            "Requirement already satisfied: nbformat>=4.2.0 in /usr/local/lib/python3.6/dist-packages (from ipywidgets->fastai==0.7.0) (4.4.0)\n",
            "Requirement already satisfied: kiwisolver>=1.0.1 in /usr/local/lib/python3.6/dist-packages (from matplotlib->fastai==0.7.0) (1.1.0)\n",
            "Requirement already satisfied: pyarrow>=0.4.0 in /usr/local/lib/python3.6/dist-packages (from feather-format->fastai==0.7.0) (0.14.1)\n",
            "Requirement already satisfied: requests in /usr/local/lib/python3.6/dist-packages (from torchtext->fastai==0.7.0) (2.21.0)\n",
            "Requirement already satisfied: statsmodels>=0.8.0 in /usr/local/lib/python3.6/dist-packages (from plotnine->fastai==0.7.0) (0.10.2)\n",
            "Requirement already satisfied: descartes>=1.1.0 in /usr/local/lib/python3.6/dist-packages (from plotnine->fastai==0.7.0) (1.1.0)\n",
            "Requirement already satisfied: mizani>=0.5.2 in /usr/local/lib/python3.6/dist-packages (from plotnine->fastai==0.7.0) (0.5.4)\n",
            "Requirement already satisfied: patsy>=0.4.1 in /usr/local/lib/python3.6/dist-packages (from plotnine->fastai==0.7.0) (0.5.1)\n",
            "Requirement already satisfied: prompt-toolkit<2.0.0,>=1.0.4 in /usr/local/lib/python3.6/dist-packages (from ipython->fastai==0.7.0) (1.0.18)\n",
            "Requirement already satisfied: setuptools>=18.5 in /usr/local/lib/python3.6/dist-packages (from ipython->fastai==0.7.0) (42.0.2)\n",
            "Requirement already satisfied: pexpect; sys_platform != \"win32\" in /usr/local/lib/python3.6/dist-packages (from ipython->fastai==0.7.0) (4.7.0)\n",
            "Requirement already satisfied: jupyter-core in /usr/local/lib/python3.6/dist-packages (from nbconvert->jupyter->fastai==0.7.0) (4.6.1)\n",
            "Requirement already satisfied: defusedxml in /usr/local/lib/python3.6/dist-packages (from nbconvert->jupyter->fastai==0.7.0) (0.6.0)\n",
            "Requirement already satisfied: pandocfilters>=1.4.1 in /usr/local/lib/python3.6/dist-packages (from nbconvert->jupyter->fastai==0.7.0) (1.4.2)\n",
            "Requirement already satisfied: mistune<2,>=0.8.1 in /usr/local/lib/python3.6/dist-packages (from nbconvert->jupyter->fastai==0.7.0) (0.8.4)\n",
            "Requirement already satisfied: terminado>=0.3.3; sys_platform != \"win32\" in /usr/local/lib/python3.6/dist-packages (from notebook->jupyter->fastai==0.7.0) (0.8.3)\n",
            "Requirement already satisfied: joblib>=0.11 in /usr/local/lib/python3.6/dist-packages (from scikit-learn>=0.15.0->sklearn-pandas->fastai==0.7.0) (0.14.0)\n",
            "Requirement already satisfied: urllib3<1.25,>=1.21.1 in /usr/local/lib/python3.6/dist-packages (from requests->torchtext->fastai==0.7.0) (1.24.3)\n",
            "Requirement already satisfied: chardet<3.1.0,>=3.0.2 in /usr/local/lib/python3.6/dist-packages (from requests->torchtext->fastai==0.7.0) (3.0.4)\n",
            "Requirement already satisfied: idna<2.9,>=2.5 in /usr/local/lib/python3.6/dist-packages (from requests->torchtext->fastai==0.7.0) (2.8)\n",
            "Requirement already satisfied: palettable in /usr/local/lib/python3.6/dist-packages (from mizani>=0.5.2->plotnine->fastai==0.7.0) (3.3.0)\n",
            "Building wheels for collected packages: bcolz\n",
            "  Building wheel for bcolz (setup.py) ... \u001b[?25l\u001b[?25hdone\n",
            "  Created wheel for bcolz: filename=bcolz-1.2.1-cp36-cp36m-linux_x86_64.whl size=2661244 sha256=37772a83a86e054b461dbd97e26925f5161f2d83514e63ba0fc6f5641e5f4d76\n",
            "  Stored in directory: /root/.cache/pip/wheels/9f/78/26/fb8c0acb91a100dc8914bf236c4eaa4b207cb876893c40b745\n",
            "Successfully built bcolz\n",
            "\u001b[31mERROR: torchvision 0.4.2 has requirement torch==1.3.1, but you'll have torch 0.3.1 which is incompatible.\u001b[0m\n",
            "Installing collected packages: torch, isoweek, pandas-summary, bcolz, fastai\n",
            "  Found existing installation: torch 1.3.1\n",
            "    Uninstalling torch-1.3.1:\n",
            "      Successfully uninstalled torch-1.3.1\n",
            "  Found existing installation: fastai 1.0.59\n",
            "    Uninstalling fastai-1.0.59:\n",
            "      Successfully uninstalled fastai-1.0.59\n",
            "Successfully installed bcolz-1.2.1 fastai-0.7.0 isoweek-1.3.3 pandas-summary-0.0.7 torch-0.3.1\n"
          ],
          "name": "stdout"
        }
      ]
    },
    {
      "cell_type": "code",
      "metadata": {
        "id": "9-uJbmt5rQq1",
        "colab_type": "code",
        "colab": {}
      },
      "source": [
        "from fastai.structured import add_datepart\n",
        "add_datepart(data_L_R,'date')"
      ],
      "execution_count": 0,
      "outputs": []
    },
    {
      "cell_type": "code",
      "metadata": {
        "id": "lblRUiMkuHEL",
        "colab_type": "code",
        "outputId": "83511f14-afc9-45c6-edeb-11aab38b6f01",
        "colab": {
          "base_uri": "https://localhost:8080/",
          "height": 227
        }
      },
      "source": [
        "data_L_R.head()"
      ],
      "execution_count": 25,
      "outputs": [
        {
          "output_type": "execute_result",
          "data": {
            "text/html": [
              "<div>\n",
              "<style scoped>\n",
              "    .dataframe tbody tr th:only-of-type {\n",
              "        vertical-align: middle;\n",
              "    }\n",
              "\n",
              "    .dataframe tbody tr th {\n",
              "        vertical-align: top;\n",
              "    }\n",
              "\n",
              "    .dataframe thead th {\n",
              "        text-align: right;\n",
              "    }\n",
              "</style>\n",
              "<table border=\"1\" class=\"dataframe\">\n",
              "  <thead>\n",
              "    <tr style=\"text-align: right;\">\n",
              "      <th></th>\n",
              "      <th>close</th>\n",
              "      <th>Year</th>\n",
              "      <th>Month</th>\n",
              "      <th>Week</th>\n",
              "      <th>Day</th>\n",
              "      <th>Dayofweek</th>\n",
              "      <th>Dayofyear</th>\n",
              "      <th>Is_month_end</th>\n",
              "      <th>Is_month_start</th>\n",
              "      <th>Is_quarter_end</th>\n",
              "      <th>Is_quarter_start</th>\n",
              "      <th>Is_year_end</th>\n",
              "      <th>Is_year_start</th>\n",
              "      <th>Elapsed</th>\n",
              "    </tr>\n",
              "    <tr>\n",
              "      <th>date</th>\n",
              "      <th></th>\n",
              "      <th></th>\n",
              "      <th></th>\n",
              "      <th></th>\n",
              "      <th></th>\n",
              "      <th></th>\n",
              "      <th></th>\n",
              "      <th></th>\n",
              "      <th></th>\n",
              "      <th></th>\n",
              "      <th></th>\n",
              "      <th></th>\n",
              "      <th></th>\n",
              "      <th></th>\n",
              "    </tr>\n",
              "  </thead>\n",
              "  <tbody>\n",
              "    <tr>\n",
              "      <th>2004-08-19</th>\n",
              "      <td>100.335</td>\n",
              "      <td>2004</td>\n",
              "      <td>8</td>\n",
              "      <td>34</td>\n",
              "      <td>19</td>\n",
              "      <td>3</td>\n",
              "      <td>232</td>\n",
              "      <td>False</td>\n",
              "      <td>False</td>\n",
              "      <td>False</td>\n",
              "      <td>False</td>\n",
              "      <td>False</td>\n",
              "      <td>False</td>\n",
              "      <td>1092873600</td>\n",
              "    </tr>\n",
              "    <tr>\n",
              "      <th>2004-08-20</th>\n",
              "      <td>108.310</td>\n",
              "      <td>2004</td>\n",
              "      <td>8</td>\n",
              "      <td>34</td>\n",
              "      <td>20</td>\n",
              "      <td>4</td>\n",
              "      <td>233</td>\n",
              "      <td>False</td>\n",
              "      <td>False</td>\n",
              "      <td>False</td>\n",
              "      <td>False</td>\n",
              "      <td>False</td>\n",
              "      <td>False</td>\n",
              "      <td>1092960000</td>\n",
              "    </tr>\n",
              "    <tr>\n",
              "      <th>2004-08-23</th>\n",
              "      <td>109.400</td>\n",
              "      <td>2004</td>\n",
              "      <td>8</td>\n",
              "      <td>35</td>\n",
              "      <td>23</td>\n",
              "      <td>0</td>\n",
              "      <td>236</td>\n",
              "      <td>False</td>\n",
              "      <td>False</td>\n",
              "      <td>False</td>\n",
              "      <td>False</td>\n",
              "      <td>False</td>\n",
              "      <td>False</td>\n",
              "      <td>1093219200</td>\n",
              "    </tr>\n",
              "    <tr>\n",
              "      <th>2004-08-24</th>\n",
              "      <td>104.870</td>\n",
              "      <td>2004</td>\n",
              "      <td>8</td>\n",
              "      <td>35</td>\n",
              "      <td>24</td>\n",
              "      <td>1</td>\n",
              "      <td>237</td>\n",
              "      <td>False</td>\n",
              "      <td>False</td>\n",
              "      <td>False</td>\n",
              "      <td>False</td>\n",
              "      <td>False</td>\n",
              "      <td>False</td>\n",
              "      <td>1093305600</td>\n",
              "    </tr>\n",
              "    <tr>\n",
              "      <th>2004-08-25</th>\n",
              "      <td>106.000</td>\n",
              "      <td>2004</td>\n",
              "      <td>8</td>\n",
              "      <td>35</td>\n",
              "      <td>25</td>\n",
              "      <td>2</td>\n",
              "      <td>238</td>\n",
              "      <td>False</td>\n",
              "      <td>False</td>\n",
              "      <td>False</td>\n",
              "      <td>False</td>\n",
              "      <td>False</td>\n",
              "      <td>False</td>\n",
              "      <td>1093392000</td>\n",
              "    </tr>\n",
              "  </tbody>\n",
              "</table>\n",
              "</div>"
            ],
            "text/plain": [
              "              close  Year  Month  ...  Is_year_end  Is_year_start     Elapsed\n",
              "date                              ...                                        \n",
              "2004-08-19  100.335  2004      8  ...        False          False  1092873600\n",
              "2004-08-20  108.310  2004      8  ...        False          False  1092960000\n",
              "2004-08-23  109.400  2004      8  ...        False          False  1093219200\n",
              "2004-08-24  104.870  2004      8  ...        False          False  1093305600\n",
              "2004-08-25  106.000  2004      8  ...        False          False  1093392000\n",
              "\n",
              "[5 rows x 14 columns]"
            ]
          },
          "metadata": {
            "tags": []
          },
          "execution_count": 25
        }
      ]
    },
    {
      "cell_type": "markdown",
      "metadata": {
        "id": "_3S-AgRSxlfA",
        "colab_type": "text"
      },
      "source": [
        "Elapsed is the timestamp, so we can drop it."
      ]
    },
    {
      "cell_type": "code",
      "metadata": {
        "id": "esrjxp3FvYm8",
        "colab_type": "code",
        "colab": {}
      },
      "source": [
        "#dropping 'Elapsed' column\n",
        "data_L_R=data_L_R.drop('Elapsed',axis=1)"
      ],
      "execution_count": 0,
      "outputs": []
    },
    {
      "cell_type": "code",
      "metadata": {
        "id": "idUhhJsqx0pX",
        "colab_type": "code",
        "outputId": "267de51e-3c80-447a-87f1-fd2caa9fdb3b",
        "colab": {
          "base_uri": "https://localhost:8080/",
          "height": 227
        }
      },
      "source": [
        "data_L_R.head()"
      ],
      "execution_count": 27,
      "outputs": [
        {
          "output_type": "execute_result",
          "data": {
            "text/html": [
              "<div>\n",
              "<style scoped>\n",
              "    .dataframe tbody tr th:only-of-type {\n",
              "        vertical-align: middle;\n",
              "    }\n",
              "\n",
              "    .dataframe tbody tr th {\n",
              "        vertical-align: top;\n",
              "    }\n",
              "\n",
              "    .dataframe thead th {\n",
              "        text-align: right;\n",
              "    }\n",
              "</style>\n",
              "<table border=\"1\" class=\"dataframe\">\n",
              "  <thead>\n",
              "    <tr style=\"text-align: right;\">\n",
              "      <th></th>\n",
              "      <th>close</th>\n",
              "      <th>Year</th>\n",
              "      <th>Month</th>\n",
              "      <th>Week</th>\n",
              "      <th>Day</th>\n",
              "      <th>Dayofweek</th>\n",
              "      <th>Dayofyear</th>\n",
              "      <th>Is_month_end</th>\n",
              "      <th>Is_month_start</th>\n",
              "      <th>Is_quarter_end</th>\n",
              "      <th>Is_quarter_start</th>\n",
              "      <th>Is_year_end</th>\n",
              "      <th>Is_year_start</th>\n",
              "    </tr>\n",
              "    <tr>\n",
              "      <th>date</th>\n",
              "      <th></th>\n",
              "      <th></th>\n",
              "      <th></th>\n",
              "      <th></th>\n",
              "      <th></th>\n",
              "      <th></th>\n",
              "      <th></th>\n",
              "      <th></th>\n",
              "      <th></th>\n",
              "      <th></th>\n",
              "      <th></th>\n",
              "      <th></th>\n",
              "      <th></th>\n",
              "    </tr>\n",
              "  </thead>\n",
              "  <tbody>\n",
              "    <tr>\n",
              "      <th>2004-08-19</th>\n",
              "      <td>100.335</td>\n",
              "      <td>2004</td>\n",
              "      <td>8</td>\n",
              "      <td>34</td>\n",
              "      <td>19</td>\n",
              "      <td>3</td>\n",
              "      <td>232</td>\n",
              "      <td>False</td>\n",
              "      <td>False</td>\n",
              "      <td>False</td>\n",
              "      <td>False</td>\n",
              "      <td>False</td>\n",
              "      <td>False</td>\n",
              "    </tr>\n",
              "    <tr>\n",
              "      <th>2004-08-20</th>\n",
              "      <td>108.310</td>\n",
              "      <td>2004</td>\n",
              "      <td>8</td>\n",
              "      <td>34</td>\n",
              "      <td>20</td>\n",
              "      <td>4</td>\n",
              "      <td>233</td>\n",
              "      <td>False</td>\n",
              "      <td>False</td>\n",
              "      <td>False</td>\n",
              "      <td>False</td>\n",
              "      <td>False</td>\n",
              "      <td>False</td>\n",
              "    </tr>\n",
              "    <tr>\n",
              "      <th>2004-08-23</th>\n",
              "      <td>109.400</td>\n",
              "      <td>2004</td>\n",
              "      <td>8</td>\n",
              "      <td>35</td>\n",
              "      <td>23</td>\n",
              "      <td>0</td>\n",
              "      <td>236</td>\n",
              "      <td>False</td>\n",
              "      <td>False</td>\n",
              "      <td>False</td>\n",
              "      <td>False</td>\n",
              "      <td>False</td>\n",
              "      <td>False</td>\n",
              "    </tr>\n",
              "    <tr>\n",
              "      <th>2004-08-24</th>\n",
              "      <td>104.870</td>\n",
              "      <td>2004</td>\n",
              "      <td>8</td>\n",
              "      <td>35</td>\n",
              "      <td>24</td>\n",
              "      <td>1</td>\n",
              "      <td>237</td>\n",
              "      <td>False</td>\n",
              "      <td>False</td>\n",
              "      <td>False</td>\n",
              "      <td>False</td>\n",
              "      <td>False</td>\n",
              "      <td>False</td>\n",
              "    </tr>\n",
              "    <tr>\n",
              "      <th>2004-08-25</th>\n",
              "      <td>106.000</td>\n",
              "      <td>2004</td>\n",
              "      <td>8</td>\n",
              "      <td>35</td>\n",
              "      <td>25</td>\n",
              "      <td>2</td>\n",
              "      <td>238</td>\n",
              "      <td>False</td>\n",
              "      <td>False</td>\n",
              "      <td>False</td>\n",
              "      <td>False</td>\n",
              "      <td>False</td>\n",
              "      <td>False</td>\n",
              "    </tr>\n",
              "  </tbody>\n",
              "</table>\n",
              "</div>"
            ],
            "text/plain": [
              "              close  Year  Month  ...  Is_quarter_start  Is_year_end  Is_year_start\n",
              "date                              ...                                              \n",
              "2004-08-19  100.335  2004      8  ...             False        False          False\n",
              "2004-08-20  108.310  2004      8  ...             False        False          False\n",
              "2004-08-23  109.400  2004      8  ...             False        False          False\n",
              "2004-08-24  104.870  2004      8  ...             False        False          False\n",
              "2004-08-25  106.000  2004      8  ...             False        False          False\n",
              "\n",
              "[5 rows x 13 columns]"
            ]
          },
          "metadata": {
            "tags": []
          },
          "execution_count": 27
        }
      ]
    },
    {
      "cell_type": "code",
      "metadata": {
        "id": "OAYsx-Aix2F7",
        "colab_type": "code",
        "outputId": "196b7dec-791b-45c4-8ab4-591ca623cc97",
        "colab": {
          "base_uri": "https://localhost:8080/",
          "height": 227
        }
      },
      "source": [
        "data_L_R['mon_fri']=0\n",
        "\n",
        "data_L_R['mon_fri']=[1 if (i==0 or i==4) else 0 for i in data_L_R['Dayofweek']  ] # explanation of \"if else comprehensive list\" : https://colab.research.google.com/drive/1dnubPliz3FdmNFVocK8ERr1MP0BocDnT?authuser=1#scrollTo=UJWzqjkPH9UC\n",
        "data_L_R.head()"
      ],
      "execution_count": 28,
      "outputs": [
        {
          "output_type": "execute_result",
          "data": {
            "text/html": [
              "<div>\n",
              "<style scoped>\n",
              "    .dataframe tbody tr th:only-of-type {\n",
              "        vertical-align: middle;\n",
              "    }\n",
              "\n",
              "    .dataframe tbody tr th {\n",
              "        vertical-align: top;\n",
              "    }\n",
              "\n",
              "    .dataframe thead th {\n",
              "        text-align: right;\n",
              "    }\n",
              "</style>\n",
              "<table border=\"1\" class=\"dataframe\">\n",
              "  <thead>\n",
              "    <tr style=\"text-align: right;\">\n",
              "      <th></th>\n",
              "      <th>close</th>\n",
              "      <th>Year</th>\n",
              "      <th>Month</th>\n",
              "      <th>Week</th>\n",
              "      <th>Day</th>\n",
              "      <th>Dayofweek</th>\n",
              "      <th>Dayofyear</th>\n",
              "      <th>Is_month_end</th>\n",
              "      <th>Is_month_start</th>\n",
              "      <th>Is_quarter_end</th>\n",
              "      <th>Is_quarter_start</th>\n",
              "      <th>Is_year_end</th>\n",
              "      <th>Is_year_start</th>\n",
              "      <th>mon_fri</th>\n",
              "    </tr>\n",
              "    <tr>\n",
              "      <th>date</th>\n",
              "      <th></th>\n",
              "      <th></th>\n",
              "      <th></th>\n",
              "      <th></th>\n",
              "      <th></th>\n",
              "      <th></th>\n",
              "      <th></th>\n",
              "      <th></th>\n",
              "      <th></th>\n",
              "      <th></th>\n",
              "      <th></th>\n",
              "      <th></th>\n",
              "      <th></th>\n",
              "      <th></th>\n",
              "    </tr>\n",
              "  </thead>\n",
              "  <tbody>\n",
              "    <tr>\n",
              "      <th>2004-08-19</th>\n",
              "      <td>100.335</td>\n",
              "      <td>2004</td>\n",
              "      <td>8</td>\n",
              "      <td>34</td>\n",
              "      <td>19</td>\n",
              "      <td>3</td>\n",
              "      <td>232</td>\n",
              "      <td>False</td>\n",
              "      <td>False</td>\n",
              "      <td>False</td>\n",
              "      <td>False</td>\n",
              "      <td>False</td>\n",
              "      <td>False</td>\n",
              "      <td>0</td>\n",
              "    </tr>\n",
              "    <tr>\n",
              "      <th>2004-08-20</th>\n",
              "      <td>108.310</td>\n",
              "      <td>2004</td>\n",
              "      <td>8</td>\n",
              "      <td>34</td>\n",
              "      <td>20</td>\n",
              "      <td>4</td>\n",
              "      <td>233</td>\n",
              "      <td>False</td>\n",
              "      <td>False</td>\n",
              "      <td>False</td>\n",
              "      <td>False</td>\n",
              "      <td>False</td>\n",
              "      <td>False</td>\n",
              "      <td>1</td>\n",
              "    </tr>\n",
              "    <tr>\n",
              "      <th>2004-08-23</th>\n",
              "      <td>109.400</td>\n",
              "      <td>2004</td>\n",
              "      <td>8</td>\n",
              "      <td>35</td>\n",
              "      <td>23</td>\n",
              "      <td>0</td>\n",
              "      <td>236</td>\n",
              "      <td>False</td>\n",
              "      <td>False</td>\n",
              "      <td>False</td>\n",
              "      <td>False</td>\n",
              "      <td>False</td>\n",
              "      <td>False</td>\n",
              "      <td>1</td>\n",
              "    </tr>\n",
              "    <tr>\n",
              "      <th>2004-08-24</th>\n",
              "      <td>104.870</td>\n",
              "      <td>2004</td>\n",
              "      <td>8</td>\n",
              "      <td>35</td>\n",
              "      <td>24</td>\n",
              "      <td>1</td>\n",
              "      <td>237</td>\n",
              "      <td>False</td>\n",
              "      <td>False</td>\n",
              "      <td>False</td>\n",
              "      <td>False</td>\n",
              "      <td>False</td>\n",
              "      <td>False</td>\n",
              "      <td>0</td>\n",
              "    </tr>\n",
              "    <tr>\n",
              "      <th>2004-08-25</th>\n",
              "      <td>106.000</td>\n",
              "      <td>2004</td>\n",
              "      <td>8</td>\n",
              "      <td>35</td>\n",
              "      <td>25</td>\n",
              "      <td>2</td>\n",
              "      <td>238</td>\n",
              "      <td>False</td>\n",
              "      <td>False</td>\n",
              "      <td>False</td>\n",
              "      <td>False</td>\n",
              "      <td>False</td>\n",
              "      <td>False</td>\n",
              "      <td>0</td>\n",
              "    </tr>\n",
              "  </tbody>\n",
              "</table>\n",
              "</div>"
            ],
            "text/plain": [
              "              close  Year  Month  ...  Is_year_end  Is_year_start  mon_fri\n",
              "date                              ...                                     \n",
              "2004-08-19  100.335  2004      8  ...        False          False        0\n",
              "2004-08-20  108.310  2004      8  ...        False          False        1\n",
              "2004-08-23  109.400  2004      8  ...        False          False        1\n",
              "2004-08-24  104.870  2004      8  ...        False          False        0\n",
              "2004-08-25  106.000  2004      8  ...        False          False        0\n",
              "\n",
              "[5 rows x 14 columns]"
            ]
          },
          "metadata": {
            "tags": []
          },
          "execution_count": 28
        }
      ]
    },
    {
      "cell_type": "markdown",
      "metadata": {
        "id": "lekKRLYlNTKa",
        "colab_type": "text"
      },
      "source": [
        "if the day of the week is equal to 0 or 4, the 'mon_fri' column will be 1 otherwise it will be 0."
      ]
    },
    {
      "cell_type": "markdown",
      "metadata": {
        "id": "gvKbVkxYNrIy",
        "colab_type": "text"
      },
      "source": [
        "###Train_Test split "
      ]
    },
    {
      "cell_type": "code",
      "metadata": {
        "id": "1N69YZUHW98n",
        "colab_type": "code",
        "colab": {}
      },
      "source": [
        "#splitting in train and test set.\n",
        "train_len=int(0.9*len(data_L_R))    # not using following method for splitting data as it rearrange the the data every time it splitt.\n",
        "train=data_L_R[:train_len]          # x_train,x_valid,y_train,y_valid=train_test_split(data_M_A,y_label,test_size=.15,random_state=0)     # Split the data in two parts i.e. train and validation part.\n",
        "\n",
        "valid=data_L_R[train_len:]"
      ],
      "execution_count": 0,
      "outputs": []
    },
    {
      "cell_type": "code",
      "metadata": {
        "id": "ugbQu_W4XjdZ",
        "colab_type": "code",
        "colab": {}
      },
      "source": [
        "x_train=train.drop('close',axis=1)\n",
        "y_train=train['close']\n",
        "x_valid=valid.drop('close',axis=1)\n",
        "y_valid=valid['close']"
      ],
      "execution_count": 0,
      "outputs": []
    },
    {
      "cell_type": "markdown",
      "metadata": {
        "id": "-aiy7ugKRJ9Z",
        "colab_type": "text"
      },
      "source": [
        "###Model_Training"
      ]
    },
    {
      "cell_type": "code",
      "metadata": {
        "id": "_0leR9jrPMqZ",
        "colab_type": "code",
        "outputId": "a63a5545-22b7-4f1a-ea4c-d1021272289d",
        "colab": {
          "base_uri": "https://localhost:8080/",
          "height": 34
        }
      },
      "source": [
        "from sklearn.linear_model import LinearRegression\n",
        "L_R_Model=LinearRegression()\n",
        "L_R_Model.fit(x_train,y_train)"
      ],
      "execution_count": 31,
      "outputs": [
        {
          "output_type": "execute_result",
          "data": {
            "text/plain": [
              "LinearRegression(copy_X=True, fit_intercept=True, n_jobs=None, normalize=False)"
            ]
          },
          "metadata": {
            "tags": []
          },
          "execution_count": 31
        }
      ]
    },
    {
      "cell_type": "markdown",
      "metadata": {
        "id": "7Lmli4XBRQd9",
        "colab_type": "text"
      },
      "source": [
        "###Prediction"
      ]
    },
    {
      "cell_type": "code",
      "metadata": {
        "id": "3cnD-m2cP9ib",
        "colab_type": "code",
        "colab": {}
      },
      "source": [
        "Predict_L_R=L_R_Model.predict(x_valid)"
      ],
      "execution_count": 0,
      "outputs": []
    },
    {
      "cell_type": "markdown",
      "metadata": {
        "id": "qecBdoz4RUAL",
        "colab_type": "text"
      },
      "source": [
        "###Evaluation"
      ]
    },
    {
      "cell_type": "code",
      "metadata": {
        "id": "w-hNoepRQLio",
        "colab_type": "code",
        "outputId": "3735f2bb-9c04-4a19-9be8-a8584292ddaa",
        "colab": {
          "base_uri": "https://localhost:8080/",
          "height": 34
        }
      },
      "source": [
        "#Checking the result(RMSE values)\n",
        "\n",
        "ms=mean_squared_error(y_valid, Predict_L_R)      \n",
        "rms=np.sqrt(ms)\n",
        "rms                                       # Mathematically: rms=np.sqrt(np.mean(np.power((np.array(y_valid)-predictions),2)))"
      ],
      "execution_count": 33,
      "outputs": [
        {
          "output_type": "execute_result",
          "data": {
            "text/plain": [
              "214.86830991943964"
            ]
          },
          "metadata": {
            "tags": []
          },
          "execution_count": 33
        }
      ]
    },
    {
      "cell_type": "markdown",
      "metadata": {
        "id": "ZItodPCdb6ly",
        "colab_type": "text"
      },
      "source": [
        "Linear Regression perform poorly than Moving Average technnique as RMSE value for Linear Regression is higher than Moving Average."
      ]
    },
    {
      "cell_type": "markdown",
      "metadata": {
        "id": "AzXGXa5rRjHi",
        "colab_type": "text"
      },
      "source": [
        "###Plot"
      ]
    },
    {
      "cell_type": "code",
      "metadata": {
        "id": "gziLcKEQQc_U",
        "colab_type": "code",
        "outputId": "4fd04145-4e40-4f42-e5ab-f7b68bb6736a",
        "colab": {
          "base_uri": "https://localhost:8080/",
          "height": 606
        }
      },
      "source": [
        "#plot\n",
        "valid['predictions'] = 0\n",
        "valid['predictions'] = Predict_L_R\n",
        "plt.figure(figsize=(20,10))\n",
        "plt.plot(train['close'],label=\"train\")\n",
        "plt.plot(valid['close'],label=\"test\")\n",
        "plt.plot(valid['predictions'],label=\"prediction\")\n",
        "plt.legend()\n",
        "plt.xlabel(\"Time\")\n",
        "plt.ylabel(\"close Value\")\n",
        "plt.show()"
      ],
      "execution_count": 34,
      "outputs": [
        {
          "output_type": "display_data",
          "data": {
            "image/png": "[encoded data removed]",
            "text/plain": [
              "<Figure size 1440x720 with 1 Axes>"
            ]
          },
          "metadata": {
            "tags": []
          }
        }
      ]
    },
    {
      "cell_type": "markdown",
      "metadata": {
        "id": "1oWANMRfZNSp",
        "colab_type": "text"
      },
      "source": [
        "\n",
        "\n",
        "*   Linear Regresion is  simple technique and easy to interpret.\n",
        "*   But it is prone to overfitting it performs well for problem where the independent features are useful for determining the target value.\n",
        "\n",
        "\n",
        "\n",
        "\n"
      ]
    },
    {
      "cell_type": "code",
      "metadata": {
        "id": "Q617l4ACWp9E",
        "colab_type": "code",
        "colab": {}
      },
      "source": [
        ""
      ],
      "execution_count": 0,
      "outputs": []
    },
    {
      "cell_type": "markdown",
      "metadata": {
        "id": "XL0hgHFFeClU",
        "colab_type": "text"
      },
      "source": [
        "##iii) Auto Arima\n",
        "*   Polpular Statistical method for time series forecasting.\n",
        "*   It process past values  to predict the future values."
      ]
    },
    {
      "cell_type": "code",
      "metadata": {
        "id": "3jjAK3ROhdfF",
        "colab_type": "code",
        "outputId": "dd844d15-e779-46e5-eb87-e645037683a6",
        "colab": {
          "base_uri": "https://localhost:8080/",
          "height": 290
        }
      },
      "source": [
        "pip install pyramid-arima "
      ],
      "execution_count": 35,
      "outputs": [
        {
          "output_type": "stream",
          "text": [
            "Collecting pyramid-arima\n",
            "\u001b[?25l  Downloading https://files.pythonhosted.org/packages/5c/84/57422f2a6ade3161c586545e38b518ba1b7ab30ee4a4acc29110c0aba2bc/pyramid_arima-0.9.0-cp36-cp36m-manylinux1_x86_64.whl (597kB)\n",
            "\r\u001b[K     |▌                               | 10kB 20.8MB/s eta 0:00:01\r\u001b[K     |█                               | 20kB 4.3MB/s eta 0:00:01\r\u001b[K     |█▋                              | 30kB 6.1MB/s eta 0:00:01\r\u001b[K     |██▏                             | 40kB 7.8MB/s eta 0:00:01\r\u001b[K     |██▊                             | 51kB 5.0MB/s eta 0:00:01\r\u001b[K     |███▎                            | 61kB 5.8MB/s eta 0:00:01\r\u001b[K     |███▉                            | 71kB 6.6MB/s eta 0:00:01\r\u001b[K     |████▍                           | 81kB 7.3MB/s eta 0:00:01\r\u001b[K     |█████                           | 92kB 8.1MB/s eta 0:00:01\r\u001b[K     |█████▌                          | 102kB 6.6MB/s eta 0:00:01\r\u001b[K     |██████                          | 112kB 6.6MB/s eta 0:00:01\r\u001b[K     |██████▋                         | 122kB 6.6MB/s eta 0:00:01\r\u001b[K     |███████▏                        | 133kB 6.6MB/s eta 0:00:01\r\u001b[K     |███████▊                        | 143kB 6.6MB/s eta 0:00:01\r\u001b[K     |████████▏                       | 153kB 6.6MB/s eta 0:00:01\r\u001b[K     |████████▊                       | 163kB 6.6MB/s eta 0:00:01\r\u001b[K     |█████████▎                      | 174kB 6.6MB/s eta 0:00:01\r\u001b[K     |█████████▉                      | 184kB 6.6MB/s eta 0:00:01\r\u001b[K     |██████████▍                     | 194kB 6.6MB/s eta 0:00:01\r\u001b[K     |███████████                     | 204kB 6.6MB/s eta 0:00:01\r\u001b[K     |███████████▌                    | 215kB 6.6MB/s eta 0:00:01\r\u001b[K     |████████████                    | 225kB 6.6MB/s eta 0:00:01\r\u001b[K     |████████████▋                   | 235kB 6.6MB/s eta 0:00:01\r\u001b[K     |█████████████▏                  | 245kB 6.6MB/s eta 0:00:01\r\u001b[K     |█████████████▊                  | 256kB 6.6MB/s eta 0:00:01\r\u001b[K     |██████████████▎                 | 266kB 6.6MB/s eta 0:00:01\r\u001b[K     |██████████████▉                 | 276kB 6.6MB/s eta 0:00:01\r\u001b[K     |███████████████▍                | 286kB 6.6MB/s eta 0:00:01\r\u001b[K     |████████████████                | 296kB 6.6MB/s eta 0:00:01\r\u001b[K     |████████████████▍               | 307kB 6.6MB/s eta 0:00:01\r\u001b[K     |█████████████████               | 317kB 6.6MB/s eta 0:00:01\r\u001b[K     |█████████████████▌              | 327kB 6.6MB/s eta 0:00:01\r\u001b[K     |██████████████████              | 337kB 6.6MB/s eta 0:00:01\r\u001b[K     |██████████████████▋             | 348kB 6.6MB/s eta 0:00:01\r\u001b[K     |███████████████████▏            | 358kB 6.6MB/s eta 0:00:01\r\u001b[K     |███████████████████▊            | 368kB 6.6MB/s eta 0:00:01\r\u001b[K     |████████████████████▎           | 378kB 6.6MB/s eta 0:00:01\r\u001b[K     |████████████████████▉           | 389kB 6.6MB/s eta 0:00:01\r\u001b[K     |█████████████████████▍          | 399kB 6.6MB/s eta 0:00:01\r\u001b[K     |██████████████████████          | 409kB 6.6MB/s eta 0:00:01\r\u001b[K     |██████████████████████▌         | 419kB 6.6MB/s eta 0:00:01\r\u001b[K     |███████████████████████         | 430kB 6.6MB/s eta 0:00:01\r\u001b[K     |███████████████████████▋        | 440kB 6.6MB/s eta 0:00:01\r\u001b[K     |████████████████████████▏       | 450kB 6.6MB/s eta 0:00:01\r\u001b[K     |████████████████████████▋       | 460kB 6.6MB/s eta 0:00:01\r\u001b[K     |█████████████████████████▏      | 471kB 6.6MB/s eta 0:00:01\r\u001b[K     |█████████████████████████▊      | 481kB 6.6MB/s eta 0:00:01\r\u001b[K     |██████████████████████████▎     | 491kB 6.6MB/s eta 0:00:01\r\u001b[K     |██████████████████████████▉     | 501kB 6.6MB/s eta 0:00:01\r\u001b[K     |███████████████████████████▍    | 512kB 6.6MB/s eta 0:00:01\r\u001b[K     |████████████████████████████    | 522kB 6.6MB/s eta 0:00:01\r\u001b[K     |████████████████████████████▌   | 532kB 6.6MB/s eta 0:00:01\r\u001b[K     |█████████████████████████████   | 542kB 6.6MB/s eta 0:00:01\r\u001b[K     |█████████████████████████████▋  | 552kB 6.6MB/s eta 0:00:01\r\u001b[K     |██████████████████████████████▏ | 563kB 6.6MB/s eta 0:00:01\r\u001b[K     |██████████████████████████████▊ | 573kB 6.6MB/s eta 0:00:01\r\u001b[K     |███████████████████████████████▎| 583kB 6.6MB/s eta 0:00:01\r\u001b[K     |███████████████████████████████▉| 593kB 6.6MB/s eta 0:00:01\r\u001b[K     |████████████████████████████████| 604kB 6.6MB/s \n",
            "\u001b[?25hRequirement already satisfied: statsmodels>=0.9.0 in /usr/local/lib/python3.6/dist-packages (from pyramid-arima) (0.10.2)\n",
            "Requirement already satisfied: scikit-learn>=0.17 in /usr/local/lib/python3.6/dist-packages (from pyramid-arima) (0.21.3)\n",
            "Requirement already satisfied: numpy>=1.10 in /usr/local/lib/python3.6/dist-packages (from pyramid-arima) (1.17.4)\n",
            "Requirement already satisfied: scipy>=0.9 in /usr/local/lib/python3.6/dist-packages (from pyramid-arima) (1.3.3)\n",
            "Requirement already satisfied: Cython>=0.23 in /usr/local/lib/python3.6/dist-packages (from pyramid-arima) (0.29.14)\n",
            "Requirement already satisfied: pandas>=0.19 in /usr/local/lib/python3.6/dist-packages (from pyramid-arima) (0.25.3)\n",
            "Requirement already satisfied: patsy>=0.4.0 in /usr/local/lib/python3.6/dist-packages (from statsmodels>=0.9.0->pyramid-arima) (0.5.1)\n",
            "Requirement already satisfied: joblib>=0.11 in /usr/local/lib/python3.6/dist-packages (from scikit-learn>=0.17->pyramid-arima) (0.14.0)\n",
            "Requirement already satisfied: python-dateutil>=2.6.1 in /usr/local/lib/python3.6/dist-packages (from pandas>=0.19->pyramid-arima) (2.6.1)\n",
            "Requirement already satisfied: pytz>=2017.2 in /usr/local/lib/python3.6/dist-packages (from pandas>=0.19->pyramid-arima) (2018.9)\n",
            "Requirement already satisfied: six in /usr/local/lib/python3.6/dist-packages (from patsy>=0.4.0->statsmodels>=0.9.0->pyramid-arima) (1.12.0)\n",
            "Installing collected packages: pyramid-arima\n",
            "Successfully installed pyramid-arima-0.9.0\n"
          ],
          "name": "stdout"
        }
      ]
    },
    {
      "cell_type": "code",
      "metadata": {
        "id": "foBAcRwQeNtQ",
        "colab_type": "code",
        "colab": {}
      },
      "source": [
        "# import pyramid\n",
        "from pyramid.arima import auto_arima "
      ],
      "execution_count": 0,
      "outputs": []
    },
    {
      "cell_type": "markdown",
      "metadata": {
        "id": "cfQyMhRajP2S",
        "colab_type": "text"
      },
      "source": [
        "###Dummy Dataset"
      ]
    },
    {
      "cell_type": "code",
      "metadata": {
        "id": "_gQ88OWVgseq",
        "colab_type": "code",
        "colab": {}
      },
      "source": [
        "data_Auto_Arima=data"
      ],
      "execution_count": 0,
      "outputs": []
    },
    {
      "cell_type": "code",
      "metadata": {
        "id": "tD3fU8tmkl5t",
        "colab_type": "code",
        "colab": {}
      },
      "source": [
        "# setting date as index value\n",
        "data_Auto_Arima.index=data_Auto_Arima['date']"
      ],
      "execution_count": 0,
      "outputs": []
    },
    {
      "cell_type": "markdown",
      "metadata": {
        "id": "9WpmEuIMlCXL",
        "colab_type": "text"
      },
      "source": [
        "###Train_Test_Split"
      ]
    },
    {
      "cell_type": "code",
      "metadata": {
        "id": "pe9i1RHak7Nk",
        "colab_type": "code",
        "colab": {}
      },
      "source": [
        "#splitting in train and test set.\n",
        "train_len=int(0.9*len(data_Auto_Arima))    # not using following method for splitting data as it rearrange the the data every time it splitt.\n",
        "train=data_Auto_Arima[:train_len]          # x_train,x_valid,y_train,y_valid=train_test_split(data_M_A,y_label,test_size=.15,random_state=0)     # Split the data in two parts i.e. train and validation part.\n",
        "\n",
        "valid=data_Auto_Arima[train_len:] "
      ],
      "execution_count": 0,
      "outputs": []
    },
    {
      "cell_type": "code",
      "metadata": {
        "id": "mbDYLSTplODS",
        "colab_type": "code",
        "colab": {}
      },
      "source": [
        "training = train['close']    # it only perform on target value as it process past value to predict future value.\n",
        "validation = valid['close']"
      ],
      "execution_count": 0,
      "outputs": []
    },
    {
      "cell_type": "markdown",
      "metadata": {
        "id": "cIfPHj3Kl07A",
        "colab_type": "text"
      },
      "source": [
        "###Model training \n"
      ]
    },
    {
      "cell_type": "code",
      "metadata": {
        "id": "JcbnB3dslcY2",
        "colab_type": "code",
        "outputId": "1961923c-80bf-4bcb-953f-6e1494a99649",
        "colab": {
          "base_uri": "https://localhost:8080/",
          "height": 290
        }
      },
      "source": [
        "model = auto_arima(training, start_p=1, start_q=1,max_p=3,max_q=3,m=12,start_P=0,seasonal=True,d=1, D=1, trace=True,error_action='ignore',suppress_warnings=True)\n",
        "model.fit(training)"
      ],
      "execution_count": 62,
      "outputs": [
        {
          "output_type": "stream",
          "text": [
            "Fit ARIMA: order=(1, 1, 1) seasonal_order=(0, 1, 1, 12); AIC=28155.254, BIC=28185.995, Fit time=33.804 seconds\n",
            "Fit ARIMA: order=(0, 1, 0) seasonal_order=(0, 1, 0, 12); AIC=30536.750, BIC=30549.046, Fit time=0.264 seconds\n",
            "Fit ARIMA: order=(1, 1, 0) seasonal_order=(1, 1, 0, 12); AIC=29523.430, BIC=29548.023, Fit time=8.771 seconds\n",
            "Fit ARIMA: order=(0, 1, 1) seasonal_order=(0, 1, 1, 12); AIC=28154.355, BIC=28178.948, Fit time=31.041 seconds\n",
            "Fit ARIMA: order=(0, 1, 1) seasonal_order=(1, 1, 1, 12); AIC=28155.695, BIC=28186.436, Fit time=38.487 seconds\n",
            "Fit ARIMA: order=(0, 1, 1) seasonal_order=(0, 1, 0, 12); AIC=30534.820, BIC=30553.264, Fit time=1.305 seconds\n",
            "Fit ARIMA: order=(0, 1, 1) seasonal_order=(0, 1, 2, 12); AIC=28155.688, BIC=28186.429, Fit time=72.902 seconds\n",
            "Fit ARIMA: order=(0, 1, 1) seasonal_order=(1, 1, 2, 12); AIC=28157.467, BIC=28194.356, Fit time=32.973 seconds\n",
            "Fit ARIMA: order=(0, 1, 0) seasonal_order=(0, 1, 1, 12); AIC=28155.257, BIC=28173.701, Fit time=21.108 seconds\n",
            "Fit ARIMA: order=(0, 1, 2) seasonal_order=(0, 1, 1, 12); AIC=28156.479, BIC=28187.220, Fit time=13.552 seconds\n",
            "Fit ARIMA: order=(1, 1, 2) seasonal_order=(0, 1, 1, 12); AIC=28158.380, BIC=28195.269, Fit time=15.660 seconds\n",
            "Total fit time: 269.879 seconds\n"
          ],
          "name": "stdout"
        },
        {
          "output_type": "execute_result",
          "data": {
            "text/plain": [
              "ARIMA(callback=None, disp=0, maxiter=50, method=None, order=(0, 1, 1),\n",
              "      out_of_sample_size=0, scoring='mse', scoring_args={},\n",
              "      seasonal_order=(0, 1, 1, 12), solver='lbfgs', start_params=None,\n",
              "      suppress_warnings=True, transparams=True, trend='c')"
            ]
          },
          "metadata": {
            "tags": []
          },
          "execution_count": 62
        }
      ]
    },
    {
      "cell_type": "markdown",
      "metadata": {
        "id": "vx3BHXHrm9XU",
        "colab_type": "text"
      },
      "source": [
        "##Predictions"
      ]
    },
    {
      "cell_type": "code",
      "metadata": {
        "id": "nhqBH4QNm7GT",
        "colab_type": "code",
        "colab": {}
      },
      "source": [
        "forecast=model.predict(n_periods=len(valid))\n",
        "forecast=pd.DataFrame(forecast,index=valid.index,columns=['Predictions'])"
      ],
      "execution_count": 0,
      "outputs": []
    },
    {
      "cell_type": "markdown",
      "metadata": {
        "id": "HAWUKXTRDd8T",
        "colab_type": "text"
      },
      "source": [
        "##Evaluation"
      ]
    },
    {
      "cell_type": "code",
      "metadata": {
        "id": "dMr7KO31n-Vv",
        "colab_type": "code",
        "colab": {
          "base_uri": "https://localhost:8080/",
          "height": 34
        },
        "outputId": "13e78854-b11d-4c98-e6c6-eec3dfe8c4c6"
      },
      "source": [
        "#Checking the result(RMSE values)\n",
        "\n",
        "ms=mean_squared_error(np.array(valid['close']),(forecast['Predictions']))      \n",
        "rms=np.sqrt(ms)\n",
        "rms                                       # Mathematically: rms=np.sqrt(np.mean(np.power((np.array(y_valid)-predictions),2)))"
      ],
      "execution_count": 64,
      "outputs": [
        {
          "output_type": "execute_result",
          "data": {
            "text/plain": [
              "70.59542866345414"
            ]
          },
          "metadata": {
            "tags": []
          },
          "execution_count": 64
        }
      ]
    },
    {
      "cell_type": "markdown",
      "metadata": {
        "id": "BfgFRz9_oknh",
        "colab_type": "text"
      },
      "source": [
        "###Plot"
      ]
    },
    {
      "cell_type": "code",
      "metadata": {
        "id": "UJZPEiz8oYhd",
        "colab_type": "code",
        "colab": {
          "base_uri": "https://localhost:8080/",
          "height": 606
        },
        "outputId": "0621e530-7caa-42e4-cd0b-a7d25669b800"
      },
      "source": [
        "plt.figure(figsize=(20,10))\n",
        "plt.plot(train['close'],label=\"train\")\n",
        "plt.plot(valid['close'],label=\"test\")\n",
        "plt.plot(forecast['Predictions'],label=\"Prediction\")\n",
        "plt.legend()\n",
        "plt.xlabel(\"Time\")\n",
        "plt.ylabel(\"close Value\")\n",
        "plt.show()"
      ],
      "execution_count": 67,
      "outputs": [
        {
          "output_type": "display_data",
          "data": {
            "image/png": "[encoded data removed]",
            "text/plain": [
              "<Figure size 1440x720 with 1 Axes>"
            ]
          },
          "metadata": {
            "tags": []
          }
        }
      ]
    },
    {
      "cell_type": "markdown",
      "metadata": {
        "id": "A4ice8qet8zj",
        "colab_type": "text"
      },
      "source": [
        "the model has captured a trend in the series, but does not focus on the seasonal part."
      ]
    },
    {
      "cell_type": "markdown",
      "metadata": {
        "id": "Brr15_iJszg4",
        "colab_type": "text"
      },
      "source": [
        "###Conclusion\n",
        "* an auto ARIMA model uses past data to understand the pattern in the time series ,using these values the model  captured an increasing trend in the series.\n",
        "* These predictions are still not close to the real values but are far better than previously implemented machine learning model."
      ]
    },
    {
      "cell_type": "code",
      "metadata": {
        "id": "vai7jOolo4Og",
        "colab_type": "code",
        "colab": {}
      },
      "source": [
        ""
      ],
      "execution_count": 0,
      "outputs": []
    },
    {
      "cell_type": "markdown",
      "metadata": {
        "id": "-SFpgYjduq0D",
        "colab_type": "text"
      },
      "source": [
        "##iv).LSTM"
      ]
    },
    {
      "cell_type": "markdown",
      "metadata": {
        "id": "98xnbuwiu5pt",
        "colab_type": "text"
      },
      "source": [
        "\n",
        "\n",
        "*   use for sequnece predictions probem and is extremly  effective.\n",
        "*   it is able to store past information that is important , and forget that is not.\n",
        "\n"
      ]
    },
    {
      "cell_type": "code",
      "metadata": {
        "id": "zlR3YR8yvlho",
        "colab_type": "code",
        "colab": {}
      },
      "source": [
        "# importing libraries\n",
        "from sklearn.preprocessing import MinMaxScaler\n",
        "from keras.models import Sequential\n",
        "from keras.layers import Dense,Dropout,LSTM"
      ],
      "execution_count": 0,
      "outputs": []
    },
    {
      "cell_type": "markdown",
      "metadata": {
        "id": "J3S6TtE3wsaN",
        "colab_type": "text"
      },
      "source": [
        "###Dummy_DataFrame"
      ]
    },
    {
      "cell_type": "code",
      "metadata": {
        "id": "Skfs4KtOwroi",
        "colab_type": "code",
        "colab": {}
      },
      "source": [
        "data_LSTM=data[['date','close']]\n",
        "data_LSTM.index=data['date']\n",
        "data_LSTM=data_LSTM.drop('date',axis=1)"
      ],
      "execution_count": 0,
      "outputs": []
    },
    {
      "cell_type": "code",
      "metadata": {
        "id": "Qmf7II9Vf2LJ",
        "colab_type": "code",
        "colab": {}
      },
      "source": [
        "data_LSTM=data_LSTM.values"
      ],
      "execution_count": 0,
      "outputs": []
    },
    {
      "cell_type": "code",
      "metadata": {
        "id": "zyGx7MfQf17A",
        "colab_type": "code",
        "colab": {
          "base_uri": "https://localhost:8080/",
          "height": 34
        },
        "outputId": "2123ccd9-59d5-428a-f9bd-91242fbd82bf"
      },
      "source": [
        "data_LSTM = data_LSTM.reshape(-1,1)\n",
        "\n",
        "scaler = MinMaxScaler(feature_range = (0,1)) # Normalize data\n",
        "data_LSTM = scaler.fit_transform(data_LSTM)\n",
        "np.max(data_LSTM)"
      ],
      "execution_count": 49,
      "outputs": [
        {
          "output_type": "execute_result",
          "data": {
            "text/plain": [
              "1.0"
            ]
          },
          "metadata": {
            "tags": []
          },
          "execution_count": 49
        }
      ]
    },
    {
      "cell_type": "markdown",
      "metadata": {
        "id": "smYa0VFTmLPY",
        "colab_type": "text"
      },
      "source": [
        "##Train-Test Split"
      ]
    },
    {
      "cell_type": "code",
      "metadata": {
        "id": "BRjfusGOgAc3",
        "colab_type": "code",
        "colab": {
          "base_uri": "https://localhost:8080/",
          "height": 34
        },
        "outputId": "e27c7e02-f3d7-4117-9abc-ee00229bc8f7"
      },
      "source": [
        "# Test - Train Split\n",
        "train_size = int(len(data_LSTM) * 0.75) # % 75 Train\n",
        "test_size = len(data_LSTM) - train_size # % 25 Test\n",
        "print(\"Train Size :\",train_size,\"Test Size :\",test_size)\n",
        "\n",
        "train = data_LSTM[0:train_size,:]\n",
        "test = data_LSTM[train_size:len(data_LSTM),:]"
      ],
      "execution_count": 50,
      "outputs": [
        {
          "output_type": "stream",
          "text": [
            "Train Size : 2892 Test Size : 964\n"
          ],
          "name": "stdout"
        }
      ]
    },
    {
      "cell_type": "markdown",
      "metadata": {
        "id": "VuDLapSvmIif",
        "colab_type": "text"
      },
      "source": [
        "##Data_Preparation"
      ]
    },
    {
      "cell_type": "code",
      "metadata": {
        "id": "De5KVQupgibl",
        "colab_type": "code",
        "colab": {
          "base_uri": "https://localhost:8080/",
          "height": 51
        },
        "outputId": "6bd0bb9e-89d5-4037-b874-6747106bba2d"
      },
      "source": [
        "time_stemp=10\n",
        "datax = []\n",
        "datay = []\n",
        "for i in range(len(train)-time_stemp-1):\n",
        "    a = train[i:(i+time_stemp), 0]\n",
        "    datax.append(a)\n",
        "    datay.append(train[i + time_stemp, 0])\n",
        "trainx = np.array(datax)\n",
        "trainy = np.array(datay)\n",
        "\n",
        "\n",
        "datax = []\n",
        "datay = []\n",
        "for i in range(len(test)-time_stemp-1):\n",
        "    a = test[i:(i+time_stemp), 0]\n",
        "    datax.append(a)\n",
        "    datay.append(test[i + time_stemp, 0])\n",
        "testx = np.array(datax)\n",
        "testy = np.array(datay)\n",
        "\n",
        "trainx = np.reshape(trainx, (trainx.shape[0], 1, trainx.shape[1])) # For Keras\n",
        "testx = np.reshape(testx, (testx.shape[0], 1,testx.shape[1])) # For Keras\n",
        "print(trainx.shape)\n",
        "testx.shape"
      ],
      "execution_count": 51,
      "outputs": [
        {
          "output_type": "stream",
          "text": [
            "(2881, 1, 10)\n"
          ],
          "name": "stdout"
        },
        {
          "output_type": "execute_result",
          "data": {
            "text/plain": [
              "(953, 1, 10)"
            ]
          },
          "metadata": {
            "tags": []
          },
          "execution_count": 51
        }
      ]
    },
    {
      "cell_type": "markdown",
      "metadata": {
        "id": "6KvAKEqUmEOH",
        "colab_type": "text"
      },
      "source": [
        "##Model"
      ]
    },
    {
      "cell_type": "code",
      "metadata": {
        "id": "oGkOAlbjg_9w",
        "colab_type": "code",
        "colab": {
          "base_uri": "https://localhost:8080/",
          "height": 477
        },
        "outputId": "a232aaa4-ab2f-4b4b-8c6e-324df0b92c4f"
      },
      "source": [
        "epochs = 200\n",
        "model = Sequential()\n",
        "model.add(LSTM(10, input_shape = (1, time_stemp)))\n",
        "model.add(Dense(1)) # Output Layer\n",
        "model.compile(loss = \"mean_squared_error\", optimizer = \"adam\")\n",
        "history = model.fit(trainx,trainy, epochs = epochs, batch_size = 50, verbose=0)\n"
      ],
      "execution_count": 52,
      "outputs": [
        {
          "output_type": "stream",
          "text": [
            "WARNING:tensorflow:From /usr/local/lib/python3.6/dist-packages/keras/backend/tensorflow_backend.py:66: The name tf.get_default_graph is deprecated. Please use tf.compat.v1.get_default_graph instead.\n",
            "\n",
            "WARNING:tensorflow:From /usr/local/lib/python3.6/dist-packages/keras/backend/tensorflow_backend.py:541: The name tf.placeholder is deprecated. Please use tf.compat.v1.placeholder instead.\n",
            "\n",
            "WARNING:tensorflow:From /usr/local/lib/python3.6/dist-packages/keras/backend/tensorflow_backend.py:4432: The name tf.random_uniform is deprecated. Please use tf.random.uniform instead.\n",
            "\n",
            "WARNING:tensorflow:From /usr/local/lib/python3.6/dist-packages/keras/optimizers.py:793: The name tf.train.Optimizer is deprecated. Please use tf.compat.v1.train.Optimizer instead.\n",
            "\n",
            "WARNING:tensorflow:From /usr/local/lib/python3.6/dist-packages/tensorflow_core/python/ops/math_grad.py:1424: where (from tensorflow.python.ops.array_ops) is deprecated and will be removed in a future version.\n",
            "Instructions for updating:\n",
            "Use tf.where in 2.0, which has the same broadcast rule as np.where\n",
            "WARNING:tensorflow:From /usr/local/lib/python3.6/dist-packages/keras/backend/tensorflow_backend.py:1033: The name tf.assign_add is deprecated. Please use tf.compat.v1.assign_add instead.\n",
            "\n",
            "WARNING:tensorflow:From /usr/local/lib/python3.6/dist-packages/keras/backend/tensorflow_backend.py:1020: The name tf.assign is deprecated. Please use tf.compat.v1.assign instead.\n",
            "\n",
            "WARNING:tensorflow:From /usr/local/lib/python3.6/dist-packages/keras/backend/tensorflow_backend.py:3005: The name tf.Session is deprecated. Please use tf.compat.v1.Session instead.\n",
            "\n",
            "WARNING:tensorflow:From /usr/local/lib/python3.6/dist-packages/keras/backend/tensorflow_backend.py:190: The name tf.get_default_session is deprecated. Please use tf.compat.v1.get_default_session instead.\n",
            "\n",
            "WARNING:tensorflow:From /usr/local/lib/python3.6/dist-packages/keras/backend/tensorflow_backend.py:197: The name tf.ConfigProto is deprecated. Please use tf.compat.v1.ConfigProto instead.\n",
            "\n",
            "WARNING:tensorflow:From /usr/local/lib/python3.6/dist-packages/keras/backend/tensorflow_backend.py:207: The name tf.global_variables is deprecated. Please use tf.compat.v1.global_variables instead.\n",
            "\n",
            "WARNING:tensorflow:From /usr/local/lib/python3.6/dist-packages/keras/backend/tensorflow_backend.py:216: The name tf.is_variable_initialized is deprecated. Please use tf.compat.v1.is_variable_initialized instead.\n",
            "\n",
            "WARNING:tensorflow:From /usr/local/lib/python3.6/dist-packages/keras/backend/tensorflow_backend.py:223: The name tf.variables_initializer is deprecated. Please use tf.compat.v1.variables_initializer instead.\n",
            "\n"
          ],
          "name": "stdout"
        }
      ]
    },
    {
      "cell_type": "markdown",
      "metadata": {
        "id": "l8EymFlFl-Tk",
        "colab_type": "text"
      },
      "source": [
        "##Loss Visualization"
      ]
    },
    {
      "cell_type": "code",
      "metadata": {
        "id": "3SaYB8CNhF0f",
        "colab_type": "code",
        "colab": {
          "base_uri": "https://localhost:8080/",
          "height": 517
        },
        "outputId": "1d9ded52-847e-47b6-a3d2-5e2a104e7792"
      },
      "source": [
        "epoch = np.arange(0, epochs, 10)\n",
        "losses = []\n",
        "for i in epoch:\n",
        "    if i % 10 == 0:\n",
        "        losses.append(history.history[\"loss\"][i])\n",
        "        \n",
        "data_visualize = {\"epoch\":epoch,\"loss\":losses}\n",
        "data_visualize = pd.DataFrame(data_visualize) # Create dataframe for visualize with plotly\n",
        "\n",
        "# Visualize\n",
        "import plotly.express as px\n",
        "\n",
        "fig = px.line(data_visualize,x=\"epoch\",y=\"loss\",width = 1200, height = 500)\n",
        "fig.show()\n",
        "# I choose plotly for visualize because it's interactive"
      ],
      "execution_count": 53,
      "outputs": [
        {
          "output_type": "display_data",
          "data": {
            "text/html": [
              "<html>\n",
              "<head><meta charset=\"utf-8\" /></head>\n",
              "<body>\n",
              "    <div>\n",
              "            <script src=\"https://cdnjs.cloudflare.com/ajax/libs/mathjax/2.7.5/MathJax.js?config=TeX-AMS-MML_SVG\"></script><script type=\"text/javascript\">if (window.MathJax) {MathJax.Hub.Config({SVG: {font: \"STIX-Web\"}});}</script>\n",
              "                <script type=\"text/javascript\">window.PlotlyConfig = {MathJaxConfig: 'local'};</script>\n",
              "        <script src=\"https://cdn.plot.ly/plotly-latest.min.js\"></script>    \n",
              "            <div id=\"db4c19e3-aac9-4ceb-b482-713ed7cd7634\" class=\"plotly-graph-div\" style=\"height:500px; width:1200px;\"></div>\n",
              "            <script type=\"text/javascript\">\n",
              "                \n",
              "                    window.PLOTLYENV=window.PLOTLYENV || {};\n",
              "                    \n",
              "                if (document.getElementById(\"db4c19e3-aac9-4ceb-b482-713ed7cd7634\")) {\n",
              "                    Plotly.newPlot(\n",
              "                        'db4c19e3-aac9-4ceb-b482-713ed7cd7634',\n",
              "                        [{\"hoverlabel\": {\"namelength\": 0}, \"hovertemplate\": \"epoch=%{x}<br>loss=%{y}\", \"legendgroup\": \"\", \"line\": {\"color\": \"#636efa\", \"dash\": \"solid\"}, \"mode\": \"lines\", \"name\": \"\", \"showlegend\": false, \"type\": \"scatter\", \"x\": [0, 10, 20, 30, 40, 50, 60, 70, 80, 90, 100, 110, 120, 130, 140, 150, 160, 170, 180, 190], \"xaxis\": \"x\", \"y\": [0.058499962590080105, 0.0005647331466190374, 0.00047880075559995005, 0.00040382784391049953, 0.0003233206745154922, 0.00025198855063009146, 0.00021006003454983324, 0.0001948285336898233, 0.00019493131968330144, 0.00017987504860220822, 0.00017502682305957216, 0.00017790763268382776, 0.00016353671540951398, 0.0001676714511536534, 0.0001710988003068994, 0.00015567844400664595, 0.00015616986660352812, 0.0001599415612284249, 0.0001502279369436014, 0.00014941240809017157], \"yaxis\": \"y\"}],\n",
              "                        {\"height\": 500, \"legend\": {\"tracegroupgap\": 0}, \"margin\": {\"t\": 60}, \"template\": {\"data\": {\"bar\": [{\"error_x\": {\"color\": \"#2a3f5f\"}, \"error_y\": {\"color\": \"#2a3f5f\"}, \"marker\": {\"line\": {\"color\": \"#E5ECF6\", \"width\": 0.5}}, \"type\": \"bar\"}], \"barpolar\": [{\"marker\": {\"line\": {\"color\": \"#E5ECF6\", \"width\": 0.5}}, \"type\": \"barpolar\"}], \"carpet\": [{\"aaxis\": {\"endlinecolor\": \"#2a3f5f\", \"gridcolor\": \"white\", \"linecolor\": \"white\", \"minorgridcolor\": \"white\", \"startlinecolor\": \"#2a3f5f\"}, \"baxis\": {\"endlinecolor\": \"#2a3f5f\", \"gridcolor\": \"white\", \"linecolor\": \"white\", \"minorgridcolor\": \"white\", \"startlinecolor\": \"#2a3f5f\"}, \"type\": \"carpet\"}], \"choropleth\": [{\"colorbar\": {\"outlinewidth\": 0, \"ticks\": \"\"}, \"type\": \"choropleth\"}], \"contour\": [{\"colorbar\": {\"outlinewidth\": 0, \"ticks\": \"\"}, \"colorscale\": [[0.0, \"#0d0887\"], [0.1111111111111111, \"#46039f\"], [0.2222222222222222, \"#7201a8\"], [0.3333333333333333, \"#9c179e\"], [0.4444444444444444, \"#bd3786\"], [0.5555555555555556, \"#d8576b\"], [0.6666666666666666, \"#ed7953\"], [0.7777777777777778, \"#fb9f3a\"], [0.8888888888888888, \"#fdca26\"], [1.0, \"#f0f921\"]], \"type\": \"contour\"}], \"contourcarpet\": [{\"colorbar\": {\"outlinewidth\": 0, \"ticks\": \"\"}, \"type\": \"contourcarpet\"}], \"heatmap\": [{\"colorbar\": {\"outlinewidth\": 0, \"ticks\": \"\"}, \"colorscale\": [[0.0, \"#0d0887\"], [0.1111111111111111, \"#46039f\"], [0.2222222222222222, \"#7201a8\"], [0.3333333333333333, \"#9c179e\"], [0.4444444444444444, \"#bd3786\"], [0.5555555555555556, \"#d8576b\"], [0.6666666666666666, \"#ed7953\"], [0.7777777777777778, \"#fb9f3a\"], [0.8888888888888888, \"#fdca26\"], [1.0, \"#f0f921\"]], \"type\": \"heatmap\"}], \"heatmapgl\": [{\"colorbar\": {\"outlinewidth\": 0, \"ticks\": \"\"}, \"colorscale\": [[0.0, \"#0d0887\"], [0.1111111111111111, \"#46039f\"], [0.2222222222222222, \"#7201a8\"], [0.3333333333333333, \"#9c179e\"], [0.4444444444444444, \"#bd3786\"], [0.5555555555555556, \"#d8576b\"], [0.6666666666666666, \"#ed7953\"], [0.7777777777777778, \"#fb9f3a\"], [0.8888888888888888, \"#fdca26\"], [1.0, \"#f0f921\"]], \"type\": \"heatmapgl\"}], \"histogram\": [{\"marker\": {\"colorbar\": {\"outlinewidth\": 0, \"ticks\": \"\"}}, \"type\": \"histogram\"}], \"histogram2d\": [{\"colorbar\": {\"outlinewidth\": 0, \"ticks\": \"\"}, \"colorscale\": [[0.0, \"#0d0887\"], [0.1111111111111111, \"#46039f\"], [0.2222222222222222, \"#7201a8\"], [0.3333333333333333, \"#9c179e\"], [0.4444444444444444, \"#bd3786\"], [0.5555555555555556, \"#d8576b\"], [0.6666666666666666, \"#ed7953\"], [0.7777777777777778, \"#fb9f3a\"], [0.8888888888888888, \"#fdca26\"], [1.0, \"#f0f921\"]], \"type\": \"histogram2d\"}], \"histogram2dcontour\": [{\"colorbar\": {\"outlinewidth\": 0, \"ticks\": \"\"}, \"colorscale\": [[0.0, \"#0d0887\"], [0.1111111111111111, \"#46039f\"], [0.2222222222222222, \"#7201a8\"], [0.3333333333333333, \"#9c179e\"], [0.4444444444444444, \"#bd3786\"], [0.5555555555555556, \"#d8576b\"], [0.6666666666666666, \"#ed7953\"], [0.7777777777777778, \"#fb9f3a\"], [0.8888888888888888, \"#fdca26\"], [1.0, \"#f0f921\"]], \"type\": \"histogram2dcontour\"}], \"mesh3d\": [{\"colorbar\": {\"outlinewidth\": 0, \"ticks\": \"\"}, \"type\": \"mesh3d\"}], \"parcoords\": [{\"line\": {\"colorbar\": {\"outlinewidth\": 0, \"ticks\": \"\"}}, \"type\": \"parcoords\"}], \"scatter\": [{\"marker\": {\"colorbar\": {\"outlinewidth\": 0, \"ticks\": \"\"}}, \"type\": \"scatter\"}], \"scatter3d\": [{\"line\": {\"colorbar\": {\"outlinewidth\": 0, \"ticks\": \"\"}}, \"marker\": {\"colorbar\": {\"outlinewidth\": 0, \"ticks\": \"\"}}, \"type\": \"scatter3d\"}], \"scattercarpet\": [{\"marker\": {\"colorbar\": {\"outlinewidth\": 0, \"ticks\": \"\"}}, \"type\": \"scattercarpet\"}], \"scattergeo\": [{\"marker\": {\"colorbar\": {\"outlinewidth\": 0, \"ticks\": \"\"}}, \"type\": \"scattergeo\"}], \"scattergl\": [{\"marker\": {\"colorbar\": {\"outlinewidth\": 0, \"ticks\": \"\"}}, \"type\": \"scattergl\"}], \"scattermapbox\": [{\"marker\": {\"colorbar\": {\"outlinewidth\": 0, \"ticks\": \"\"}}, \"type\": \"scattermapbox\"}], \"scatterpolar\": [{\"marker\": {\"colorbar\": {\"outlinewidth\": 0, \"ticks\": \"\"}}, \"type\": \"scatterpolar\"}], \"scatterpolargl\": [{\"marker\": {\"colorbar\": {\"outlinewidth\": 0, \"ticks\": \"\"}}, \"type\": \"scatterpolargl\"}], \"scatterternary\": [{\"marker\": {\"colorbar\": {\"outlinewidth\": 0, \"ticks\": \"\"}}, \"type\": \"scatterternary\"}], \"surface\": [{\"colorbar\": {\"outlinewidth\": 0, \"ticks\": \"\"}, \"colorscale\": [[0.0, \"#0d0887\"], [0.1111111111111111, \"#46039f\"], [0.2222222222222222, \"#7201a8\"], [0.3333333333333333, \"#9c179e\"], [0.4444444444444444, \"#bd3786\"], [0.5555555555555556, \"#d8576b\"], [0.6666666666666666, \"#ed7953\"], [0.7777777777777778, \"#fb9f3a\"], [0.8888888888888888, \"#fdca26\"], [1.0, \"#f0f921\"]], \"type\": \"surface\"}], \"table\": [{\"cells\": {\"fill\": {\"color\": \"#EBF0F8\"}, \"line\": {\"color\": \"white\"}}, \"header\": {\"fill\": {\"color\": \"#C8D4E3\"}, \"line\": {\"color\": \"white\"}}, \"type\": \"table\"}]}, \"layout\": {\"annotationdefaults\": {\"arrowcolor\": \"#2a3f5f\", \"arrowhead\": 0, \"arrowwidth\": 1}, \"colorscale\": {\"diverging\": [[0, \"#8e0152\"], [0.1, \"#c51b7d\"], [0.2, \"#de77ae\"], [0.3, \"#f1b6da\"], [0.4, \"#fde0ef\"], [0.5, \"#f7f7f7\"], [0.6, \"#e6f5d0\"], [0.7, \"#b8e186\"], [0.8, \"#7fbc41\"], [0.9, \"#4d9221\"], [1, \"#276419\"]], \"sequential\": [[0.0, \"#0d0887\"], [0.1111111111111111, \"#46039f\"], [0.2222222222222222, \"#7201a8\"], [0.3333333333333333, \"#9c179e\"], [0.4444444444444444, \"#bd3786\"], [0.5555555555555556, \"#d8576b\"], [0.6666666666666666, \"#ed7953\"], [0.7777777777777778, \"#fb9f3a\"], [0.8888888888888888, \"#fdca26\"], [1.0, \"#f0f921\"]], \"sequentialminus\": [[0.0, \"#0d0887\"], [0.1111111111111111, \"#46039f\"], [0.2222222222222222, \"#7201a8\"], [0.3333333333333333, \"#9c179e\"], [0.4444444444444444, \"#bd3786\"], [0.5555555555555556, \"#d8576b\"], [0.6666666666666666, \"#ed7953\"], [0.7777777777777778, \"#fb9f3a\"], [0.8888888888888888, \"#fdca26\"], [1.0, \"#f0f921\"]]}, \"colorway\": [\"#636efa\", \"#EF553B\", \"#00cc96\", \"#ab63fa\", \"#FFA15A\", \"#19d3f3\", \"#FF6692\", \"#B6E880\", \"#FF97FF\", \"#FECB52\"], \"font\": {\"color\": \"#2a3f5f\"}, \"geo\": {\"bgcolor\": \"white\", \"lakecolor\": \"white\", \"landcolor\": \"#E5ECF6\", \"showlakes\": true, \"showland\": true, \"subunitcolor\": \"white\"}, \"hoverlabel\": {\"align\": \"left\"}, \"hovermode\": \"closest\", \"mapbox\": {\"style\": \"light\"}, \"paper_bgcolor\": \"white\", \"plot_bgcolor\": \"#E5ECF6\", \"polar\": {\"angularaxis\": {\"gridcolor\": \"white\", \"linecolor\": \"white\", \"ticks\": \"\"}, \"bgcolor\": \"#E5ECF6\", \"radialaxis\": {\"gridcolor\": \"white\", \"linecolor\": \"white\", \"ticks\": \"\"}}, \"scene\": {\"xaxis\": {\"backgroundcolor\": \"#E5ECF6\", \"gridcolor\": \"white\", \"gridwidth\": 2, \"linecolor\": \"white\", \"showbackground\": true, \"ticks\": \"\", \"zerolinecolor\": \"white\"}, \"yaxis\": {\"backgroundcolor\": \"#E5ECF6\", \"gridcolor\": \"white\", \"gridwidth\": 2, \"linecolor\": \"white\", \"showbackground\": true, \"ticks\": \"\", \"zerolinecolor\": \"white\"}, \"zaxis\": {\"backgroundcolor\": \"#E5ECF6\", \"gridcolor\": \"white\", \"gridwidth\": 2, \"linecolor\": \"white\", \"showbackground\": true, \"ticks\": \"\", \"zerolinecolor\": \"white\"}}, \"shapedefaults\": {\"line\": {\"color\": \"#2a3f5f\"}}, \"ternary\": {\"aaxis\": {\"gridcolor\": \"white\", \"linecolor\": \"white\", \"ticks\": \"\"}, \"baxis\": {\"gridcolor\": \"white\", \"linecolor\": \"white\", \"ticks\": \"\"}, \"bgcolor\": \"#E5ECF6\", \"caxis\": {\"gridcolor\": \"white\", \"linecolor\": \"white\", \"ticks\": \"\"}}, \"title\": {\"x\": 0.05}, \"xaxis\": {\"automargin\": true, \"gridcolor\": \"white\", \"linecolor\": \"white\", \"ticks\": \"\", \"zerolinecolor\": \"white\", \"zerolinewidth\": 2}, \"yaxis\": {\"automargin\": true, \"gridcolor\": \"white\", \"linecolor\": \"white\", \"ticks\": \"\", \"zerolinecolor\": \"white\", \"zerolinewidth\": 2}}}, \"width\": 1200, \"xaxis\": {\"anchor\": \"y\", \"domain\": [0.0, 0.98], \"title\": {\"text\": \"epoch\"}}, \"yaxis\": {\"anchor\": \"x\", \"domain\": [0.0, 1.0], \"title\": {\"text\": \"loss\"}}},\n",
              "                        {\"responsive\": true}\n",
              "                    ).then(function(){\n",
              "                            \n",
              "var gd = document.getElementById('db4c19e3-aac9-4ceb-b482-713ed7cd7634');\n",
              "var x = new MutationObserver(function (mutations, observer) {{\n",
              "        var display = window.getComputedStyle(gd).display;\n",
              "        if (!display || display === 'none') {{\n",
              "            console.log([gd, 'removed!']);\n",
              "            Plotly.purge(gd);\n",
              "            observer.disconnect();\n",
              "        }}\n",
              "}});\n",
              "\n",
              "// Listen for the removal of the full notebook cells\n",
              "var notebookContainer = gd.closest('#notebook-container');\n",
              "if (notebookContainer) {{\n",
              "    x.observe(notebookContainer, {childList: true});\n",
              "}}\n",
              "\n",
              "// Listen for the clearing of the current output cell\n",
              "var outputEl = gd.closest('.output');\n",
              "if (outputEl) {{\n",
              "    x.observe(outputEl, {childList: true});\n",
              "}}\n",
              "\n",
              "                        })\n",
              "                };\n",
              "                \n",
              "            </script>\n",
              "        </div>\n",
              "</body>\n",
              "</html>"
            ]
          },
          "metadata": {
            "tags": []
          }
        }
      ]
    },
    {
      "cell_type": "markdown",
      "metadata": {
        "id": "52LM1OAYl6W5",
        "colab_type": "text"
      },
      "source": [
        "##Prediction"
      ]
    },
    {
      "cell_type": "code",
      "metadata": {
        "id": "ZP6w_BpvjimW",
        "colab_type": "code",
        "colab": {
          "base_uri": "https://localhost:8080/",
          "height": 51
        },
        "outputId": "4c101135-1ed0-40cd-b69a-fe96005820f4"
      },
      "source": [
        "train_predict = model.predict(trainx)\n",
        "test_predict = model.predict(testx)\n",
        "\n",
        "train_predict = scaler.inverse_transform(train_predict)\n",
        "test_predict = scaler.inverse_transform(test_predict)\n",
        "trainy = scaler.inverse_transform([trainy])\n",
        "testy = scaler.inverse_transform([testy])\n",
        "\n",
        "train_score = math.sqrt(mean_squared_error(trainy[0], train_predict[:,0])) # mean_squared_error -> Loss Function\n",
        "print(\"Train Score : %2.f RMSE\" % (train_score))\n",
        "test_score = math.sqrt(mean_squared_error(testy[0], test_predict[:,0]))\n",
        "print(\"Test Score : %2.f RMSE\" % (test_score))"
      ],
      "execution_count": 54,
      "outputs": [
        {
          "output_type": "stream",
          "text": [
            "Train Score : 15 RMSE\n",
            "Test Score : 17 RMSE\n"
          ],
          "name": "stdout"
        }
      ]
    },
    {
      "cell_type": "markdown",
      "metadata": {
        "id": "fxlR4-knl0fu",
        "colab_type": "text"
      },
      "source": [
        "##Plot"
      ]
    },
    {
      "cell_type": "code",
      "metadata": {
        "id": "VFpteMf2jtyw",
        "colab_type": "code",
        "colab": {
          "base_uri": "https://localhost:8080/",
          "height": 606
        },
        "outputId": "c25ee4d3-57ce-4f4b-ad49-962a12ebd7e2"
      },
      "source": [
        "# empty_like -> Return a new array with the same shape and type as a given array.\n",
        "train_predict_plot = np.empty_like(data_LSTM)\n",
        "train_predict_plot[:,:] = np.nan\n",
        "train_predict_plot[time_stemp:len(train_predict)+time_stemp, :] = train_predict\n",
        "\n",
        "test_predict_plot = np.empty_like(data_LSTM)\n",
        "test_predict_plot[:, :] = np.nan\n",
        "test_predict_plot[len(train_predict)+(time_stemp*2)+1:len(data_LSTM)-1, :] = test_predict\n",
        "\n",
        "plt.figure(figsize=(20,10))\n",
        "plt.plot(scaler.inverse_transform(data_LSTM),color = \"red\",label = \"Real\")\n",
        "plt.plot(train_predict_plot,label = \"Train Predict\",color = \"yellow\",alpha = 0.7)\n",
        "plt.plot(test_predict_plot,label = \"Test Predict\",color = \"green\", alpha = 0.7)\n",
        "plt.legend()\n",
        "plt.xlabel(\"Time\")\n",
        "plt.ylabel(\"close Value\")\n",
        "plt.show()"
      ],
      "execution_count": 55,
      "outputs": [
        {
          "output_type": "display_data",
          "data": {
            "image/png": "[encoded data removed]",
            "text/plain": [
              "<Figure size 1440x720 with 1 Axes>"
            ]
          },
          "metadata": {
            "tags": []
          }
        }
      ]
    },
    {
      "cell_type": "code",
      "metadata": {
        "id": "qUYbC6-Yk4oR",
        "colab_type": "code",
        "colab": {}
      },
      "source": [
        ""
      ],
      "execution_count": 0,
      "outputs": []
    }
  ]
}