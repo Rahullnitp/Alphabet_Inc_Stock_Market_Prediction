{
  "nbformat": 4,
  "nbformat_minor": 0,
  "metadata": {
    "colab": {
      "name": "Alphabet_Inc_Stock_Market_Prediction.ipynb",
      "provenance": [],
      "include_colab_link": true
    },
    "kernelspec": {
      "name": "python3",
      "display_name": "Python 3"
    },
    "accelerator": "GPU"
  },
  "cells": [
    {
      "cell_type": "markdown",
      "metadata": {
        "id": "view-in-github",
        "colab_type": "text"
      },
      "source": [
        "<a href=\"https://colab.research.google.com/github/Rahullnitp/Alphabet_Inc_Stock_Market_Prediction/blob/master/Alphabet_Inc_Stock_Market_Prediction.ipynb\" target=\"_parent\"><img src=\"https://colab.research.google.com/assets/colab-badge.svg\" alt=\"Open In Colab\"/></a>"
      ]
    },
    {
      "cell_type": "markdown",
      "metadata": {
        "id": "ScIres33Ib07",
        "colab_type": "text"
      },
      "source": [
        "#Aim\n",
        "\n",
        "Stock market prediction of  Alphabet Inc. .\n",
        "\n",
        "\n",
        "\n",
        "*  In this project , i will analyse and perform predictive analytics on the historic data of Alphabet Inc. and perform  a classification or regression task to predict future price or return. \n",
        "\n",
        "*   Alphabet Inc. is an American multinational conglomerate headquartered in Mountain View, California. It was created through a corporate restructuring of Google, and became the parent company of Google and several former Google subsidiaries.  "
      ]
    },
    {
      "cell_type": "markdown",
      "metadata": {
        "id": "I_OgPOIfWBqW",
        "colab_type": "text"
      },
      "source": [
        "#Data Collection :\n",
        "     \n",
        "\n",
        "*   Alpha vantage APIs is used for Data Collection of \"Alphabet Inc.\" "
      ]
    },
    {
      "cell_type": "code",
      "metadata": {
        "id": "mp8YQuHYIbd-",
        "colab_type": "code",
        "colab": {
          "base_uri": "https://localhost:8080/",
          "height": 275
        },
        "outputId": "b5374c4c-460a-4009-8155-7f05f4ba6072"
      },
      "source": [
        "pip install alpha_vantage   #Python module to get stock data from the Alpha Vantage Api"
      ],
      "execution_count": 2,
      "outputs": [
        {
          "output_type": "stream",
          "text": [
            "Collecting alpha_vantage\n",
            "  Downloading https://files.pythonhosted.org/packages/28/d1/9bfa84a2e3964e415a55f948dd6342d1ca4fc19eac76247f4447f62b4b90/alpha_vantage-2.1.2.tar.gz\n",
            "Requirement already satisfied: requests in /usr/local/lib/python3.6/dist-packages (from alpha_vantage) (2.21.0)\n",
            "Requirement already satisfied: urllib3<1.25,>=1.21.1 in /usr/local/lib/python3.6/dist-packages (from requests->alpha_vantage) (1.24.3)\n",
            "Requirement already satisfied: idna<2.9,>=2.5 in /usr/local/lib/python3.6/dist-packages (from requests->alpha_vantage) (2.8)\n",
            "Requirement already satisfied: chardet<3.1.0,>=3.0.2 in /usr/local/lib/python3.6/dist-packages (from requests->alpha_vantage) (3.0.4)\n",
            "Requirement already satisfied: certifi>=2017.4.17 in /usr/local/lib/python3.6/dist-packages (from requests->alpha_vantage) (2019.11.28)\n",
            "Building wheels for collected packages: alpha-vantage\n",
            "  Building wheel for alpha-vantage (setup.py) ... \u001b[?25l\u001b[?25hdone\n",
            "  Created wheel for alpha-vantage: filename=alpha_vantage-2.1.2-cp36-none-any.whl size=14690 sha256=dd31ea8685e61b31e715f3d02d9b55ad5416445107bc895bc5795b93f48a6ec6\n",
            "  Stored in directory: /root/.cache/pip/wheels/bb/22/da/426cbebbe36cf3c0fd433d279f670cadfa27cc3343303cdf36\n",
            "Successfully built alpha-vantage\n",
            "Installing collected packages: alpha-vantage\n",
            "Successfully installed alpha-vantage-2.1.2\n"
          ],
          "name": "stdout"
        }
      ]
    },
    {
      "cell_type": "markdown",
      "metadata": {
        "id": "tfG9MhGXVAJ-",
        "colab_type": "text"
      },
      "source": [
        " Extract data in 'data' and information of data in 'meta_data' variables respectively.\n",
        "\n",
        "\n",
        "  \n",
        "\n",
        "\n",
        "\n"
      ]
    },
    {
      "cell_type": "code",
      "metadata": {
        "id": "8gJeWpT9jFFW",
        "colab_type": "code",
        "colab": {}
      },
      "source": [
        "from alpha_vantage.timeseries import TimeSeries\n",
        "ts = TimeSeries(key='1Z4BA7A9NKB32IJL',output_format='pandas')\n",
        "data, meta_data = ts.get_daily('GOOGL', outputsize='full') #by using symbol as \"GOOGL\" ,we can extract the data of 'Alphabet Inc.' ."
      ],
      "execution_count": 0,
      "outputs": []
    },
    {
      "cell_type": "markdown",
      "metadata": {
        "id": "0i9PtN86apdZ",
        "colab_type": "text"
      },
      "source": [
        "Overview of data\n",
        "*  This API returns daily time series (date, daily open, daily high, daily low, daily close, daily volume, daily adjusted close, and split/dividend events) of the global equity specified, covering 20+ years of historical data as shown below in meta_data."
      ]
    },
    {
      "cell_type": "code",
      "metadata": {
        "id": "_Co3FVbMlRJJ",
        "colab_type": "code",
        "colab": {
          "base_uri": "https://localhost:8080/",
          "height": 102
        },
        "outputId": "8ee222d0-205b-4d7f-9a66-35b9fa5c493d"
      },
      "source": [
        "meta_data"
      ],
      "execution_count": 101,
      "outputs": [
        {
          "output_type": "execute_result",
          "data": {
            "text/plain": [
              "{'1. Information': 'Daily Prices (open, high, low, close) and Volumes',\n",
              " '2. Symbol': 'GOOGL',\n",
              " '3. Last Refreshed': '2019-12-09',\n",
              " '4. Output Size': 'Full size',\n",
              " '5. Time Zone': 'US/Eastern'}"
            ]
          },
          "metadata": {
            "tags": []
          },
          "execution_count": 101
        }
      ]
    },
    {
      "cell_type": "code",
      "metadata": {
        "id": "IOR0OW3Rfn4v",
        "colab_type": "code",
        "colab": {}
      },
      "source": [
        ""
      ],
      "execution_count": 0,
      "outputs": []
    },
    {
      "cell_type": "markdown",
      "metadata": {
        "id": "foUK9Q0ZiTxj",
        "colab_type": "text"
      },
      "source": [
        "#Data_preprocessing:\n",
        "\n",
        "in this section, i will perform Data mining technique that involves transforming raw data into an understandable format and Data Cleaning .\n"
      ]
    },
    {
      "cell_type": "code",
      "metadata": {
        "id": "o4iniHzHi0DL",
        "colab_type": "code",
        "colab": {}
      },
      "source": [
        "# import libraries\n",
        "\n",
        "import os\n",
        "import numpy as np\n",
        "import pandas as pd\n",
        "import seaborn as sns\n",
        "import matplotlib.pyplot as plt\n",
        "from sklearn.metrics import mean_squared_error\n",
        "from sklearn.model_selection import train_test_split\n",
        "%matplotlib inline\n",
        "import warnings"
      ],
      "execution_count": 0,
      "outputs": []
    },
    {
      "cell_type": "code",
      "metadata": {
        "id": "JG_EuGvqlB4r",
        "colab_type": "code",
        "colab": {
          "base_uri": "https://localhost:8080/",
          "height": 235
        },
        "outputId": "ecfa998b-f04e-4061-ff29-a558711caae9"
      },
      "source": [
        "data.head()"
      ],
      "execution_count": 103,
      "outputs": [
        {
          "output_type": "execute_result",
          "data": {
            "text/html": [
              "<div>\n",
              "<style scoped>\n",
              "    .dataframe tbody tr th:only-of-type {\n",
              "        vertical-align: middle;\n",
              "    }\n",
              "\n",
              "    .dataframe tbody tr th {\n",
              "        vertical-align: top;\n",
              "    }\n",
              "\n",
              "    .dataframe thead th {\n",
              "        text-align: right;\n",
              "    }\n",
              "</style>\n",
              "<table border=\"1\" class=\"dataframe\">\n",
              "  <thead>\n",
              "    <tr style=\"text-align: right;\">\n",
              "      <th></th>\n",
              "      <th>1. open</th>\n",
              "      <th>2. high</th>\n",
              "      <th>3. low</th>\n",
              "      <th>4. close</th>\n",
              "      <th>5. volume</th>\n",
              "    </tr>\n",
              "    <tr>\n",
              "      <th>date</th>\n",
              "      <th></th>\n",
              "      <th></th>\n",
              "      <th></th>\n",
              "      <th></th>\n",
              "      <th></th>\n",
              "    </tr>\n",
              "  </thead>\n",
              "  <tbody>\n",
              "    <tr>\n",
              "      <th>2019-12-09</th>\n",
              "      <td>1338.86</td>\n",
              "      <td>1357.55</td>\n",
              "      <td>1336.07</td>\n",
              "      <td>1342.99</td>\n",
              "      <td>1417560.0</td>\n",
              "    </tr>\n",
              "    <tr>\n",
              "      <th>2019-12-06</th>\n",
              "      <td>1332.75</td>\n",
              "      <td>1342.47</td>\n",
              "      <td>1331.23</td>\n",
              "      <td>1339.39</td>\n",
              "      <td>1648729.0</td>\n",
              "    </tr>\n",
              "    <tr>\n",
              "      <th>2019-12-05</th>\n",
              "      <td>1327.00</td>\n",
              "      <td>1327.98</td>\n",
              "      <td>1314.32</td>\n",
              "      <td>1326.96</td>\n",
              "      <td>1220631.0</td>\n",
              "    </tr>\n",
              "    <tr>\n",
              "      <th>2019-12-04</th>\n",
              "      <td>1306.10</td>\n",
              "      <td>1324.27</td>\n",
              "      <td>1303.05</td>\n",
              "      <td>1318.94</td>\n",
              "      <td>1776392.0</td>\n",
              "    </tr>\n",
              "    <tr>\n",
              "      <th>2019-12-03</th>\n",
              "      <td>1278.66</td>\n",
              "      <td>1297.23</td>\n",
              "      <td>1277.05</td>\n",
              "      <td>1294.74</td>\n",
              "      <td>1480026.0</td>\n",
              "    </tr>\n",
              "  </tbody>\n",
              "</table>\n",
              "</div>"
            ],
            "text/plain": [
              "            1. open  2. high   3. low  4. close  5. volume\n",
              "date                                                      \n",
              "2019-12-09  1338.86  1357.55  1336.07   1342.99  1417560.0\n",
              "2019-12-06  1332.75  1342.47  1331.23   1339.39  1648729.0\n",
              "2019-12-05  1327.00  1327.98  1314.32   1326.96  1220631.0\n",
              "2019-12-04  1306.10  1324.27  1303.05   1318.94  1776392.0\n",
              "2019-12-03  1278.66  1297.23  1277.05   1294.74  1480026.0"
            ]
          },
          "metadata": {
            "tags": []
          },
          "execution_count": 103
        }
      ]
    },
    {
      "cell_type": "code",
      "metadata": {
        "id": "FEBJWbzn5Wpw",
        "colab_type": "code",
        "colab": {
          "base_uri": "https://localhost:8080/",
          "height": 34
        },
        "outputId": "590e8fcd-5022-4573-9fbc-a66b59f75a82"
      },
      "source": [
        "data.shape"
      ],
      "execution_count": 104,
      "outputs": [
        {
          "output_type": "execute_result",
          "data": {
            "text/plain": [
              "(3854, 5)"
            ]
          },
          "metadata": {
            "tags": []
          },
          "execution_count": 104
        }
      ]
    },
    {
      "cell_type": "code",
      "metadata": {
        "id": "x7-JbhtZ3lWs",
        "colab_type": "code",
        "colab": {
          "base_uri": "https://localhost:8080/",
          "height": 522
        },
        "outputId": "dd87819a-2f1e-4797-be23-44f15352c489"
      },
      "source": [
        "#Let’s plot the 'close' variable to understand how it’s shaping up in our data: \n",
        "\n",
        "plt.figure(figsize=(16,8))\n",
        "plt.plot(data['4. close'], label='Close Price history')"
      ],
      "execution_count": 105,
      "outputs": [
        {
          "output_type": "execute_result",
          "data": {
            "text/plain": [
              "[<matplotlib.lines.Line2D at 0x7f81b1feba20>]"
            ]
          },
          "metadata": {
            "tags": []
          },
          "execution_count": 105
        },
        {
          "output_type": "display_data",
          "data": {
            "image/png": "[encoded data removed]",
            "text/plain": [
              "<Figure size 1152x576 with 1 Axes>"
            ]
          },
          "metadata": {
            "tags": []
          }
        }
      ]
    },
    {
      "cell_type": "code",
      "metadata": {
        "id": "PGvUCxsclQVg",
        "colab_type": "code",
        "colab": {}
      },
      "source": [
        "#Change the data format ,so that it will be easy to understand and readable.\n",
        "\n",
        "data.columns=['open','high','low','close','volume']\n",
        "data=data.reset_index()"
      ],
      "execution_count": 0,
      "outputs": []
    },
    {
      "cell_type": "code",
      "metadata": {
        "id": "JoEjeClXoQeN",
        "colab_type": "code",
        "colab": {
          "base_uri": "https://localhost:8080/",
          "height": 235
        },
        "outputId": "979f92f0-7ce6-4e08-8ddb-4df728788d70"
      },
      "source": [
        "data.head().transpose()"
      ],
      "execution_count": 107,
      "outputs": [
        {
          "output_type": "execute_result",
          "data": {
            "text/html": [
              "<div>\n",
              "<style scoped>\n",
              "    .dataframe tbody tr th:only-of-type {\n",
              "        vertical-align: middle;\n",
              "    }\n",
              "\n",
              "    .dataframe tbody tr th {\n",
              "        vertical-align: top;\n",
              "    }\n",
              "\n",
              "    .dataframe thead th {\n",
              "        text-align: right;\n",
              "    }\n",
              "</style>\n",
              "<table border=\"1\" class=\"dataframe\">\n",
              "  <thead>\n",
              "    <tr style=\"text-align: right;\">\n",
              "      <th></th>\n",
              "      <th>0</th>\n",
              "      <th>1</th>\n",
              "      <th>2</th>\n",
              "      <th>3</th>\n",
              "      <th>4</th>\n",
              "    </tr>\n",
              "  </thead>\n",
              "  <tbody>\n",
              "    <tr>\n",
              "      <th>date</th>\n",
              "      <td>2019-12-09 00:00:00</td>\n",
              "      <td>2019-12-06 00:00:00</td>\n",
              "      <td>2019-12-05 00:00:00</td>\n",
              "      <td>2019-12-04 00:00:00</td>\n",
              "      <td>2019-12-03 00:00:00</td>\n",
              "    </tr>\n",
              "    <tr>\n",
              "      <th>open</th>\n",
              "      <td>1338.86</td>\n",
              "      <td>1332.75</td>\n",
              "      <td>1327</td>\n",
              "      <td>1306.1</td>\n",
              "      <td>1278.66</td>\n",
              "    </tr>\n",
              "    <tr>\n",
              "      <th>high</th>\n",
              "      <td>1357.55</td>\n",
              "      <td>1342.47</td>\n",
              "      <td>1327.98</td>\n",
              "      <td>1324.27</td>\n",
              "      <td>1297.23</td>\n",
              "    </tr>\n",
              "    <tr>\n",
              "      <th>low</th>\n",
              "      <td>1336.07</td>\n",
              "      <td>1331.23</td>\n",
              "      <td>1314.32</td>\n",
              "      <td>1303.05</td>\n",
              "      <td>1277.05</td>\n",
              "    </tr>\n",
              "    <tr>\n",
              "      <th>close</th>\n",
              "      <td>1342.99</td>\n",
              "      <td>1339.39</td>\n",
              "      <td>1326.96</td>\n",
              "      <td>1318.94</td>\n",
              "      <td>1294.74</td>\n",
              "    </tr>\n",
              "    <tr>\n",
              "      <th>volume</th>\n",
              "      <td>1.41756e+06</td>\n",
              "      <td>1.64873e+06</td>\n",
              "      <td>1.22063e+06</td>\n",
              "      <td>1.77639e+06</td>\n",
              "      <td>1.48003e+06</td>\n",
              "    </tr>\n",
              "  </tbody>\n",
              "</table>\n",
              "</div>"
            ],
            "text/plain": [
              "                          0  ...                    4\n",
              "date    2019-12-09 00:00:00  ...  2019-12-03 00:00:00\n",
              "open                1338.86  ...              1278.66\n",
              "high                1357.55  ...              1297.23\n",
              "low                 1336.07  ...              1277.05\n",
              "close               1342.99  ...              1294.74\n",
              "volume          1.41756e+06  ...          1.48003e+06\n",
              "\n",
              "[6 rows x 5 columns]"
            ]
          },
          "metadata": {
            "tags": []
          },
          "execution_count": 107
        }
      ]
    },
    {
      "cell_type": "code",
      "metadata": {
        "id": "OKUPkEV9lGMX",
        "colab_type": "code",
        "colab": {
          "base_uri": "https://localhost:8080/",
          "height": 297
        },
        "outputId": "41c21a18-7671-4ff2-d9eb-b79b08e40972"
      },
      "source": [
        "data.describe()   # for statistical details like percentile, mean, std and quantiles of data."
      ],
      "execution_count": 108,
      "outputs": [
        {
          "output_type": "execute_result",
          "data": {
            "text/html": [
              "<div>\n",
              "<style scoped>\n",
              "    .dataframe tbody tr th:only-of-type {\n",
              "        vertical-align: middle;\n",
              "    }\n",
              "\n",
              "    .dataframe tbody tr th {\n",
              "        vertical-align: top;\n",
              "    }\n",
              "\n",
              "    .dataframe thead th {\n",
              "        text-align: right;\n",
              "    }\n",
              "</style>\n",
              "<table border=\"1\" class=\"dataframe\">\n",
              "  <thead>\n",
              "    <tr style=\"text-align: right;\">\n",
              "      <th></th>\n",
              "      <th>open</th>\n",
              "      <th>high</th>\n",
              "      <th>low</th>\n",
              "      <th>close</th>\n",
              "      <th>volume</th>\n",
              "    </tr>\n",
              "  </thead>\n",
              "  <tbody>\n",
              "    <tr>\n",
              "      <th>count</th>\n",
              "      <td>3854.000000</td>\n",
              "      <td>3854.000000</td>\n",
              "      <td>3854.000000</td>\n",
              "      <td>3854.000000</td>\n",
              "      <td>3.854000e+03</td>\n",
              "    </tr>\n",
              "    <tr>\n",
              "      <th>mean</th>\n",
              "      <td>658.934278</td>\n",
              "      <td>665.016121</td>\n",
              "      <td>652.374620</td>\n",
              "      <td>658.780847</td>\n",
              "      <td>7.139593e+06</td>\n",
              "    </tr>\n",
              "    <tr>\n",
              "      <th>std</th>\n",
              "      <td>278.201937</td>\n",
              "      <td>279.864676</td>\n",
              "      <td>276.486559</td>\n",
              "      <td>278.313539</td>\n",
              "      <td>8.011565e+06</td>\n",
              "    </tr>\n",
              "    <tr>\n",
              "      <th>min</th>\n",
              "      <td>99.090000</td>\n",
              "      <td>101.740000</td>\n",
              "      <td>95.960000</td>\n",
              "      <td>100.010000</td>\n",
              "      <td>3.845900e+04</td>\n",
              "    </tr>\n",
              "    <tr>\n",
              "      <th>25%</th>\n",
              "      <td>475.097500</td>\n",
              "      <td>480.005000</td>\n",
              "      <td>470.300000</td>\n",
              "      <td>474.467500</td>\n",
              "      <td>1.928612e+06</td>\n",
              "    </tr>\n",
              "    <tr>\n",
              "      <th>50%</th>\n",
              "      <td>588.150000</td>\n",
              "      <td>592.200000</td>\n",
              "      <td>582.815000</td>\n",
              "      <td>587.115000</td>\n",
              "      <td>4.430048e+06</td>\n",
              "    </tr>\n",
              "    <tr>\n",
              "      <th>75%</th>\n",
              "      <td>828.792500</td>\n",
              "      <td>831.590000</td>\n",
              "      <td>823.203775</td>\n",
              "      <td>828.030000</td>\n",
              "      <td>9.152900e+06</td>\n",
              "    </tr>\n",
              "    <tr>\n",
              "      <th>max</th>\n",
              "      <td>1338.860000</td>\n",
              "      <td>1357.550000</td>\n",
              "      <td>1336.070000</td>\n",
              "      <td>1342.990000</td>\n",
              "      <td>8.215110e+07</td>\n",
              "    </tr>\n",
              "  </tbody>\n",
              "</table>\n",
              "</div>"
            ],
            "text/plain": [
              "              open         high          low        close        volume\n",
              "count  3854.000000  3854.000000  3854.000000  3854.000000  3.854000e+03\n",
              "mean    658.934278   665.016121   652.374620   658.780847  7.139593e+06\n",
              "std     278.201937   279.864676   276.486559   278.313539  8.011565e+06\n",
              "min      99.090000   101.740000    95.960000   100.010000  3.845900e+04\n",
              "25%     475.097500   480.005000   470.300000   474.467500  1.928612e+06\n",
              "50%     588.150000   592.200000   582.815000   587.115000  4.430048e+06\n",
              "75%     828.792500   831.590000   823.203775   828.030000  9.152900e+06\n",
              "max    1338.860000  1357.550000  1336.070000  1342.990000  8.215110e+07"
            ]
          },
          "metadata": {
            "tags": []
          },
          "execution_count": 108
        }
      ]
    },
    {
      "cell_type": "code",
      "metadata": {
        "id": "v8dtCEDglJbK",
        "colab_type": "code",
        "colab": {
          "base_uri": "https://localhost:8080/",
          "height": 204
        },
        "outputId": "3d6dc430-f88b-4169-86fd-48d4ee19e54d"
      },
      "source": [
        "data.info()        #Information about a DataFrame including the index dtype and column dtypes, non-null values and memory usage."
      ],
      "execution_count": 109,
      "outputs": [
        {
          "output_type": "stream",
          "text": [
            "<class 'pandas.core.frame.DataFrame'>\n",
            "RangeIndex: 3854 entries, 0 to 3853\n",
            "Data columns (total 6 columns):\n",
            "date      3854 non-null datetime64[ns]\n",
            "open      3854 non-null float64\n",
            "high      3854 non-null float64\n",
            "low       3854 non-null float64\n",
            "close     3854 non-null float64\n",
            "volume    3854 non-null float64\n",
            "dtypes: datetime64[ns](1), float64(5)\n",
            "memory usage: 180.8 KB\n"
          ],
          "name": "stdout"
        }
      ]
    },
    {
      "cell_type": "markdown",
      "metadata": {
        "id": "NC45ofLZuau8",
        "colab_type": "text"
      },
      "source": [
        "\n",
        "\n",
        "*   'date' is of datetime type while all others are float\n",
        "\n",
        "\n"
      ]
    },
    {
      "cell_type": "code",
      "metadata": {
        "id": "_q9nhquSui5-",
        "colab_type": "code",
        "colab": {
          "base_uri": "https://localhost:8080/",
          "height": 136
        },
        "outputId": "3e385939-90a7-4f4a-e5c7-5ff69f7bbb55"
      },
      "source": [
        "data.isnull().sum() # number of null values in each column."
      ],
      "execution_count": 110,
      "outputs": [
        {
          "output_type": "execute_result",
          "data": {
            "text/plain": [
              "date      0\n",
              "open      0\n",
              "high      0\n",
              "low       0\n",
              "close     0\n",
              "volume    0\n",
              "dtype: int64"
            ]
          },
          "metadata": {
            "tags": []
          },
          "execution_count": 110
        }
      ]
    },
    {
      "cell_type": "code",
      "metadata": {
        "id": "BxPBPsKp5y_B",
        "colab_type": "code",
        "colab": {}
      },
      "source": [
        ""
      ],
      "execution_count": 0,
      "outputs": []
    },
    {
      "cell_type": "markdown",
      "metadata": {
        "id": "8gWpLPpU_3sf",
        "colab_type": "text"
      },
      "source": [
        "#Models"
      ]
    },
    {
      "cell_type": "code",
      "metadata": {
        "id": "LDj4nJh4DgEy",
        "colab_type": "code",
        "colab": {}
      },
      "source": [
        ""
      ],
      "execution_count": 0,
      "outputs": []
    },
    {
      "cell_type": "markdown",
      "metadata": {
        "id": "SVyzQSvu_6Fd",
        "colab_type": "text"
      },
      "source": [
        "##i).Moving Average\n",
        "\n",
        "\n",
        "\n",
        "*   The predicted closing price for each day will be the average of a set of previously observed values. \n",
        "\n",
        "*   for each subsequent step, the predicted values are taken into consideration while removing the oldest observed value from the set.\n",
        "\n"
      ]
    },
    {
      "cell_type": "code",
      "metadata": {
        "id": "-qtNV9tm_5Xo",
        "colab_type": "code",
        "colab": {}
      },
      "source": [
        "#arrange the data in ascending order\n",
        "data=data.sort_values('date',ascending=True).reset_index().drop('index',axis=1)"
      ],
      "execution_count": 0,
      "outputs": []
    },
    {
      "cell_type": "code",
      "metadata": {
        "id": "KkhzMAwAA29u",
        "colab_type": "code",
        "colab": {
          "base_uri": "https://localhost:8080/",
          "height": 204
        },
        "outputId": "aebd578e-b6e3-4861-9936-2bd760183142"
      },
      "source": [
        "data.head()"
      ],
      "execution_count": 112,
      "outputs": [
        {
          "output_type": "execute_result",
          "data": {
            "text/html": [
              "<div>\n",
              "<style scoped>\n",
              "    .dataframe tbody tr th:only-of-type {\n",
              "        vertical-align: middle;\n",
              "    }\n",
              "\n",
              "    .dataframe tbody tr th {\n",
              "        vertical-align: top;\n",
              "    }\n",
              "\n",
              "    .dataframe thead th {\n",
              "        text-align: right;\n",
              "    }\n",
              "</style>\n",
              "<table border=\"1\" class=\"dataframe\">\n",
              "  <thead>\n",
              "    <tr style=\"text-align: right;\">\n",
              "      <th></th>\n",
              "      <th>date</th>\n",
              "      <th>open</th>\n",
              "      <th>high</th>\n",
              "      <th>low</th>\n",
              "      <th>close</th>\n",
              "      <th>volume</th>\n",
              "    </tr>\n",
              "  </thead>\n",
              "  <tbody>\n",
              "    <tr>\n",
              "      <th>0</th>\n",
              "      <td>2004-08-19</td>\n",
              "      <td>100.01</td>\n",
              "      <td>104.06</td>\n",
              "      <td>95.96</td>\n",
              "      <td>100.335</td>\n",
              "      <td>44659000.0</td>\n",
              "    </tr>\n",
              "    <tr>\n",
              "      <th>1</th>\n",
              "      <td>2004-08-20</td>\n",
              "      <td>101.01</td>\n",
              "      <td>109.08</td>\n",
              "      <td>100.50</td>\n",
              "      <td>108.310</td>\n",
              "      <td>22834300.0</td>\n",
              "    </tr>\n",
              "    <tr>\n",
              "      <th>2</th>\n",
              "      <td>2004-08-23</td>\n",
              "      <td>110.76</td>\n",
              "      <td>113.48</td>\n",
              "      <td>109.05</td>\n",
              "      <td>109.400</td>\n",
              "      <td>18256100.0</td>\n",
              "    </tr>\n",
              "    <tr>\n",
              "      <th>3</th>\n",
              "      <td>2004-08-24</td>\n",
              "      <td>111.24</td>\n",
              "      <td>111.60</td>\n",
              "      <td>103.57</td>\n",
              "      <td>104.870</td>\n",
              "      <td>15247300.0</td>\n",
              "    </tr>\n",
              "    <tr>\n",
              "      <th>4</th>\n",
              "      <td>2004-08-25</td>\n",
              "      <td>104.76</td>\n",
              "      <td>108.00</td>\n",
              "      <td>103.88</td>\n",
              "      <td>106.000</td>\n",
              "      <td>9188600.0</td>\n",
              "    </tr>\n",
              "  </tbody>\n",
              "</table>\n",
              "</div>"
            ],
            "text/plain": [
              "        date    open    high     low    close      volume\n",
              "0 2004-08-19  100.01  104.06   95.96  100.335  44659000.0\n",
              "1 2004-08-20  101.01  109.08  100.50  108.310  22834300.0\n",
              "2 2004-08-23  110.76  113.48  109.05  109.400  18256100.0\n",
              "3 2004-08-24  111.24  111.60  103.57  104.870  15247300.0\n",
              "4 2004-08-25  104.76  108.00  103.88  106.000   9188600.0"
            ]
          },
          "metadata": {
            "tags": []
          },
          "execution_count": 112
        }
      ]
    },
    {
      "cell_type": "code",
      "metadata": {
        "id": "W85vBoBZA4VY",
        "colab_type": "code",
        "colab": {}
      },
      "source": [
        "#splitting in train and test set.\n",
        "\n",
        "y_label=data['close']                # store target i.e. data['close'] in 'y_label' variable as it is the value that we have to predict.\n",
        "data=data.drop('close',axis=1)       #drop data['close'] as we have already stored it in 'y_label'.\n",
        "x_train,x_valid,y_train,y_valid=train_test_split(data,y_label,test_size=.3,random_state=42)     # Split the data in two parts i.e. train and validation part."
      ],
      "execution_count": 0,
      "outputs": []
    },
    {
      "cell_type": "code",
      "metadata": {
        "id": "LT-S8H7WF7eo",
        "colab_type": "code",
        "colab": {
          "base_uri": "https://localhost:8080/",
          "height": 34
        },
        "outputId": "32274e9a-4e03-4ce7-fcff-22cad418b755"
      },
      "source": [
        "x_train.shape         #shape of training set."
      ],
      "execution_count": 114,
      "outputs": [
        {
          "output_type": "execute_result",
          "data": {
            "text/plain": [
              "(2697, 5)"
            ]
          },
          "metadata": {
            "tags": []
          },
          "execution_count": 114
        }
      ]
    },
    {
      "cell_type": "code",
      "metadata": {
        "id": "p5UgnRD8GDPr",
        "colab_type": "code",
        "colab": {
          "base_uri": "https://localhost:8080/",
          "height": 34
        },
        "outputId": "9a561805-4646-4a91-8c92-9faa372d81d5"
      },
      "source": [
        "x_valid.shape[0]           #shape of validation set."
      ],
      "execution_count": 115,
      "outputs": [
        {
          "output_type": "execute_result",
          "data": {
            "text/plain": [
              "1157"
            ]
          },
          "metadata": {
            "tags": []
          },
          "execution_count": 115
        }
      ]
    },
    {
      "cell_type": "code",
      "metadata": {
        "id": "T1htPcoYGGCk",
        "colab_type": "code",
        "colab": {}
      },
      "source": [
        "#Making the prediction\n",
        "predictions = []\n",
        "for i in range(0,x_valid.shape[0]):\n",
        "    a = y_train[len(x_train)-x_valid.shape[0]+i:].sum() + sum(predictions)\n",
        "    b = a/(x_valid.shape[0])\n",
        "    predictions.append(b)"
      ],
      "execution_count": 0,
      "outputs": []
    },
    {
      "cell_type": "code",
      "metadata": {
        "id": "Fa6sfR89Kp6s",
        "colab_type": "code",
        "colab": {
          "base_uri": "https://localhost:8080/",
          "height": 34
        },
        "outputId": "98ad486d-3967-497a-c14b-87b2fd7c4167"
      },
      "source": [
        "#Checking the result(RMSE values)\n",
        "\n",
        "ms=mean_squared_error(np.array(y_valid), predictions)      \n",
        "rms=np.sqrt(ms)\n",
        "rms                                       # Mathematically: rms=np.sqrt(np.mean(np.power((np.array(y_valid)-predictions),2)))"
      ],
      "execution_count": 117,
      "outputs": [
        {
          "output_type": "execute_result",
          "data": {
            "text/plain": [
              "283.55834633570163"
            ]
          },
          "metadata": {
            "tags": []
          },
          "execution_count": 117
        }
      ]
    }
  ]
}