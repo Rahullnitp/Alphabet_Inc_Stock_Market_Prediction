{
  "nbformat": 4,
  "nbformat_minor": 0,
  "metadata": {
    "colab": {
      "name": "Alphabet_Inc_Stock_Market_Prediction.ipynb",
      "provenance": [],
      "include_colab_link": true
    },
    "kernelspec": {
      "name": "python3",
      "display_name": "Python 3"
    }
  },
  "cells": [
    {
      "cell_type": "markdown",
      "metadata": {
        "id": "view-in-github",
        "colab_type": "text"
      },
      "source": [
        "<a href=\"https://colab.research.google.com/github/Rahullnitp/Alphabet_Inc_Stock_Market_Prediction/blob/master/Alphabet_Inc_Stock_Market_Prediction.ipynb\" target=\"_parent\"><img src=\"https://colab.research.google.com/assets/colab-badge.svg\" alt=\"Open In Colab\"/></a>"
      ]
    },
    {
      "cell_type": "markdown",
      "metadata": {
        "id": "ScIres33Ib07",
        "colab_type": "text"
      },
      "source": [
        "#Aim\n",
        "\n",
        "Stock market prediction of  Alphabet Inc. .\n",
        "\n",
        "\n",
        "\n",
        "*  In this project , i will analyse and perform predictive analytics on the historic data of Alphabet Inc. and perform  a classification or regression task to predict future price or return. \n",
        "\n",
        "*   Alphabet Inc. is an American multinational conglomerate headquartered in Mountain View, California. It was created through a corporate restructuring of Google, and became the parent company of Google and several former Google subsidiaries.  "
      ]
    },
    {
      "cell_type": "markdown",
      "metadata": {
        "id": "I_OgPOIfWBqW",
        "colab_type": "text"
      },
      "source": [
        "#Data Collection :\n",
        "     \n",
        "\n",
        "*   Alpha vantage APIs is used for Data Collection of \"Alphabet Inc.\" "
      ]
    },
    {
      "cell_type": "code",
      "metadata": {
        "id": "mp8YQuHYIbd-",
        "colab_type": "code",
        "colab": {
          "base_uri": "https://localhost:8080/",
          "height": 119
        },
        "outputId": "90e5183c-0c0b-4c5d-9010-8fd94076966f"
      },
      "source": [
        "pip install alpha_vantage   #Python module to get stock data from the Alpha Vantage Api"
      ],
      "execution_count": 33,
      "outputs": [
        {
          "output_type": "stream",
          "text": [
            "Requirement already satisfied: alpha_vantage in /usr/local/lib/python3.6/dist-packages (2.1.2)\n",
            "Requirement already satisfied: requests in /usr/local/lib/python3.6/dist-packages (from alpha_vantage) (2.21.0)\n",
            "Requirement already satisfied: idna<2.9,>=2.5 in /usr/local/lib/python3.6/dist-packages (from requests->alpha_vantage) (2.8)\n",
            "Requirement already satisfied: certifi>=2017.4.17 in /usr/local/lib/python3.6/dist-packages (from requests->alpha_vantage) (2019.11.28)\n",
            "Requirement already satisfied: urllib3<1.25,>=1.21.1 in /usr/local/lib/python3.6/dist-packages (from requests->alpha_vantage) (1.24.3)\n",
            "Requirement already satisfied: chardet<3.1.0,>=3.0.2 in /usr/local/lib/python3.6/dist-packages (from requests->alpha_vantage) (3.0.4)\n"
          ],
          "name": "stdout"
        }
      ]
    },
    {
      "cell_type": "markdown",
      "metadata": {
        "id": "tfG9MhGXVAJ-",
        "colab_type": "text"
      },
      "source": [
        " Extract data in 'data' and information of data in 'meta_data' variables respectively.\n",
        "\n",
        "\n",
        "  \n",
        "\n",
        "\n",
        "\n"
      ]
    },
    {
      "cell_type": "code",
      "metadata": {
        "id": "8gJeWpT9jFFW",
        "colab_type": "code",
        "colab": {
          "base_uri": "https://localhost:8080/",
          "height": 272
        },
        "outputId": "e217495b-7f79-4539-99cd-7ea1b89c7cc4"
      },
      "source": [
        "from alpha_vantage.timeseries import TimeSeries\n",
        "ts = TimeSeries(key='1Z4BA7A9NKB32IJL',output_format='pandas')\n",
        "data, meta_data = ts.get_daily('GOOGL', outputsize='full') #by using symbol as \"GOOGL\" ,we can extract the data of 'Alphabet Inc.' .\n",
        "print(data)\n"
      ],
      "execution_count": 78,
      "outputs": [
        {
          "output_type": "stream",
          "text": [
            "            1. open  2. high   3. low  4. close   5. volume\n",
            "date                                                       \n",
            "2019-12-09  1338.86  1357.55  1336.07  1342.990   1417560.0\n",
            "2019-12-06  1332.75  1342.47  1331.23  1339.390   1648729.0\n",
            "2019-12-05  1327.00  1327.98  1314.32  1326.960   1220631.0\n",
            "2019-12-04  1306.10  1324.27  1303.05  1318.940   1776392.0\n",
            "2019-12-03  1278.66  1297.23  1277.05  1294.740   1480026.0\n",
            "...             ...      ...      ...       ...         ...\n",
            "2004-08-25   104.76   108.00   103.88   106.000   9188600.0\n",
            "2004-08-24   111.24   111.60   103.57   104.870  15247300.0\n",
            "2004-08-23   110.76   113.48   109.05   109.400  18256100.0\n",
            "2004-08-20   101.01   109.08   100.50   108.310  22834300.0\n",
            "2004-08-19   100.01   104.06    95.96   100.335  44659000.0\n",
            "\n",
            "[3854 rows x 5 columns]\n"
          ],
          "name": "stdout"
        }
      ]
    },
    {
      "cell_type": "markdown",
      "metadata": {
        "id": "0i9PtN86apdZ",
        "colab_type": "text"
      },
      "source": [
        "Overview of data\n",
        "*  This API returns daily time series (date, daily open, daily high, daily low, daily close, daily volume, daily adjusted close, and split/dividend events) of the global equity specified, covering 20+ years of historical data."
      ]
    },
    {
      "cell_type": "code",
      "metadata": {
        "id": "_Co3FVbMlRJJ",
        "colab_type": "code",
        "colab": {
          "base_uri": "https://localhost:8080/",
          "height": 102
        },
        "outputId": "6b2c55ca-9ee5-4556-bc6b-389c932cc3bb"
      },
      "source": [
        "meta_data"
      ],
      "execution_count": 80,
      "outputs": [
        {
          "output_type": "execute_result",
          "data": {
            "text/plain": [
              "{'1. Information': 'Daily Prices (open, high, low, close) and Volumes',\n",
              " '2. Symbol': 'GOOGL',\n",
              " '3. Last Refreshed': '2019-12-09',\n",
              " '4. Output Size': 'Full size',\n",
              " '5. Time Zone': 'US/Eastern'}"
            ]
          },
          "metadata": {
            "tags": []
          },
          "execution_count": 80
        }
      ]
    },
    {
      "cell_type": "code",
      "metadata": {
        "id": "IOR0OW3Rfn4v",
        "colab_type": "code",
        "colab": {}
      },
      "source": [
        ""
      ],
      "execution_count": 0,
      "outputs": []
    }
  ]
}