{
  "nbformat": 4,
  "nbformat_minor": 0,
  "metadata": {
    "colab": {
      "name": "Alphabet_Inc_Stock_Market_Prediction.ipynb",
      "provenance": [],
      "include_colab_link": true
    },
    "kernelspec": {
      "name": "python3",
      "display_name": "Python 3"
    },
    "accelerator": "GPU"
  },
  "cells": [
    {
      "cell_type": "markdown",
      "metadata": {
        "id": "view-in-github",
        "colab_type": "text"
      },
      "source": [
        "<a href=\"https://colab.research.google.com/github/Rahullnitp/Alphabet_Inc_Stock_Market_Prediction/blob/master/Alphabet_Inc_Stock_Market_Prediction.ipynb\" target=\"_parent\"><img src=\"https://colab.research.google.com/assets/colab-badge.svg\" alt=\"Open In Colab\"/></a>"
      ]
    },
    {
      "cell_type": "markdown",
      "metadata": {
        "id": "ScIres33Ib07",
        "colab_type": "text"
      },
      "source": [
        "#Aim\n",
        "\n",
        "Stock market prediction of  Alphabet Inc. .\n",
        "\n",
        "\n",
        "\n",
        "*  In this project , i will analyse and perform predictive analytics on the historic data of Alphabet Inc. and perform  a classification or regression task to predict future price or return. \n",
        "\n",
        "*   Alphabet Inc. is an American multinational conglomerate headquartered in Mountain View, California. It was created through a corporate restructuring of Google, and became the parent company of Google and several former Google subsidiaries.  "
      ]
    },
    {
      "cell_type": "markdown",
      "metadata": {
        "id": "I_OgPOIfWBqW",
        "colab_type": "text"
      },
      "source": [
        "#Data Collection :\n",
        "     \n",
        "\n",
        "*   Alpha vantage APIs is used for Data Collection of \"Alphabet Inc.\" "
      ]
    },
    {
      "cell_type": "code",
      "metadata": {
        "id": "mp8YQuHYIbd-",
        "colab_type": "code",
        "outputId": "07cbea07-591e-435d-b35b-1b990ae3222f",
        "colab": {
          "base_uri": "https://localhost:8080/",
          "height": 139
        }
      },
      "source": [
        "pip install alpha_vantage   #Python module to get stock data from the Alpha Vantage Api"
      ],
      "execution_count": 121,
      "outputs": [
        {
          "output_type": "stream",
          "text": [
            "Requirement already satisfied: alpha_vantage in /usr/local/lib/python3.6/dist-packages (2.1.2)\n",
            "Requirement already satisfied: requests in /usr/local/lib/python3.6/dist-packages (from alpha_vantage) (2.21.0)\n",
            "Requirement already satisfied: certifi>=2017.4.17 in /usr/local/lib/python3.6/dist-packages (from requests->alpha_vantage) (2019.11.28)\n",
            "Requirement already satisfied: idna<2.9,>=2.5 in /usr/local/lib/python3.6/dist-packages (from requests->alpha_vantage) (2.8)\n",
            "Requirement already satisfied: chardet<3.1.0,>=3.0.2 in /usr/local/lib/python3.6/dist-packages (from requests->alpha_vantage) (3.0.4)\n",
            "Requirement already satisfied: urllib3<1.25,>=1.21.1 in /usr/local/lib/python3.6/dist-packages (from requests->alpha_vantage) (1.24.3)\n"
          ],
          "name": "stdout"
        }
      ]
    },
    {
      "cell_type": "markdown",
      "metadata": {
        "id": "tfG9MhGXVAJ-",
        "colab_type": "text"
      },
      "source": [
        " Extract data in 'data' and information of data in 'meta_data' variables respectively.\n",
        "\n",
        "\n",
        "  \n",
        "\n",
        "\n",
        "\n"
      ]
    },
    {
      "cell_type": "code",
      "metadata": {
        "id": "8gJeWpT9jFFW",
        "colab_type": "code",
        "colab": {}
      },
      "source": [
        "from alpha_vantage.timeseries import TimeSeries\n",
        "ts = TimeSeries(key='1Z4BA7A9NKB32IJL',output_format='pandas')  \n",
        "data, meta_data = ts.get_daily('GOOGL', outputsize='full') #by using symbol as \"GOOGL\" ,we can extract the data of 'Alphabet Inc.' ."
      ],
      "execution_count": 0,
      "outputs": []
    },
    {
      "cell_type": "markdown",
      "metadata": {
        "id": "0i9PtN86apdZ",
        "colab_type": "text"
      },
      "source": [
        "Overview of data\n",
        "*  This API returns daily time series (date, daily open, daily high, daily low, daily close, daily volume, daily adjusted close, and split/dividend events) of the global equity specified, covering 20+ years of historical data as shown below in meta_data."
      ]
    },
    {
      "cell_type": "code",
      "metadata": {
        "id": "_Co3FVbMlRJJ",
        "colab_type": "code",
        "outputId": "2d3a3bd2-aeac-4df6-9fe1-4f851c6fa8f7",
        "colab": {
          "base_uri": "https://localhost:8080/",
          "height": 102
        }
      },
      "source": [
        "meta_data"
      ],
      "execution_count": 123,
      "outputs": [
        {
          "output_type": "execute_result",
          "data": {
            "text/plain": [
              "{'1. Information': 'Daily Prices (open, high, low, close) and Volumes',\n",
              " '2. Symbol': 'GOOGL',\n",
              " '3. Last Refreshed': '2019-12-10',\n",
              " '4. Output Size': 'Full size',\n",
              " '5. Time Zone': 'US/Eastern'}"
            ]
          },
          "metadata": {
            "tags": []
          },
          "execution_count": 123
        }
      ]
    },
    {
      "cell_type": "code",
      "metadata": {
        "id": "IOR0OW3Rfn4v",
        "colab_type": "code",
        "colab": {}
      },
      "source": [
        ""
      ],
      "execution_count": 0,
      "outputs": []
    },
    {
      "cell_type": "markdown",
      "metadata": {
        "id": "foUK9Q0ZiTxj",
        "colab_type": "text"
      },
      "source": [
        "#Data_preprocessing:\n",
        "\n",
        "in this section, i will perform Data mining technique that involves transforming raw data into an understandable format and Data Cleaning .\n"
      ]
    },
    {
      "cell_type": "code",
      "metadata": {
        "id": "o4iniHzHi0DL",
        "colab_type": "code",
        "colab": {}
      },
      "source": [
        "# import libraries\n",
        "\n",
        "import os\n",
        "import numpy as np\n",
        "import pandas as pd\n",
        "import seaborn as sns\n",
        "import matplotlib.pyplot as plt\n",
        "from sklearn.metrics import mean_squared_error\n",
        "from sklearn.model_selection import train_test_split\n",
        "%matplotlib inline\n",
        "import warnings\n",
        "warnings.filterwarnings('ignore')\n",
        "from matplotlib.pylab import rcParams\n"
      ],
      "execution_count": 0,
      "outputs": []
    },
    {
      "cell_type": "code",
      "metadata": {
        "id": "JG_EuGvqlB4r",
        "colab_type": "code",
        "outputId": "7153cd45-f61f-446a-eccb-1ee8fbe50a96",
        "colab": {
          "base_uri": "https://localhost:8080/",
          "height": 227
        }
      },
      "source": [
        "data.head()"
      ],
      "execution_count": 125,
      "outputs": [
        {
          "output_type": "execute_result",
          "data": {
            "text/html": [
              "<div>\n",
              "<style scoped>\n",
              "    .dataframe tbody tr th:only-of-type {\n",
              "        vertical-align: middle;\n",
              "    }\n",
              "\n",
              "    .dataframe tbody tr th {\n",
              "        vertical-align: top;\n",
              "    }\n",
              "\n",
              "    .dataframe thead th {\n",
              "        text-align: right;\n",
              "    }\n",
              "</style>\n",
              "<table border=\"1\" class=\"dataframe\">\n",
              "  <thead>\n",
              "    <tr style=\"text-align: right;\">\n",
              "      <th></th>\n",
              "      <th>1. open</th>\n",
              "      <th>2. high</th>\n",
              "      <th>3. low</th>\n",
              "      <th>4. close</th>\n",
              "      <th>5. volume</th>\n",
              "    </tr>\n",
              "    <tr>\n",
              "      <th>date</th>\n",
              "      <th></th>\n",
              "      <th></th>\n",
              "      <th></th>\n",
              "      <th></th>\n",
              "      <th></th>\n",
              "    </tr>\n",
              "  </thead>\n",
              "  <tbody>\n",
              "    <tr>\n",
              "      <th>2019-12-10</th>\n",
              "      <td>1339.94</td>\n",
              "      <td>1348.00</td>\n",
              "      <td>1334.00</td>\n",
              "      <td>1342.89</td>\n",
              "      <td>868417.0</td>\n",
              "    </tr>\n",
              "    <tr>\n",
              "      <th>2019-12-09</th>\n",
              "      <td>1338.86</td>\n",
              "      <td>1357.55</td>\n",
              "      <td>1336.07</td>\n",
              "      <td>1342.99</td>\n",
              "      <td>1556889.0</td>\n",
              "    </tr>\n",
              "    <tr>\n",
              "      <th>2019-12-06</th>\n",
              "      <td>1332.75</td>\n",
              "      <td>1342.47</td>\n",
              "      <td>1331.23</td>\n",
              "      <td>1339.39</td>\n",
              "      <td>1648729.0</td>\n",
              "    </tr>\n",
              "    <tr>\n",
              "      <th>2019-12-05</th>\n",
              "      <td>1327.00</td>\n",
              "      <td>1327.98</td>\n",
              "      <td>1314.32</td>\n",
              "      <td>1326.96</td>\n",
              "      <td>1220631.0</td>\n",
              "    </tr>\n",
              "    <tr>\n",
              "      <th>2019-12-04</th>\n",
              "      <td>1306.10</td>\n",
              "      <td>1324.27</td>\n",
              "      <td>1303.05</td>\n",
              "      <td>1318.94</td>\n",
              "      <td>1776392.0</td>\n",
              "    </tr>\n",
              "  </tbody>\n",
              "</table>\n",
              "</div>"
            ],
            "text/plain": [
              "            1. open  2. high   3. low  4. close  5. volume\n",
              "date                                                      \n",
              "2019-12-10  1339.94  1348.00  1334.00   1342.89   868417.0\n",
              "2019-12-09  1338.86  1357.55  1336.07   1342.99  1556889.0\n",
              "2019-12-06  1332.75  1342.47  1331.23   1339.39  1648729.0\n",
              "2019-12-05  1327.00  1327.98  1314.32   1326.96  1220631.0\n",
              "2019-12-04  1306.10  1324.27  1303.05   1318.94  1776392.0"
            ]
          },
          "metadata": {
            "tags": []
          },
          "execution_count": 125
        }
      ]
    },
    {
      "cell_type": "code",
      "metadata": {
        "id": "FEBJWbzn5Wpw",
        "colab_type": "code",
        "outputId": "882a7774-b866-4987-8ae6-723fb9b2a286",
        "colab": {
          "base_uri": "https://localhost:8080/",
          "height": 34
        }
      },
      "source": [
        "data.shape"
      ],
      "execution_count": 126,
      "outputs": [
        {
          "output_type": "execute_result",
          "data": {
            "text/plain": [
              "(3855, 5)"
            ]
          },
          "metadata": {
            "tags": []
          },
          "execution_count": 126
        }
      ]
    },
    {
      "cell_type": "code",
      "metadata": {
        "id": "x7-JbhtZ3lWs",
        "colab_type": "code",
        "outputId": "a745a930-cf6f-4fcf-ef38-1b2fc52ef5ca",
        "colab": {
          "base_uri": "https://localhost:8080/",
          "height": 522
        }
      },
      "source": [
        "#Let’s plot the 'close' variable to understand how it’s shaping up in our data: \n",
        "\n",
        "plt.figure(figsize=(16,8))\n",
        "plt.plot(data['4. close'], label='Close Price history')"
      ],
      "execution_count": 127,
      "outputs": [
        {
          "output_type": "execute_result",
          "data": {
            "text/plain": [
              "[<matplotlib.lines.Line2D at 0x7efc4fb36898>]"
            ]
          },
          "metadata": {
            "tags": []
          },
          "execution_count": 127
        },
        {
          "output_type": "display_data",
          "data": {
            "image/png": "[encoded data removed]",
            "text/plain": [
              "<Figure size 1152x576 with 1 Axes>"
            ]
          },
          "metadata": {
            "tags": []
          }
        }
      ]
    },
    {
      "cell_type": "code",
      "metadata": {
        "id": "PGvUCxsclQVg",
        "colab_type": "code",
        "colab": {}
      },
      "source": [
        "#Change the data format ,so that it will be easy to understand and readable.\n",
        "\n",
        "data.columns=['open','high','low','close','volume']\n",
        "data=data.reset_index()"
      ],
      "execution_count": 0,
      "outputs": []
    },
    {
      "cell_type": "code",
      "metadata": {
        "id": "JoEjeClXoQeN",
        "colab_type": "code",
        "outputId": "9e6906b0-6b1b-4cd9-d47b-97511b5741e5",
        "colab": {
          "base_uri": "https://localhost:8080/",
          "height": 227
        }
      },
      "source": [
        "data.head().transpose()"
      ],
      "execution_count": 129,
      "outputs": [
        {
          "output_type": "execute_result",
          "data": {
            "text/html": [
              "<div>\n",
              "<style scoped>\n",
              "    .dataframe tbody tr th:only-of-type {\n",
              "        vertical-align: middle;\n",
              "    }\n",
              "\n",
              "    .dataframe tbody tr th {\n",
              "        vertical-align: top;\n",
              "    }\n",
              "\n",
              "    .dataframe thead th {\n",
              "        text-align: right;\n",
              "    }\n",
              "</style>\n",
              "<table border=\"1\" class=\"dataframe\">\n",
              "  <thead>\n",
              "    <tr style=\"text-align: right;\">\n",
              "      <th></th>\n",
              "      <th>0</th>\n",
              "      <th>1</th>\n",
              "      <th>2</th>\n",
              "      <th>3</th>\n",
              "      <th>4</th>\n",
              "    </tr>\n",
              "  </thead>\n",
              "  <tbody>\n",
              "    <tr>\n",
              "      <th>date</th>\n",
              "      <td>2019-12-10 00:00:00</td>\n",
              "      <td>2019-12-09 00:00:00</td>\n",
              "      <td>2019-12-06 00:00:00</td>\n",
              "      <td>2019-12-05 00:00:00</td>\n",
              "      <td>2019-12-04 00:00:00</td>\n",
              "    </tr>\n",
              "    <tr>\n",
              "      <th>open</th>\n",
              "      <td>1339.94</td>\n",
              "      <td>1338.86</td>\n",
              "      <td>1332.75</td>\n",
              "      <td>1327</td>\n",
              "      <td>1306.1</td>\n",
              "    </tr>\n",
              "    <tr>\n",
              "      <th>high</th>\n",
              "      <td>1348</td>\n",
              "      <td>1357.55</td>\n",
              "      <td>1342.47</td>\n",
              "      <td>1327.98</td>\n",
              "      <td>1324.27</td>\n",
              "    </tr>\n",
              "    <tr>\n",
              "      <th>low</th>\n",
              "      <td>1334</td>\n",
              "      <td>1336.07</td>\n",
              "      <td>1331.23</td>\n",
              "      <td>1314.32</td>\n",
              "      <td>1303.05</td>\n",
              "    </tr>\n",
              "    <tr>\n",
              "      <th>close</th>\n",
              "      <td>1342.89</td>\n",
              "      <td>1342.99</td>\n",
              "      <td>1339.39</td>\n",
              "      <td>1326.96</td>\n",
              "      <td>1318.94</td>\n",
              "    </tr>\n",
              "    <tr>\n",
              "      <th>volume</th>\n",
              "      <td>868417</td>\n",
              "      <td>1.55689e+06</td>\n",
              "      <td>1.64873e+06</td>\n",
              "      <td>1.22063e+06</td>\n",
              "      <td>1.77639e+06</td>\n",
              "    </tr>\n",
              "  </tbody>\n",
              "</table>\n",
              "</div>"
            ],
            "text/plain": [
              "                          0  ...                    4\n",
              "date    2019-12-10 00:00:00  ...  2019-12-04 00:00:00\n",
              "open                1339.94  ...               1306.1\n",
              "high                   1348  ...              1324.27\n",
              "low                    1334  ...              1303.05\n",
              "close               1342.89  ...              1318.94\n",
              "volume               868417  ...          1.77639e+06\n",
              "\n",
              "[6 rows x 5 columns]"
            ]
          },
          "metadata": {
            "tags": []
          },
          "execution_count": 129
        }
      ]
    },
    {
      "cell_type": "code",
      "metadata": {
        "id": "OKUPkEV9lGMX",
        "colab_type": "code",
        "outputId": "afe3434e-d3ca-45f5-cec2-7cdd369daa16",
        "colab": {
          "base_uri": "https://localhost:8080/",
          "height": 286
        }
      },
      "source": [
        "data.describe()   # for statistical details like percentile, mean, std and quantiles of data."
      ],
      "execution_count": 130,
      "outputs": [
        {
          "output_type": "execute_result",
          "data": {
            "text/html": [
              "<div>\n",
              "<style scoped>\n",
              "    .dataframe tbody tr th:only-of-type {\n",
              "        vertical-align: middle;\n",
              "    }\n",
              "\n",
              "    .dataframe tbody tr th {\n",
              "        vertical-align: top;\n",
              "    }\n",
              "\n",
              "    .dataframe thead th {\n",
              "        text-align: right;\n",
              "    }\n",
              "</style>\n",
              "<table border=\"1\" class=\"dataframe\">\n",
              "  <thead>\n",
              "    <tr style=\"text-align: right;\">\n",
              "      <th></th>\n",
              "      <th>open</th>\n",
              "      <th>high</th>\n",
              "      <th>low</th>\n",
              "      <th>close</th>\n",
              "      <th>volume</th>\n",
              "    </tr>\n",
              "  </thead>\n",
              "  <tbody>\n",
              "    <tr>\n",
              "      <th>count</th>\n",
              "      <td>3855.000000</td>\n",
              "      <td>3855.000000</td>\n",
              "      <td>3855.000000</td>\n",
              "      <td>3855.000000</td>\n",
              "      <td>3.855000e+03</td>\n",
              "    </tr>\n",
              "    <tr>\n",
              "      <th>mean</th>\n",
              "      <td>659.110933</td>\n",
              "      <td>665.193289</td>\n",
              "      <td>652.551436</td>\n",
              "      <td>658.958307</td>\n",
              "      <td>7.138003e+06</td>\n",
              "    </tr>\n",
              "    <tr>\n",
              "      <th>std</th>\n",
              "      <td>278.382002</td>\n",
              "      <td>280.044492</td>\n",
              "      <td>276.668582</td>\n",
              "      <td>278.495475</td>\n",
              "      <td>8.011137e+06</td>\n",
              "    </tr>\n",
              "    <tr>\n",
              "      <th>min</th>\n",
              "      <td>99.090000</td>\n",
              "      <td>101.740000</td>\n",
              "      <td>95.960000</td>\n",
              "      <td>100.010000</td>\n",
              "      <td>3.845900e+04</td>\n",
              "    </tr>\n",
              "    <tr>\n",
              "      <th>25%</th>\n",
              "      <td>475.115000</td>\n",
              "      <td>480.030000</td>\n",
              "      <td>470.310000</td>\n",
              "      <td>474.605000</td>\n",
              "      <td>1.926933e+06</td>\n",
              "    </tr>\n",
              "    <tr>\n",
              "      <th>50%</th>\n",
              "      <td>588.160000</td>\n",
              "      <td>592.340000</td>\n",
              "      <td>582.820000</td>\n",
              "      <td>587.140000</td>\n",
              "      <td>4.428500e+06</td>\n",
              "    </tr>\n",
              "    <tr>\n",
              "      <th>75%</th>\n",
              "      <td>828.965000</td>\n",
              "      <td>831.905000</td>\n",
              "      <td>823.248800</td>\n",
              "      <td>828.360000</td>\n",
              "      <td>9.150600e+06</td>\n",
              "    </tr>\n",
              "    <tr>\n",
              "      <th>max</th>\n",
              "      <td>1339.940000</td>\n",
              "      <td>1357.550000</td>\n",
              "      <td>1336.070000</td>\n",
              "      <td>1342.990000</td>\n",
              "      <td>8.215110e+07</td>\n",
              "    </tr>\n",
              "  </tbody>\n",
              "</table>\n",
              "</div>"
            ],
            "text/plain": [
              "              open         high          low        close        volume\n",
              "count  3855.000000  3855.000000  3855.000000  3855.000000  3.855000e+03\n",
              "mean    659.110933   665.193289   652.551436   658.958307  7.138003e+06\n",
              "std     278.382002   280.044492   276.668582   278.495475  8.011137e+06\n",
              "min      99.090000   101.740000    95.960000   100.010000  3.845900e+04\n",
              "25%     475.115000   480.030000   470.310000   474.605000  1.926933e+06\n",
              "50%     588.160000   592.340000   582.820000   587.140000  4.428500e+06\n",
              "75%     828.965000   831.905000   823.248800   828.360000  9.150600e+06\n",
              "max    1339.940000  1357.550000  1336.070000  1342.990000  8.215110e+07"
            ]
          },
          "metadata": {
            "tags": []
          },
          "execution_count": 130
        }
      ]
    },
    {
      "cell_type": "code",
      "metadata": {
        "id": "v8dtCEDglJbK",
        "colab_type": "code",
        "outputId": "cd4c3291-ee76-43de-cc89-520573f7f42a",
        "colab": {
          "base_uri": "https://localhost:8080/",
          "height": 204
        }
      },
      "source": [
        "data.info()        #Information about a DataFrame including the index dtype and column dtypes, non-null values and memory usage."
      ],
      "execution_count": 131,
      "outputs": [
        {
          "output_type": "stream",
          "text": [
            "<class 'pandas.core.frame.DataFrame'>\n",
            "RangeIndex: 3855 entries, 0 to 3854\n",
            "Data columns (total 6 columns):\n",
            "date      3855 non-null datetime64[ns]\n",
            "open      3855 non-null float64\n",
            "high      3855 non-null float64\n",
            "low       3855 non-null float64\n",
            "close     3855 non-null float64\n",
            "volume    3855 non-null float64\n",
            "dtypes: datetime64[ns](1), float64(5)\n",
            "memory usage: 180.8 KB\n"
          ],
          "name": "stdout"
        }
      ]
    },
    {
      "cell_type": "markdown",
      "metadata": {
        "id": "NC45ofLZuau8",
        "colab_type": "text"
      },
      "source": [
        "\n",
        "\n",
        "*   'date' is of datetime type while all others are float\n",
        "\n",
        "\n"
      ]
    },
    {
      "cell_type": "code",
      "metadata": {
        "id": "_q9nhquSui5-",
        "colab_type": "code",
        "outputId": "88093da8-a7b6-43d7-cad1-f508dd8e4350",
        "colab": {
          "base_uri": "https://localhost:8080/",
          "height": 136
        }
      },
      "source": [
        "data.isnull().sum() # number of null values in each column."
      ],
      "execution_count": 132,
      "outputs": [
        {
          "output_type": "execute_result",
          "data": {
            "text/plain": [
              "date      0\n",
              "open      0\n",
              "high      0\n",
              "low       0\n",
              "close     0\n",
              "volume    0\n",
              "dtype: int64"
            ]
          },
          "metadata": {
            "tags": []
          },
          "execution_count": 132
        }
      ]
    },
    {
      "cell_type": "code",
      "metadata": {
        "id": "BxPBPsKp5y_B",
        "colab_type": "code",
        "colab": {}
      },
      "source": [
        ""
      ],
      "execution_count": 0,
      "outputs": []
    },
    {
      "cell_type": "markdown",
      "metadata": {
        "id": "8gWpLPpU_3sf",
        "colab_type": "text"
      },
      "source": [
        "#Models"
      ]
    },
    {
      "cell_type": "code",
      "metadata": {
        "id": "LDj4nJh4DgEy",
        "colab_type": "code",
        "colab": {}
      },
      "source": [
        ""
      ],
      "execution_count": 0,
      "outputs": []
    },
    {
      "cell_type": "markdown",
      "metadata": {
        "id": "SVyzQSvu_6Fd",
        "colab_type": "text"
      },
      "source": [
        "##i).Moving Average\n",
        "\n",
        "\n",
        "\n",
        "*   The predicted closing price for each day will be the average of a set of previously observed values. \n",
        "\n",
        "*   for each subsequent step, the predicted values are taken into consideration while removing the oldest observed value from the set.\n",
        "\n"
      ]
    },
    {
      "cell_type": "code",
      "metadata": {
        "id": "-qtNV9tm_5Xo",
        "colab_type": "code",
        "colab": {}
      },
      "source": [
        "#arrange the data in ascending order\n",
        "data=data.sort_values('date',ascending=True).reset_index().drop('index',axis=1)"
      ],
      "execution_count": 0,
      "outputs": []
    },
    {
      "cell_type": "code",
      "metadata": {
        "id": "KkhzMAwAA29u",
        "colab_type": "code",
        "outputId": "00cb7544-feaf-48b9-b492-dbd209f4e55f",
        "colab": {
          "base_uri": "https://localhost:8080/",
          "height": 197
        }
      },
      "source": [
        "data.head()"
      ],
      "execution_count": 134,
      "outputs": [
        {
          "output_type": "execute_result",
          "data": {
            "text/html": [
              "<div>\n",
              "<style scoped>\n",
              "    .dataframe tbody tr th:only-of-type {\n",
              "        vertical-align: middle;\n",
              "    }\n",
              "\n",
              "    .dataframe tbody tr th {\n",
              "        vertical-align: top;\n",
              "    }\n",
              "\n",
              "    .dataframe thead th {\n",
              "        text-align: right;\n",
              "    }\n",
              "</style>\n",
              "<table border=\"1\" class=\"dataframe\">\n",
              "  <thead>\n",
              "    <tr style=\"text-align: right;\">\n",
              "      <th></th>\n",
              "      <th>date</th>\n",
              "      <th>open</th>\n",
              "      <th>high</th>\n",
              "      <th>low</th>\n",
              "      <th>close</th>\n",
              "      <th>volume</th>\n",
              "    </tr>\n",
              "  </thead>\n",
              "  <tbody>\n",
              "    <tr>\n",
              "      <th>0</th>\n",
              "      <td>2004-08-19</td>\n",
              "      <td>100.01</td>\n",
              "      <td>104.06</td>\n",
              "      <td>95.96</td>\n",
              "      <td>100.335</td>\n",
              "      <td>44659000.0</td>\n",
              "    </tr>\n",
              "    <tr>\n",
              "      <th>1</th>\n",
              "      <td>2004-08-20</td>\n",
              "      <td>101.01</td>\n",
              "      <td>109.08</td>\n",
              "      <td>100.50</td>\n",
              "      <td>108.310</td>\n",
              "      <td>22834300.0</td>\n",
              "    </tr>\n",
              "    <tr>\n",
              "      <th>2</th>\n",
              "      <td>2004-08-23</td>\n",
              "      <td>110.76</td>\n",
              "      <td>113.48</td>\n",
              "      <td>109.05</td>\n",
              "      <td>109.400</td>\n",
              "      <td>18256100.0</td>\n",
              "    </tr>\n",
              "    <tr>\n",
              "      <th>3</th>\n",
              "      <td>2004-08-24</td>\n",
              "      <td>111.24</td>\n",
              "      <td>111.60</td>\n",
              "      <td>103.57</td>\n",
              "      <td>104.870</td>\n",
              "      <td>15247300.0</td>\n",
              "    </tr>\n",
              "    <tr>\n",
              "      <th>4</th>\n",
              "      <td>2004-08-25</td>\n",
              "      <td>104.76</td>\n",
              "      <td>108.00</td>\n",
              "      <td>103.88</td>\n",
              "      <td>106.000</td>\n",
              "      <td>9188600.0</td>\n",
              "    </tr>\n",
              "  </tbody>\n",
              "</table>\n",
              "</div>"
            ],
            "text/plain": [
              "        date    open    high     low    close      volume\n",
              "0 2004-08-19  100.01  104.06   95.96  100.335  44659000.0\n",
              "1 2004-08-20  101.01  109.08  100.50  108.310  22834300.0\n",
              "2 2004-08-23  110.76  113.48  109.05  109.400  18256100.0\n",
              "3 2004-08-24  111.24  111.60  103.57  104.870  15247300.0\n",
              "4 2004-08-25  104.76  108.00  103.88  106.000   9188600.0"
            ]
          },
          "metadata": {
            "tags": []
          },
          "execution_count": 134
        }
      ]
    },
    {
      "cell_type": "markdown",
      "metadata": {
        "id": "kcDACt7zQWS9",
        "colab_type": "text"
      },
      "source": [
        "\n",
        "\n",
        "* In this method we have the use of only 'date' and target feature 'close'.so,we will make a new dataframe called as 'data_M_A'"
      ]
    },
    {
      "cell_type": "code",
      "metadata": {
        "id": "JRhvffeDRQso",
        "colab_type": "code",
        "colab": {}
      },
      "source": [
        "#make new dataframe\n",
        "data_M_A=data[['date','close']]"
      ],
      "execution_count": 0,
      "outputs": []
    },
    {
      "cell_type": "code",
      "metadata": {
        "id": "W85vBoBZA4VY",
        "colab_type": "code",
        "colab": {}
      },
      "source": [
        "#splitting in train and test set.\n",
        "train_len=int(0.9*len(data_M_A))    # not using following method for splitting data as it rearrange the the data every time it splitt.\n",
        "train=data_M_A[:train_len]          # x_train,x_valid,y_train,y_valid=train_test_split(data_M_A,y_label,test_size=.15,random_state=0)     # Split the data in two parts i.e. train and validation part.\n",
        "\n",
        "valid=data_M_A[train_len:]"
      ],
      "execution_count": 0,
      "outputs": []
    },
    {
      "cell_type": "markdown",
      "metadata": {
        "id": "f-HL3nCkhdZ0",
        "colab_type": "text"
      },
      "source": [
        "###Prediction"
      ]
    },
    {
      "cell_type": "code",
      "metadata": {
        "id": "T1htPcoYGGCk",
        "colab_type": "code",
        "colab": {}
      },
      "source": [
        "#Making the prediction\n",
        "predictions = []\n",
        "for i in range(0,valid.shape[0]):\n",
        "    a = train['close'][len(train)-valid.shape[0]+i:].sum() + sum(predictions)\n",
        "    b = a/(valid.shape[0])\n",
        "    predictions.append(b)"
      ],
      "execution_count": 0,
      "outputs": []
    },
    {
      "cell_type": "code",
      "metadata": {
        "id": "Fa6sfR89Kp6s",
        "colab_type": "code",
        "outputId": "4586ae8e-98a9-488c-a48f-98d5a986b232",
        "colab": {
          "base_uri": "https://localhost:8080/",
          "height": 34
        }
      },
      "source": [
        "#Checking the result(RMSE values)\n",
        "\n",
        "ms=mean_squared_error(np.array(valid['close']), predictions)      \n",
        "rms=np.sqrt(ms)\n",
        "rms                                       # Mathematically: rms=np.sqrt(np.mean(np.power((np.array(y_valid)-predictions),2)))"
      ],
      "execution_count": 138,
      "outputs": [
        {
          "output_type": "execute_result",
          "data": {
            "text/plain": [
              "171.66824372162446"
            ]
          },
          "metadata": {
            "tags": []
          },
          "execution_count": 138
        }
      ]
    },
    {
      "cell_type": "markdown",
      "metadata": {
        "id": "afXfqlJVhZVE",
        "colab_type": "text"
      },
      "source": [
        "###Plot"
      ]
    },
    {
      "cell_type": "code",
      "metadata": {
        "id": "mRl_jugEOprC",
        "colab_type": "code",
        "outputId": "eb189204-d650-4456-dd05-92ead8c89826",
        "colab": {
          "base_uri": "https://localhost:8080/",
          "height": 647
        }
      },
      "source": [
        "#plot\n",
        "valid['predictions'] = 0\n",
        "valid['predictions'] = predictions\n",
        "plt.figure(figsize=(20,10))\n",
        "plt.plot(train['close'])\n",
        "plt.plot(valid[['close', 'predictions']])\n",
        "#plt.plot(data['close'])\n"
      ],
      "execution_count": 139,
      "outputs": [
        {
          "output_type": "execute_result",
          "data": {
            "text/plain": [
              "[<matplotlib.lines.Line2D at 0x7efc4fa03208>,\n",
              " <matplotlib.lines.Line2D at 0x7efc4fa03320>]"
            ]
          },
          "metadata": {
            "tags": []
          },
          "execution_count": 139
        },
        {
          "output_type": "display_data",
          "data": {
            "image/png": "[encoded data removed]",
            "text/plain": [
              "<Figure size 1440x720 with 1 Axes>"
            ]
          },
          "metadata": {
            "tags": []
          }
        }
      ]
    },
    {
      "cell_type": "markdown",
      "metadata": {
        "id": "lVpJsmGghJmB",
        "colab_type": "text"
      },
      "source": [
        "###Conclusion\n",
        "\n",
        "\n",
        "*   RMSE value is close to 172 but the result is not very auscpicious.\n",
        "*   As from the plot ,the predicted value are following the same trend as the observed value, first increase then decrease \n",
        "\n"
      ]
    },
    {
      "cell_type": "markdown",
      "metadata": {
        "id": "4pQGYz4Vm9C1",
        "colab_type": "text"
      },
      "source": [
        "##ii). Linear Regression"
      ]
    },
    {
      "cell_type": "markdown",
      "metadata": {
        "id": "EezmTEypnJlA",
        "colab_type": "text"
      },
      "source": [
        "\n",
        "\n",
        "*   This returns an equation that determines the relationship between independent variables and dependent variables('close').                      \n",
        "\n",
        "We will first create a separate dataset, so that any feature engineering based on the model doesn't affect the original dataset.\n",
        "\n"
      ]
    },
    {
      "cell_type": "markdown",
      "metadata": {
        "id": "rh0KszQ9qJXC",
        "colab_type": "text"
      },
      "source": [
        "###Dummy Dataset "
      ]
    },
    {
      "cell_type": "code",
      "metadata": {
        "id": "HUBXEsxYfMGV",
        "colab_type": "code",
        "colab": {
          "base_uri": "https://localhost:8080/",
          "height": 197
        },
        "outputId": "886e31ee-452b-460e-f6e5-b06b2f02c8a4"
      },
      "source": [
        "data_L_R=data[['date','close']]\n",
        "data_L_R.head()"
      ],
      "execution_count": 154,
      "outputs": [
        {
          "output_type": "execute_result",
          "data": {
            "text/html": [
              "<div>\n",
              "<style scoped>\n",
              "    .dataframe tbody tr th:only-of-type {\n",
              "        vertical-align: middle;\n",
              "    }\n",
              "\n",
              "    .dataframe tbody tr th {\n",
              "        vertical-align: top;\n",
              "    }\n",
              "\n",
              "    .dataframe thead th {\n",
              "        text-align: right;\n",
              "    }\n",
              "</style>\n",
              "<table border=\"1\" class=\"dataframe\">\n",
              "  <thead>\n",
              "    <tr style=\"text-align: right;\">\n",
              "      <th></th>\n",
              "      <th>date</th>\n",
              "      <th>close</th>\n",
              "    </tr>\n",
              "  </thead>\n",
              "  <tbody>\n",
              "    <tr>\n",
              "      <th>0</th>\n",
              "      <td>2004-08-19</td>\n",
              "      <td>100.335</td>\n",
              "    </tr>\n",
              "    <tr>\n",
              "      <th>1</th>\n",
              "      <td>2004-08-20</td>\n",
              "      <td>108.310</td>\n",
              "    </tr>\n",
              "    <tr>\n",
              "      <th>2</th>\n",
              "      <td>2004-08-23</td>\n",
              "      <td>109.400</td>\n",
              "    </tr>\n",
              "    <tr>\n",
              "      <th>3</th>\n",
              "      <td>2004-08-24</td>\n",
              "      <td>104.870</td>\n",
              "    </tr>\n",
              "    <tr>\n",
              "      <th>4</th>\n",
              "      <td>2004-08-25</td>\n",
              "      <td>106.000</td>\n",
              "    </tr>\n",
              "  </tbody>\n",
              "</table>\n",
              "</div>"
            ],
            "text/plain": [
              "        date    close\n",
              "0 2004-08-19  100.335\n",
              "1 2004-08-20  108.310\n",
              "2 2004-08-23  109.400\n",
              "3 2004-08-24  104.870\n",
              "4 2004-08-25  106.000"
            ]
          },
          "metadata": {
            "tags": []
          },
          "execution_count": 154
        }
      ]
    },
    {
      "cell_type": "code",
      "metadata": {
        "id": "yf41U7k0aZxo",
        "colab_type": "code",
        "colab": {}
      },
      "source": [
        "#setting index as date value\n",
        "data_L_R.index=data_L_R['date']"
      ],
      "execution_count": 0,
      "outputs": []
    },
    {
      "cell_type": "markdown",
      "metadata": {
        "id": "qj76RxeZqgUI",
        "colab_type": "text"
      },
      "source": [
        "###Feature_Engineering\n"
      ]
    },
    {
      "cell_type": "markdown",
      "metadata": {
        "id": "NZMMMYb2v6v5",
        "colab_type": "text"
      },
      "source": [
        "* we can extract more features from 'date' column other than 'day','month' and 'year' like :\n",
        "\n",
        "*   'Dayofweek',\n",
        "*   'Dayofyear',\n",
        "\n",
        "*   'Is_month_end' or 'Is_month_start' etc.\n",
        "\n",
        "\n",
        "\n",
        "\n",
        "\n",
        "\n",
        " \n",
        "\n"
      ]
    },
    {
      "cell_type": "code",
      "metadata": {
        "id": "xnVxRPk4pxXc",
        "colab_type": "code",
        "colab": {}
      },
      "source": [
        "!pip install fastai==0.7.0  #install fastai for using structured module"
      ],
      "execution_count": 0,
      "outputs": []
    },
    {
      "cell_type": "code",
      "metadata": {
        "id": "9-uJbmt5rQq1",
        "colab_type": "code",
        "colab": {}
      },
      "source": [
        "from fastai.structured import add_datepart\n",
        "add_datepart(data_L_R,'date')"
      ],
      "execution_count": 0,
      "outputs": []
    },
    {
      "cell_type": "code",
      "metadata": {
        "id": "lblRUiMkuHEL",
        "colab_type": "code",
        "colab": {
          "base_uri": "https://localhost:8080/",
          "height": 217
        },
        "outputId": "0474953c-2823-4783-eb38-309447e6b91a"
      },
      "source": [
        "data_L_R.head()"
      ],
      "execution_count": 158,
      "outputs": [
        {
          "output_type": "execute_result",
          "data": {
            "text/html": [
              "<div>\n",
              "<style scoped>\n",
              "    .dataframe tbody tr th:only-of-type {\n",
              "        vertical-align: middle;\n",
              "    }\n",
              "\n",
              "    .dataframe tbody tr th {\n",
              "        vertical-align: top;\n",
              "    }\n",
              "\n",
              "    .dataframe thead th {\n",
              "        text-align: right;\n",
              "    }\n",
              "</style>\n",
              "<table border=\"1\" class=\"dataframe\">\n",
              "  <thead>\n",
              "    <tr style=\"text-align: right;\">\n",
              "      <th></th>\n",
              "      <th>close</th>\n",
              "      <th>Year</th>\n",
              "      <th>Month</th>\n",
              "      <th>Week</th>\n",
              "      <th>Day</th>\n",
              "      <th>Dayofweek</th>\n",
              "      <th>Dayofyear</th>\n",
              "      <th>Is_month_end</th>\n",
              "      <th>Is_month_start</th>\n",
              "      <th>Is_quarter_end</th>\n",
              "      <th>Is_quarter_start</th>\n",
              "      <th>Is_year_end</th>\n",
              "      <th>Is_year_start</th>\n",
              "      <th>Elapsed</th>\n",
              "    </tr>\n",
              "  </thead>\n",
              "  <tbody>\n",
              "    <tr>\n",
              "      <th>0</th>\n",
              "      <td>100.335</td>\n",
              "      <td>2004</td>\n",
              "      <td>8</td>\n",
              "      <td>34</td>\n",
              "      <td>19</td>\n",
              "      <td>3</td>\n",
              "      <td>232</td>\n",
              "      <td>False</td>\n",
              "      <td>False</td>\n",
              "      <td>False</td>\n",
              "      <td>False</td>\n",
              "      <td>False</td>\n",
              "      <td>False</td>\n",
              "      <td>1092873600</td>\n",
              "    </tr>\n",
              "    <tr>\n",
              "      <th>1</th>\n",
              "      <td>108.310</td>\n",
              "      <td>2004</td>\n",
              "      <td>8</td>\n",
              "      <td>34</td>\n",
              "      <td>20</td>\n",
              "      <td>4</td>\n",
              "      <td>233</td>\n",
              "      <td>False</td>\n",
              "      <td>False</td>\n",
              "      <td>False</td>\n",
              "      <td>False</td>\n",
              "      <td>False</td>\n",
              "      <td>False</td>\n",
              "      <td>1092960000</td>\n",
              "    </tr>\n",
              "    <tr>\n",
              "      <th>2</th>\n",
              "      <td>109.400</td>\n",
              "      <td>2004</td>\n",
              "      <td>8</td>\n",
              "      <td>35</td>\n",
              "      <td>23</td>\n",
              "      <td>0</td>\n",
              "      <td>236</td>\n",
              "      <td>False</td>\n",
              "      <td>False</td>\n",
              "      <td>False</td>\n",
              "      <td>False</td>\n",
              "      <td>False</td>\n",
              "      <td>False</td>\n",
              "      <td>1093219200</td>\n",
              "    </tr>\n",
              "    <tr>\n",
              "      <th>3</th>\n",
              "      <td>104.870</td>\n",
              "      <td>2004</td>\n",
              "      <td>8</td>\n",
              "      <td>35</td>\n",
              "      <td>24</td>\n",
              "      <td>1</td>\n",
              "      <td>237</td>\n",
              "      <td>False</td>\n",
              "      <td>False</td>\n",
              "      <td>False</td>\n",
              "      <td>False</td>\n",
              "      <td>False</td>\n",
              "      <td>False</td>\n",
              "      <td>1093305600</td>\n",
              "    </tr>\n",
              "    <tr>\n",
              "      <th>4</th>\n",
              "      <td>106.000</td>\n",
              "      <td>2004</td>\n",
              "      <td>8</td>\n",
              "      <td>35</td>\n",
              "      <td>25</td>\n",
              "      <td>2</td>\n",
              "      <td>238</td>\n",
              "      <td>False</td>\n",
              "      <td>False</td>\n",
              "      <td>False</td>\n",
              "      <td>False</td>\n",
              "      <td>False</td>\n",
              "      <td>False</td>\n",
              "      <td>1093392000</td>\n",
              "    </tr>\n",
              "  </tbody>\n",
              "</table>\n",
              "</div>"
            ],
            "text/plain": [
              "     close  Year  Month  ...  Is_year_end  Is_year_start     Elapsed\n",
              "0  100.335  2004      8  ...        False          False  1092873600\n",
              "1  108.310  2004      8  ...        False          False  1092960000\n",
              "2  109.400  2004      8  ...        False          False  1093219200\n",
              "3  104.870  2004      8  ...        False          False  1093305600\n",
              "4  106.000  2004      8  ...        False          False  1093392000\n",
              "\n",
              "[5 rows x 14 columns]"
            ]
          },
          "metadata": {
            "tags": []
          },
          "execution_count": 158
        }
      ]
    },
    {
      "cell_type": "markdown",
      "metadata": {
        "id": "_3S-AgRSxlfA",
        "colab_type": "text"
      },
      "source": [
        "Elapsed is the timestamp, so we can drop it."
      ]
    },
    {
      "cell_type": "code",
      "metadata": {
        "id": "esrjxp3FvYm8",
        "colab_type": "code",
        "colab": {}
      },
      "source": [
        "#dropping 'Elapsed' column\n",
        "data_L_R=data_L_R.drop('Elapsed',axis=1)"
      ],
      "execution_count": 0,
      "outputs": []
    },
    {
      "cell_type": "code",
      "metadata": {
        "id": "idUhhJsqx0pX",
        "colab_type": "code",
        "colab": {
          "base_uri": "https://localhost:8080/",
          "height": 217
        },
        "outputId": "ce542927-d060-4519-c476-e01edf38dc94"
      },
      "source": [
        "data_L_R.head()"
      ],
      "execution_count": 160,
      "outputs": [
        {
          "output_type": "execute_result",
          "data": {
            "text/html": [
              "<div>\n",
              "<style scoped>\n",
              "    .dataframe tbody tr th:only-of-type {\n",
              "        vertical-align: middle;\n",
              "    }\n",
              "\n",
              "    .dataframe tbody tr th {\n",
              "        vertical-align: top;\n",
              "    }\n",
              "\n",
              "    .dataframe thead th {\n",
              "        text-align: right;\n",
              "    }\n",
              "</style>\n",
              "<table border=\"1\" class=\"dataframe\">\n",
              "  <thead>\n",
              "    <tr style=\"text-align: right;\">\n",
              "      <th></th>\n",
              "      <th>close</th>\n",
              "      <th>Year</th>\n",
              "      <th>Month</th>\n",
              "      <th>Week</th>\n",
              "      <th>Day</th>\n",
              "      <th>Dayofweek</th>\n",
              "      <th>Dayofyear</th>\n",
              "      <th>Is_month_end</th>\n",
              "      <th>Is_month_start</th>\n",
              "      <th>Is_quarter_end</th>\n",
              "      <th>Is_quarter_start</th>\n",
              "      <th>Is_year_end</th>\n",
              "      <th>Is_year_start</th>\n",
              "    </tr>\n",
              "  </thead>\n",
              "  <tbody>\n",
              "    <tr>\n",
              "      <th>0</th>\n",
              "      <td>100.335</td>\n",
              "      <td>2004</td>\n",
              "      <td>8</td>\n",
              "      <td>34</td>\n",
              "      <td>19</td>\n",
              "      <td>3</td>\n",
              "      <td>232</td>\n",
              "      <td>False</td>\n",
              "      <td>False</td>\n",
              "      <td>False</td>\n",
              "      <td>False</td>\n",
              "      <td>False</td>\n",
              "      <td>False</td>\n",
              "    </tr>\n",
              "    <tr>\n",
              "      <th>1</th>\n",
              "      <td>108.310</td>\n",
              "      <td>2004</td>\n",
              "      <td>8</td>\n",
              "      <td>34</td>\n",
              "      <td>20</td>\n",
              "      <td>4</td>\n",
              "      <td>233</td>\n",
              "      <td>False</td>\n",
              "      <td>False</td>\n",
              "      <td>False</td>\n",
              "      <td>False</td>\n",
              "      <td>False</td>\n",
              "      <td>False</td>\n",
              "    </tr>\n",
              "    <tr>\n",
              "      <th>2</th>\n",
              "      <td>109.400</td>\n",
              "      <td>2004</td>\n",
              "      <td>8</td>\n",
              "      <td>35</td>\n",
              "      <td>23</td>\n",
              "      <td>0</td>\n",
              "      <td>236</td>\n",
              "      <td>False</td>\n",
              "      <td>False</td>\n",
              "      <td>False</td>\n",
              "      <td>False</td>\n",
              "      <td>False</td>\n",
              "      <td>False</td>\n",
              "    </tr>\n",
              "    <tr>\n",
              "      <th>3</th>\n",
              "      <td>104.870</td>\n",
              "      <td>2004</td>\n",
              "      <td>8</td>\n",
              "      <td>35</td>\n",
              "      <td>24</td>\n",
              "      <td>1</td>\n",
              "      <td>237</td>\n",
              "      <td>False</td>\n",
              "      <td>False</td>\n",
              "      <td>False</td>\n",
              "      <td>False</td>\n",
              "      <td>False</td>\n",
              "      <td>False</td>\n",
              "    </tr>\n",
              "    <tr>\n",
              "      <th>4</th>\n",
              "      <td>106.000</td>\n",
              "      <td>2004</td>\n",
              "      <td>8</td>\n",
              "      <td>35</td>\n",
              "      <td>25</td>\n",
              "      <td>2</td>\n",
              "      <td>238</td>\n",
              "      <td>False</td>\n",
              "      <td>False</td>\n",
              "      <td>False</td>\n",
              "      <td>False</td>\n",
              "      <td>False</td>\n",
              "      <td>False</td>\n",
              "    </tr>\n",
              "  </tbody>\n",
              "</table>\n",
              "</div>"
            ],
            "text/plain": [
              "     close  Year  Month  ...  Is_quarter_start  Is_year_end  Is_year_start\n",
              "0  100.335  2004      8  ...             False        False          False\n",
              "1  108.310  2004      8  ...             False        False          False\n",
              "2  109.400  2004      8  ...             False        False          False\n",
              "3  104.870  2004      8  ...             False        False          False\n",
              "4  106.000  2004      8  ...             False        False          False\n",
              "\n",
              "[5 rows x 13 columns]"
            ]
          },
          "metadata": {
            "tags": []
          },
          "execution_count": 160
        }
      ]
    },
    {
      "cell_type": "code",
      "metadata": {
        "id": "OAYsx-Aix2F7",
        "colab_type": "code",
        "colab": {
          "base_uri": "https://localhost:8080/",
          "height": 217
        },
        "outputId": "770c497b-7254-4258-e613-3841d8a03436"
      },
      "source": [
        "data_L_R['mon_fri']=0\n",
        "\n",
        "data_L_R['mon_fri']=[1 if (i==0 or i==4) else 0 for i in data_L_R['Dayofweek']  ] # explanation of \"if else comprehensive list\" : https://colab.research.google.com/drive/1dnubPliz3FdmNFVocK8ERr1MP0BocDnT?authuser=1#scrollTo=UJWzqjkPH9UC\n",
        "data_L_R.head()"
      ],
      "execution_count": 161,
      "outputs": [
        {
          "output_type": "execute_result",
          "data": {
            "text/html": [
              "<div>\n",
              "<style scoped>\n",
              "    .dataframe tbody tr th:only-of-type {\n",
              "        vertical-align: middle;\n",
              "    }\n",
              "\n",
              "    .dataframe tbody tr th {\n",
              "        vertical-align: top;\n",
              "    }\n",
              "\n",
              "    .dataframe thead th {\n",
              "        text-align: right;\n",
              "    }\n",
              "</style>\n",
              "<table border=\"1\" class=\"dataframe\">\n",
              "  <thead>\n",
              "    <tr style=\"text-align: right;\">\n",
              "      <th></th>\n",
              "      <th>close</th>\n",
              "      <th>Year</th>\n",
              "      <th>Month</th>\n",
              "      <th>Week</th>\n",
              "      <th>Day</th>\n",
              "      <th>Dayofweek</th>\n",
              "      <th>Dayofyear</th>\n",
              "      <th>Is_month_end</th>\n",
              "      <th>Is_month_start</th>\n",
              "      <th>Is_quarter_end</th>\n",
              "      <th>Is_quarter_start</th>\n",
              "      <th>Is_year_end</th>\n",
              "      <th>Is_year_start</th>\n",
              "      <th>mon_fri</th>\n",
              "    </tr>\n",
              "  </thead>\n",
              "  <tbody>\n",
              "    <tr>\n",
              "      <th>0</th>\n",
              "      <td>100.335</td>\n",
              "      <td>2004</td>\n",
              "      <td>8</td>\n",
              "      <td>34</td>\n",
              "      <td>19</td>\n",
              "      <td>3</td>\n",
              "      <td>232</td>\n",
              "      <td>False</td>\n",
              "      <td>False</td>\n",
              "      <td>False</td>\n",
              "      <td>False</td>\n",
              "      <td>False</td>\n",
              "      <td>False</td>\n",
              "      <td>0</td>\n",
              "    </tr>\n",
              "    <tr>\n",
              "      <th>1</th>\n",
              "      <td>108.310</td>\n",
              "      <td>2004</td>\n",
              "      <td>8</td>\n",
              "      <td>34</td>\n",
              "      <td>20</td>\n",
              "      <td>4</td>\n",
              "      <td>233</td>\n",
              "      <td>False</td>\n",
              "      <td>False</td>\n",
              "      <td>False</td>\n",
              "      <td>False</td>\n",
              "      <td>False</td>\n",
              "      <td>False</td>\n",
              "      <td>1</td>\n",
              "    </tr>\n",
              "    <tr>\n",
              "      <th>2</th>\n",
              "      <td>109.400</td>\n",
              "      <td>2004</td>\n",
              "      <td>8</td>\n",
              "      <td>35</td>\n",
              "      <td>23</td>\n",
              "      <td>0</td>\n",
              "      <td>236</td>\n",
              "      <td>False</td>\n",
              "      <td>False</td>\n",
              "      <td>False</td>\n",
              "      <td>False</td>\n",
              "      <td>False</td>\n",
              "      <td>False</td>\n",
              "      <td>1</td>\n",
              "    </tr>\n",
              "    <tr>\n",
              "      <th>3</th>\n",
              "      <td>104.870</td>\n",
              "      <td>2004</td>\n",
              "      <td>8</td>\n",
              "      <td>35</td>\n",
              "      <td>24</td>\n",
              "      <td>1</td>\n",
              "      <td>237</td>\n",
              "      <td>False</td>\n",
              "      <td>False</td>\n",
              "      <td>False</td>\n",
              "      <td>False</td>\n",
              "      <td>False</td>\n",
              "      <td>False</td>\n",
              "      <td>0</td>\n",
              "    </tr>\n",
              "    <tr>\n",
              "      <th>4</th>\n",
              "      <td>106.000</td>\n",
              "      <td>2004</td>\n",
              "      <td>8</td>\n",
              "      <td>35</td>\n",
              "      <td>25</td>\n",
              "      <td>2</td>\n",
              "      <td>238</td>\n",
              "      <td>False</td>\n",
              "      <td>False</td>\n",
              "      <td>False</td>\n",
              "      <td>False</td>\n",
              "      <td>False</td>\n",
              "      <td>False</td>\n",
              "      <td>0</td>\n",
              "    </tr>\n",
              "  </tbody>\n",
              "</table>\n",
              "</div>"
            ],
            "text/plain": [
              "     close  Year  Month  ...  Is_year_end  Is_year_start  mon_fri\n",
              "0  100.335  2004      8  ...        False          False        0\n",
              "1  108.310  2004      8  ...        False          False        1\n",
              "2  109.400  2004      8  ...        False          False        1\n",
              "3  104.870  2004      8  ...        False          False        0\n",
              "4  106.000  2004      8  ...        False          False        0\n",
              "\n",
              "[5 rows x 14 columns]"
            ]
          },
          "metadata": {
            "tags": []
          },
          "execution_count": 161
        }
      ]
    },
    {
      "cell_type": "markdown",
      "metadata": {
        "id": "lekKRLYlNTKa",
        "colab_type": "text"
      },
      "source": [
        "if the day of the week is equal to 0 or 4, the 'mon_fri' column will be 1 otherwise it will be 0."
      ]
    },
    {
      "cell_type": "markdown",
      "metadata": {
        "id": "gvKbVkxYNrIy",
        "colab_type": "text"
      },
      "source": [
        "###Train_Test split "
      ]
    },
    {
      "cell_type": "code",
      "metadata": {
        "id": "1N69YZUHW98n",
        "colab_type": "code",
        "colab": {}
      },
      "source": [
        "#splitting in train and test set.\n",
        "train_len=int(0.9*len(data_L_R))    # not using following method for splitting data as it rearrange the the data every time it splitt.\n",
        "train=data_L_R[:train_len]          # x_train,x_valid,y_train,y_valid=train_test_split(data_M_A,y_label,test_size=.15,random_state=0)     # Split the data in two parts i.e. train and validation part.\n",
        "\n",
        "valid=data_L_R[train_len:]"
      ],
      "execution_count": 0,
      "outputs": []
    },
    {
      "cell_type": "code",
      "metadata": {
        "id": "ugbQu_W4XjdZ",
        "colab_type": "code",
        "colab": {}
      },
      "source": [
        "x_train=train.drop('close',axis=1)\n",
        "y_train=train['close']\n",
        "x_valid=valid.drop('close',axis=1)\n",
        "y_valid=valid['close']"
      ],
      "execution_count": 0,
      "outputs": []
    },
    {
      "cell_type": "markdown",
      "metadata": {
        "id": "-aiy7ugKRJ9Z",
        "colab_type": "text"
      },
      "source": [
        "###Model_Training"
      ]
    },
    {
      "cell_type": "code",
      "metadata": {
        "id": "_0leR9jrPMqZ",
        "colab_type": "code",
        "colab": {
          "base_uri": "https://localhost:8080/",
          "height": 34
        },
        "outputId": "b4e5bd75-1857-4587-cf04-afb8459adaa6"
      },
      "source": [
        "from sklearn.linear_model import LinearRegression\n",
        "L_R_Model=LinearRegression()\n",
        "L_R_Model.fit(x_train,y_train)"
      ],
      "execution_count": 164,
      "outputs": [
        {
          "output_type": "execute_result",
          "data": {
            "text/plain": [
              "LinearRegression(copy_X=True, fit_intercept=True, n_jobs=None, normalize=False)"
            ]
          },
          "metadata": {
            "tags": []
          },
          "execution_count": 164
        }
      ]
    },
    {
      "cell_type": "markdown",
      "metadata": {
        "id": "7Lmli4XBRQd9",
        "colab_type": "text"
      },
      "source": [
        "###Prediction"
      ]
    },
    {
      "cell_type": "code",
      "metadata": {
        "id": "3cnD-m2cP9ib",
        "colab_type": "code",
        "colab": {}
      },
      "source": [
        "Predict_L_R=L_R_Model.predict(x_valid)"
      ],
      "execution_count": 0,
      "outputs": []
    },
    {
      "cell_type": "markdown",
      "metadata": {
        "id": "qecBdoz4RUAL",
        "colab_type": "text"
      },
      "source": [
        "###Evaluation"
      ]
    },
    {
      "cell_type": "code",
      "metadata": {
        "id": "w-hNoepRQLio",
        "colab_type": "code",
        "colab": {
          "base_uri": "https://localhost:8080/",
          "height": 34
        },
        "outputId": "16ac5b4e-f99b-42dd-def4-0689330dbf92"
      },
      "source": [
        "#Checking the result(RMSE values)\n",
        "\n",
        "ms=mean_squared_error(y_valid, Predict_L_R)      \n",
        "rms=np.sqrt(ms)\n",
        "rms                                       # Mathematically: rms=np.sqrt(np.mean(np.power((np.array(y_valid)-predictions),2)))"
      ],
      "execution_count": 166,
      "outputs": [
        {
          "output_type": "execute_result",
          "data": {
            "text/plain": [
              "214.4482009687484"
            ]
          },
          "metadata": {
            "tags": []
          },
          "execution_count": 166
        }
      ]
    },
    {
      "cell_type": "markdown",
      "metadata": {
        "id": "ZItodPCdb6ly",
        "colab_type": "text"
      },
      "source": [
        "Linear Regression perform poorly than Moving Average technnique as RMSE value for Linear Regression is higher than Moving Average."
      ]
    },
    {
      "cell_type": "markdown",
      "metadata": {
        "id": "AzXGXa5rRjHi",
        "colab_type": "text"
      },
      "source": [
        "###Plot"
      ]
    },
    {
      "cell_type": "code",
      "metadata": {
        "id": "gziLcKEQQc_U",
        "colab_type": "code",
        "colab": {
          "base_uri": "https://localhost:8080/",
          "height": 647
        },
        "outputId": "f5c32264-f217-46b8-a6b0-1b303ce53081"
      },
      "source": [
        "#plot\n",
        "valid['predictions'] = 0\n",
        "valid['predictions'] = Predict_L_R\n",
        "plt.figure(figsize=(20,10))\n",
        "plt.plot(train['close'])\n",
        "plt.plot(valid[['close', 'predictions']])\n"
      ],
      "execution_count": 167,
      "outputs": [
        {
          "output_type": "execute_result",
          "data": {
            "text/plain": [
              "[<matplotlib.lines.Line2D at 0x7efc4f8e4cc0>,\n",
              " <matplotlib.lines.Line2D at 0x7efc4f8e4da0>]"
            ]
          },
          "metadata": {
            "tags": []
          },
          "execution_count": 167
        },
        {
          "output_type": "display_data",
          "data": {
            "image/png": "[encoded data removed]",
            "text/plain": [
              "<Figure size 1440x720 with 1 Axes>"
            ]
          },
          "metadata": {
            "tags": []
          }
        }
      ]
    },
    {
      "cell_type": "markdown",
      "metadata": {
        "id": "1oWANMRfZNSp",
        "colab_type": "text"
      },
      "source": [
        "\n",
        "\n",
        "*   Linear Regresion is  simple technique and easy to interpret.\n",
        "*   But it is prone to overfitting it performs well for problem where the independent features are useful for determining the target value.\n",
        "\n",
        "\n",
        "\n",
        "\n"
      ]
    },
    {
      "cell_type": "code",
      "metadata": {
        "id": "Q617l4ACWp9E",
        "colab_type": "code",
        "colab": {}
      },
      "source": [
        ""
      ],
      "execution_count": 0,
      "outputs": []
    },
    {
      "cell_type": "markdown",
      "metadata": {
        "id": "XL0hgHFFeClU",
        "colab_type": "text"
      },
      "source": [
        "##iii) Auto Arima\n",
        "*   Polpular Statistical method for time series forecasting.\n",
        "*   It process past values  to predict the future values."
      ]
    },
    {
      "cell_type": "code",
      "metadata": {
        "id": "3jjAK3ROhdfF",
        "colab_type": "code",
        "colab": {
          "base_uri": "https://localhost:8080/",
          "height": 310
        },
        "outputId": "d53fb289-78d3-4cd6-a288-eb91fd770bca"
      },
      "source": [
        "pip install pyramid-arima"
      ],
      "execution_count": 170,
      "outputs": [
        {
          "output_type": "stream",
          "text": [
            "Collecting pyramid-arima\n",
            "\u001b[?25l  Downloading https://files.pythonhosted.org/packages/5c/84/57422f2a6ade3161c586545e38b518ba1b7ab30ee4a4acc29110c0aba2bc/pyramid_arima-0.9.0-cp36-cp36m-manylinux1_x86_64.whl (597kB)\n",
            "\r\u001b[K     |▌                               | 10kB 18.2MB/s eta 0:00:01\r\u001b[K     |█                               | 20kB 23.4MB/s eta 0:00:01\r\u001b[K     |█▋                              | 30kB 27.6MB/s eta 0:00:01\r\u001b[K     |██▏                             | 40kB 31.3MB/s eta 0:00:01\r\u001b[K     |██▊                             | 51kB 34.3MB/s eta 0:00:01\r\u001b[K     |███▎                            | 61kB 37.0MB/s eta 0:00:01\r\u001b[K     |███▉                            | 71kB 37.0MB/s eta 0:00:01\r\u001b[K     |████▍                           | 81kB 37.6MB/s eta 0:00:01\r\u001b[K     |█████                           | 92kB 39.0MB/s eta 0:00:01\r\u001b[K     |█████▌                          | 102kB 37.1MB/s eta 0:00:01\r\u001b[K     |██████                          | 112kB 37.1MB/s eta 0:00:01\r\u001b[K     |██████▋                         | 122kB 37.1MB/s eta 0:00:01\r\u001b[K     |███████▏                        | 133kB 37.1MB/s eta 0:00:01\r\u001b[K     |███████▊                        | 143kB 37.1MB/s eta 0:00:01\r\u001b[K     |████████▏                       | 153kB 37.1MB/s eta 0:00:01\r\u001b[K     |████████▊                       | 163kB 37.1MB/s eta 0:00:01\r\u001b[K     |█████████▎                      | 174kB 37.1MB/s eta 0:00:01\r\u001b[K     |█████████▉                      | 184kB 37.1MB/s eta 0:00:01\r\u001b[K     |██████████▍                     | 194kB 37.1MB/s eta 0:00:01\r\u001b[K     |███████████                     | 204kB 37.1MB/s eta 0:00:01\r\u001b[K     |███████████▌                    | 215kB 37.1MB/s eta 0:00:01\r\u001b[K     |████████████                    | 225kB 37.1MB/s eta 0:00:01\r\u001b[K     |████████████▋                   | 235kB 37.1MB/s eta 0:00:01\r\u001b[K     |█████████████▏                  | 245kB 37.1MB/s eta 0:00:01\r\u001b[K     |█████████████▊                  | 256kB 37.1MB/s eta 0:00:01\r\u001b[K     |██████████████▎                 | 266kB 37.1MB/s eta 0:00:01\r\u001b[K     |██████████████▉                 | 276kB 37.1MB/s eta 0:00:01\r\u001b[K     |███████████████▍                | 286kB 37.1MB/s eta 0:00:01\r\u001b[K     |████████████████                | 296kB 37.1MB/s eta 0:00:01\r\u001b[K     |████████████████▍               | 307kB 37.1MB/s eta 0:00:01\r\u001b[K     |█████████████████               | 317kB 37.1MB/s eta 0:00:01\r\u001b[K     |█████████████████▌              | 327kB 37.1MB/s eta 0:00:01\r\u001b[K     |██████████████████              | 337kB 37.1MB/s eta 0:00:01\r\u001b[K     |██████████████████▋             | 348kB 37.1MB/s eta 0:00:01\r\u001b[K     |███████████████████▏            | 358kB 37.1MB/s eta 0:00:01\r\u001b[K     |███████████████████▊            | 368kB 37.1MB/s eta 0:00:01\r\u001b[K     |████████████████████▎           | 378kB 37.1MB/s eta 0:00:01\r\u001b[K     |████████████████████▉           | 389kB 37.1MB/s eta 0:00:01\r\u001b[K     |█████████████████████▍          | 399kB 37.1MB/s eta 0:00:01\r\u001b[K     |██████████████████████          | 409kB 37.1MB/s eta 0:00:01\r\u001b[K     |██████████████████████▌         | 419kB 37.1MB/s eta 0:00:01\r\u001b[K     |███████████████████████         | 430kB 37.1MB/s eta 0:00:01\r\u001b[K     |███████████████████████▋        | 440kB 37.1MB/s eta 0:00:01\r\u001b[K     |████████████████████████▏       | 450kB 37.1MB/s eta 0:00:01\r\u001b[K     |████████████████████████▋       | 460kB 37.1MB/s eta 0:00:01\r\u001b[K     |█████████████████████████▏      | 471kB 37.1MB/s eta 0:00:01\r\u001b[K     |█████████████████████████▊      | 481kB 37.1MB/s eta 0:00:01\r\u001b[K     |██████████████████████████▎     | 491kB 37.1MB/s eta 0:00:01\r\u001b[K     |██████████████████████████▉     | 501kB 37.1MB/s eta 0:00:01\r\u001b[K     |███████████████████████████▍    | 512kB 37.1MB/s eta 0:00:01\r\u001b[K     |████████████████████████████    | 522kB 37.1MB/s eta 0:00:01\r\u001b[K     |████████████████████████████▌   | 532kB 37.1MB/s eta 0:00:01\r\u001b[K     |█████████████████████████████   | 542kB 37.1MB/s eta 0:00:01\r\u001b[K     |█████████████████████████████▋  | 552kB 37.1MB/s eta 0:00:01\r\u001b[K     |██████████████████████████████▏ | 563kB 37.1MB/s eta 0:00:01\r\u001b[K     |██████████████████████████████▊ | 573kB 37.1MB/s eta 0:00:01\r\u001b[K     |███████████████████████████████▎| 583kB 37.1MB/s eta 0:00:01\r\u001b[K     |███████████████████████████████▉| 593kB 37.1MB/s eta 0:00:01\r\u001b[K     |████████████████████████████████| 604kB 37.1MB/s \n",
            "\u001b[?25hRequirement already satisfied: numpy>=1.10 in /usr/local/lib/python3.6/dist-packages (from pyramid-arima) (1.17.4)\n",
            "Requirement already satisfied: scipy>=0.9 in /usr/local/lib/python3.6/dist-packages (from pyramid-arima) (1.3.3)\n",
            "Requirement already satisfied: pandas>=0.19 in /usr/local/lib/python3.6/dist-packages (from pyramid-arima) (0.25.3)\n",
            "Requirement already satisfied: statsmodels>=0.9.0 in /usr/local/lib/python3.6/dist-packages (from pyramid-arima) (0.10.2)\n",
            "Requirement already satisfied: scikit-learn>=0.17 in /usr/local/lib/python3.6/dist-packages (from pyramid-arima) (0.21.3)\n",
            "Requirement already satisfied: Cython>=0.23 in /usr/local/lib/python3.6/dist-packages (from pyramid-arima) (0.29.14)\n",
            "Requirement already satisfied: pytz>=2017.2 in /usr/local/lib/python3.6/dist-packages (from pandas>=0.19->pyramid-arima) (2018.9)\n",
            "Requirement already satisfied: python-dateutil>=2.6.1 in /usr/local/lib/python3.6/dist-packages (from pandas>=0.19->pyramid-arima) (2.6.1)\n",
            "Requirement already satisfied: patsy>=0.4.0 in /usr/local/lib/python3.6/dist-packages (from statsmodels>=0.9.0->pyramid-arima) (0.5.1)\n",
            "Requirement already satisfied: joblib>=0.11 in /usr/local/lib/python3.6/dist-packages (from scikit-learn>=0.17->pyramid-arima) (0.14.0)\n",
            "Requirement already satisfied: six>=1.5 in /usr/local/lib/python3.6/dist-packages (from python-dateutil>=2.6.1->pandas>=0.19->pyramid-arima) (1.12.0)\n",
            "Installing collected packages: pyramid-arima\n",
            "Successfully installed pyramid-arima-0.9.0\n"
          ],
          "name": "stdout"
        }
      ]
    },
    {
      "cell_type": "code",
      "metadata": {
        "id": "foBAcRwQeNtQ",
        "colab_type": "code",
        "colab": {}
      },
      "source": [
        "# import pyramid\n",
        "from pyramid.arima import auto_arima"
      ],
      "execution_count": 0,
      "outputs": []
    },
    {
      "cell_type": "markdown",
      "metadata": {
        "id": "cfQyMhRajP2S",
        "colab_type": "text"
      },
      "source": [
        "###Dummy Dataset"
      ]
    },
    {
      "cell_type": "code",
      "metadata": {
        "id": "_gQ88OWVgseq",
        "colab_type": "code",
        "colab": {}
      },
      "source": [
        "data_Auto_Arima=data"
      ],
      "execution_count": 0,
      "outputs": []
    },
    {
      "cell_type": "code",
      "metadata": {
        "id": "tD3fU8tmkl5t",
        "colab_type": "code",
        "colab": {}
      },
      "source": [
        "# setting date as index value\n",
        "data_Auto_Arima.index=data_Auto_Arima['date']"
      ],
      "execution_count": 0,
      "outputs": []
    },
    {
      "cell_type": "markdown",
      "metadata": {
        "id": "9WpmEuIMlCXL",
        "colab_type": "text"
      },
      "source": [
        "###Train_Test_Split"
      ]
    },
    {
      "cell_type": "code",
      "metadata": {
        "id": "pe9i1RHak7Nk",
        "colab_type": "code",
        "colab": {}
      },
      "source": [
        "#splitting in train and test set.\n",
        "train_len=int(0.9*len(data_Auto_Arima))    # not using following method for splitting data as it rearrange the the data every time it splitt.\n",
        "train=data_Auto_Arima[:train_len]          # x_train,x_valid,y_train,y_valid=train_test_split(data_M_A,y_label,test_size=.15,random_state=0)     # Split the data in two parts i.e. train and validation part.\n",
        "\n",
        "valid=data_Auto_Arima[train_len:]"
      ],
      "execution_count": 0,
      "outputs": []
    },
    {
      "cell_type": "code",
      "metadata": {
        "id": "mbDYLSTplODS",
        "colab_type": "code",
        "colab": {}
      },
      "source": [
        "training = train['close']    # it only perform on target value as it process past value to predict future value.\n",
        "validation = valid['close']"
      ],
      "execution_count": 0,
      "outputs": []
    },
    {
      "cell_type": "markdown",
      "metadata": {
        "id": "cIfPHj3Kl07A",
        "colab_type": "text"
      },
      "source": [
        "###Model training \n"
      ]
    },
    {
      "cell_type": "code",
      "metadata": {
        "id": "JcbnB3dslcY2",
        "colab_type": "code",
        "colab": {
          "base_uri": "https://localhost:8080/",
          "height": 290
        },
        "outputId": "bfb72caf-a8ed-448a-934d-14ad16c28682"
      },
      "source": [
        "model = auto_arima(training, start_p=1, start_q=1,max_p=3, max_q=3, m=12,start_P=0, seasonal=True,d=1, D=1, trace=True,error_action='ignore',suppress_warnings=True)\n",
        "model.fit(training)"
      ],
      "execution_count": 181,
      "outputs": [
        {
          "output_type": "stream",
          "text": [
            "Fit ARIMA: order=(1, 1, 1) seasonal_order=(0, 1, 1, 12); AIC=28145.992, BIC=28176.731, Fit time=24.061 seconds\n",
            "Fit ARIMA: order=(0, 1, 0) seasonal_order=(0, 1, 0, 12); AIC=30527.988, BIC=30540.284, Fit time=0.260 seconds\n",
            "Fit ARIMA: order=(1, 1, 0) seasonal_order=(1, 1, 0, 12); AIC=29515.538, BIC=29540.129, Fit time=7.881 seconds\n",
            "Fit ARIMA: order=(0, 1, 1) seasonal_order=(0, 1, 1, 12); AIC=28144.977, BIC=28169.568, Fit time=26.967 seconds\n",
            "Fit ARIMA: order=(0, 1, 1) seasonal_order=(1, 1, 1, 12); AIC=28146.306, BIC=28177.045, Fit time=34.552 seconds\n",
            "Fit ARIMA: order=(0, 1, 1) seasonal_order=(0, 1, 0, 12); AIC=30526.099, BIC=30544.543, Fit time=1.175 seconds\n",
            "Fit ARIMA: order=(0, 1, 1) seasonal_order=(0, 1, 2, 12); AIC=28146.297, BIC=28177.037, Fit time=69.018 seconds\n",
            "Fit ARIMA: order=(0, 1, 1) seasonal_order=(1, 1, 2, 12); AIC=28145.946, BIC=28182.833, Fit time=99.630 seconds\n",
            "Fit ARIMA: order=(0, 1, 0) seasonal_order=(0, 1, 1, 12); AIC=28145.819, BIC=28164.262, Fit time=15.847 seconds\n",
            "Fit ARIMA: order=(0, 1, 2) seasonal_order=(0, 1, 1, 12); AIC=28147.088, BIC=28177.827, Fit time=10.209 seconds\n",
            "Fit ARIMA: order=(1, 1, 2) seasonal_order=(0, 1, 1, 12); AIC=28148.996, BIC=28185.883, Fit time=13.563 seconds\n",
            "Total fit time: 303.172 seconds\n"
          ],
          "name": "stdout"
        },
        {
          "output_type": "execute_result",
          "data": {
            "text/plain": [
              "ARIMA(callback=None, disp=0, maxiter=50, method=None, order=(0, 1, 1),\n",
              "      out_of_sample_size=0, scoring='mse', scoring_args={},\n",
              "      seasonal_order=(0, 1, 1, 12), solver='lbfgs', start_params=None,\n",
              "      suppress_warnings=True, transparams=True, trend='c')"
            ]
          },
          "metadata": {
            "tags": []
          },
          "execution_count": 181
        }
      ]
    },
    {
      "cell_type": "markdown",
      "metadata": {
        "id": "vx3BHXHrm9XU",
        "colab_type": "text"
      },
      "source": [
        "###Predictions"
      ]
    },
    {
      "cell_type": "code",
      "metadata": {
        "id": "nhqBH4QNm7GT",
        "colab_type": "code",
        "colab": {}
      },
      "source": [
        "forecast=model.predict(n_periods=len(valid))\n",
        "forecast=pd.DataFrame(forecast,index=valid.index,columns=['Predictions'])"
      ],
      "execution_count": 0,
      "outputs": []
    },
    {
      "cell_type": "code",
      "metadata": {
        "id": "dMr7KO31n-Vv",
        "colab_type": "code",
        "colab": {
          "base_uri": "https://localhost:8080/",
          "height": 34
        },
        "outputId": "56f92402-d7b5-4711-d210-8c935195a559"
      },
      "source": [
        "#Checking the result(RMSE values)\n",
        "\n",
        "ms=mean_squared_error(np.array(valid['close']),(forecast['Predictions']))      \n",
        "rms=np.sqrt(ms)\n",
        "rms                                       # Mathematically: rms=np.sqrt(np.mean(np.power((np.array(y_valid)-predictions),2)))"
      ],
      "execution_count": 185,
      "outputs": [
        {
          "output_type": "execute_result",
          "data": {
            "text/plain": [
              "79.27145152380285"
            ]
          },
          "metadata": {
            "tags": []
          },
          "execution_count": 185
        }
      ]
    },
    {
      "cell_type": "markdown",
      "metadata": {
        "id": "BfgFRz9_oknh",
        "colab_type": "text"
      },
      "source": [
        "###Plot"
      ]
    },
    {
      "cell_type": "code",
      "metadata": {
        "id": "UJZPEiz8oYhd",
        "colab_type": "code",
        "colab": {
          "base_uri": "https://localhost:8080/",
          "height": 630
        },
        "outputId": "66c09dc5-da63-40e5-c37f-4adb64bb0e9f"
      },
      "source": [
        "plt.figure(figsize=(20,10))\n",
        "plt.plot(train['close'])\n",
        "plt.plot(valid['close'])\n",
        "plt.plot(forecast['Predictions'])"
      ],
      "execution_count": 187,
      "outputs": [
        {
          "output_type": "execute_result",
          "data": {
            "text/plain": [
              "[<matplotlib.lines.Line2D at 0x7efc42a03be0>]"
            ]
          },
          "metadata": {
            "tags": []
          },
          "execution_count": 187
        },
        {
          "output_type": "display_data",
          "data": {
            "image/png": "[encoded data removed]",
            "text/plain": [
              "<Figure size 1440x720 with 1 Axes>"
            ]
          },
          "metadata": {
            "tags": []
          }
        }
      ]
    },
    {
      "cell_type": "markdown",
      "metadata": {
        "id": "A4ice8qet8zj",
        "colab_type": "text"
      },
      "source": [
        "the model has captured a trend in the series, but does not focus on the seasonal part."
      ]
    },
    {
      "cell_type": "markdown",
      "metadata": {
        "id": "Brr15_iJszg4",
        "colab_type": "text"
      },
      "source": [
        "###Conclusion\n",
        "* an auto ARIMA model uses past data to understand the pattern in the time series ,using these values the model  captured an increasing trend in the series.\n",
        "* These predictions are still not close to the real values but are far better than previously implemented machine learning model"
      ]
    },
    {
      "cell_type": "code",
      "metadata": {
        "id": "vai7jOolo4Og",
        "colab_type": "code",
        "colab": {}
      },
      "source": [
        ""
      ],
      "execution_count": 0,
      "outputs": []
    }
  ]
}