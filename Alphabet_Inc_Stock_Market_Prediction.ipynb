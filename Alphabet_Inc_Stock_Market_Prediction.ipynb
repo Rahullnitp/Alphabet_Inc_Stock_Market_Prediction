{
  "nbformat": 4,
  "nbformat_minor": 0,
  "metadata": {
    "colab": {
      "name": "Alphabet_Inc_Stock_Market_Prediction.ipynb",
      "provenance": [],
      "collapsed_sections": [],
      "include_colab_link": true
    },
    "kernelspec": {
      "name": "python3",
      "display_name": "Python 3"
    },
    "accelerator": "GPU"
  },
  "cells": [
    {
      "cell_type": "markdown",
      "metadata": {
        "id": "view-in-github",
        "colab_type": "text"
      },
      "source": [
        "<a href=\"https://colab.research.google.com/github/Rahullnitp/Alphabet_Inc_Stock_Market_Prediction/blob/master/Alphabet_Inc_Stock_Market_Prediction.ipynb\" target=\"_parent\"><img src=\"https://colab.research.google.com/assets/colab-badge.svg\" alt=\"Open In Colab\"/></a>"
      ]
    },
    {
      "cell_type": "markdown",
      "metadata": {
        "id": "ScIres33Ib07",
        "colab_type": "text"
      },
      "source": [
        "#Aim\n",
        "\n",
        "Stock market prediction of  Alphabet Inc. .\n",
        "\n",
        "\n",
        "\n",
        "*  In this project , i will analyse and perform predictive analytics on the historic data of Alphabet Inc. and perform  a classification or regression task to predict future price or return. \n",
        "\n",
        "*   Alphabet Inc. is an American multinational conglomerate headquartered in Mountain View, California. It was created through a corporate restructuring of Google, and became the parent company of Google and several former Google subsidiaries.  "
      ]
    },
    {
      "cell_type": "markdown",
      "metadata": {
        "id": "I_OgPOIfWBqW",
        "colab_type": "text"
      },
      "source": [
        "#Data Collection :\n",
        "     \n",
        "\n",
        "*   Alpha vantage APIs is used for Data Collection of \"Alphabet Inc.\" "
      ]
    },
    {
      "cell_type": "code",
      "metadata": {
        "id": "mp8YQuHYIbd-",
        "colab_type": "code",
        "outputId": "03e4b172-1f55-48ac-b12b-7b2db48c2e5f",
        "colab": {
          "base_uri": "https://localhost:8080/",
          "height": 256
        }
      },
      "source": [
        "pip install alpha_vantage   #Python module to get stock data from the Alpha Vantage Api"
      ],
      "execution_count": 5,
      "outputs": [
        {
          "output_type": "stream",
          "text": [
            "Collecting alpha_vantage\n",
            "  Downloading https://files.pythonhosted.org/packages/28/d1/9bfa84a2e3964e415a55f948dd6342d1ca4fc19eac76247f4447f62b4b90/alpha_vantage-2.1.2.tar.gz\n",
            "Requirement already satisfied: requests in /usr/local/lib/python3.6/dist-packages (from alpha_vantage) (2.21.0)\n",
            "Requirement already satisfied: certifi>=2017.4.17 in /usr/local/lib/python3.6/dist-packages (from requests->alpha_vantage) (2019.11.28)\n",
            "Requirement already satisfied: chardet<3.1.0,>=3.0.2 in /usr/local/lib/python3.6/dist-packages (from requests->alpha_vantage) (3.0.4)\n",
            "Requirement already satisfied: urllib3<1.25,>=1.21.1 in /usr/local/lib/python3.6/dist-packages (from requests->alpha_vantage) (1.24.3)\n",
            "Requirement already satisfied: idna<2.9,>=2.5 in /usr/local/lib/python3.6/dist-packages (from requests->alpha_vantage) (2.8)\n",
            "Building wheels for collected packages: alpha-vantage\n",
            "  Building wheel for alpha-vantage (setup.py) ... \u001b[?25l\u001b[?25hdone\n",
            "  Created wheel for alpha-vantage: filename=alpha_vantage-2.1.2-cp36-none-any.whl size=14690 sha256=6b7fc99f62cd074358bcd9028f76256984f13c21dc9d05a8b60af2089b60ba65\n",
            "  Stored in directory: /root/.cache/pip/wheels/bb/22/da/426cbebbe36cf3c0fd433d279f670cadfa27cc3343303cdf36\n",
            "Successfully built alpha-vantage\n",
            "Installing collected packages: alpha-vantage\n",
            "Successfully installed alpha-vantage-2.1.2\n"
          ],
          "name": "stdout"
        }
      ]
    },
    {
      "cell_type": "markdown",
      "metadata": {
        "id": "tfG9MhGXVAJ-",
        "colab_type": "text"
      },
      "source": [
        " Extract data in 'data' and information of data in 'meta_data' variables respectively.\n",
        "\n",
        "\n",
        "  \n",
        "\n",
        "\n",
        "\n"
      ]
    },
    {
      "cell_type": "code",
      "metadata": {
        "id": "8gJeWpT9jFFW",
        "colab_type": "code",
        "colab": {}
      },
      "source": [
        "from alpha_vantage.timeseries import TimeSeries\n",
        "ts = TimeSeries(key='xxxxxxx',output_format='pandas')  \n",
        "data, meta_data = ts.get_daily('GOOGL', outputsize='full') #by using symbol as \"GOOGL\" ,we can extract the data of 'Alphabet Inc.' ."
      ],
      "execution_count": 0,
      "outputs": []
    },
    {
      "cell_type": "markdown",
      "metadata": {
        "id": "0i9PtN86apdZ",
        "colab_type": "text"
      },
      "source": [
        "Overview of data\n",
        "*  This API returns daily time series (date, daily open, daily high, daily low, daily close, daily volume, daily adjusted close, and split/dividend events) of the global equity specified, covering 20+ years of historical data as shown below in meta_data."
      ]
    },
    {
      "cell_type": "code",
      "metadata": {
        "id": "_Co3FVbMlRJJ",
        "colab_type": "code",
        "outputId": "6a3a8f55-4368-4a21-ce5b-a76a3a66d51e",
        "colab": {
          "base_uri": "https://localhost:8080/",
          "height": 102
        }
      },
      "source": [
        "meta_data"
      ],
      "execution_count": 7,
      "outputs": [
        {
          "output_type": "execute_result",
          "data": {
            "text/plain": [
              "{'1. Information': 'Daily Prices (open, high, low, close) and Volumes',\n",
              " '2. Symbol': 'GOOGL',\n",
              " '3. Last Refreshed': '2019-12-11 12:14:08',\n",
              " '4. Output Size': 'Full size',\n",
              " '5. Time Zone': 'US/Eastern'}"
            ]
          },
          "metadata": {
            "tags": []
          },
          "execution_count": 7
        }
      ]
    },
    {
      "cell_type": "code",
      "metadata": {
        "id": "IOR0OW3Rfn4v",
        "colab_type": "code",
        "colab": {}
      },
      "source": [
        ""
      ],
      "execution_count": 0,
      "outputs": []
    },
    {
      "cell_type": "markdown",
      "metadata": {
        "id": "foUK9Q0ZiTxj",
        "colab_type": "text"
      },
      "source": [
        "#Data_preprocessing:\n",
        "\n",
        "in this section, i will perform Data mining technique that involves transforming raw data into an understandable format and Data Cleaning .\n"
      ]
    },
    {
      "cell_type": "code",
      "metadata": {
        "id": "o4iniHzHi0DL",
        "colab_type": "code",
        "colab": {
          "base_uri": "https://localhost:8080/",
          "height": 34
        },
        "outputId": "c24169c7-d097-4348-df2f-63600a1fe33b"
      },
      "source": [
        "# import libraries\n",
        "\n",
        "import os\n",
        "%tensorflow_version 2.x\n",
        "import numpy as np\n",
        "import pandas as pd\n",
        "import seaborn as sns\n",
        "import matplotlib.pyplot as plt\n",
        "from sklearn.metrics import mean_squared_error\n",
        "from sklearn.model_selection import train_test_split\n",
        "%matplotlib inline\n",
        "import warnings\n",
        "warnings.filterwarnings('ignore')\n",
        "from matplotlib.pylab import rcParams\n"
      ],
      "execution_count": 8,
      "outputs": [
        {
          "output_type": "stream",
          "text": [
            "TensorFlow is already loaded. Please restart the runtime to change versions.\n"
          ],
          "name": "stdout"
        }
      ]
    },
    {
      "cell_type": "code",
      "metadata": {
        "id": "JG_EuGvqlB4r",
        "colab_type": "code",
        "outputId": "8cdf98b7-9f44-4589-85d1-5e9c8cac23e4",
        "colab": {
          "base_uri": "https://localhost:8080/",
          "height": 227
        }
      },
      "source": [
        "data.head()"
      ],
      "execution_count": 9,
      "outputs": [
        {
          "output_type": "execute_result",
          "data": {
            "text/html": [
              "<div>\n",
              "<style scoped>\n",
              "    .dataframe tbody tr th:only-of-type {\n",
              "        vertical-align: middle;\n",
              "    }\n",
              "\n",
              "    .dataframe tbody tr th {\n",
              "        vertical-align: top;\n",
              "    }\n",
              "\n",
              "    .dataframe thead th {\n",
              "        text-align: right;\n",
              "    }\n",
              "</style>\n",
              "<table border=\"1\" class=\"dataframe\">\n",
              "  <thead>\n",
              "    <tr style=\"text-align: right;\">\n",
              "      <th></th>\n",
              "      <th>1. open</th>\n",
              "      <th>2. high</th>\n",
              "      <th>3. low</th>\n",
              "      <th>4. close</th>\n",
              "      <th>5. volume</th>\n",
              "    </tr>\n",
              "    <tr>\n",
              "      <th>date</th>\n",
              "      <th></th>\n",
              "      <th></th>\n",
              "      <th></th>\n",
              "      <th></th>\n",
              "      <th></th>\n",
              "    </tr>\n",
              "  </thead>\n",
              "  <tbody>\n",
              "    <tr>\n",
              "      <th>2019-12-11</th>\n",
              "      <td>1348.30</td>\n",
              "      <td>1349.89</td>\n",
              "      <td>1341.62</td>\n",
              "      <td>1342.16</td>\n",
              "      <td>299492.0</td>\n",
              "    </tr>\n",
              "    <tr>\n",
              "      <th>2019-12-10</th>\n",
              "      <td>1339.94</td>\n",
              "      <td>1348.00</td>\n",
              "      <td>1334.00</td>\n",
              "      <td>1342.89</td>\n",
              "      <td>868417.0</td>\n",
              "    </tr>\n",
              "    <tr>\n",
              "      <th>2019-12-09</th>\n",
              "      <td>1338.86</td>\n",
              "      <td>1357.55</td>\n",
              "      <td>1336.07</td>\n",
              "      <td>1342.99</td>\n",
              "      <td>1556889.0</td>\n",
              "    </tr>\n",
              "    <tr>\n",
              "      <th>2019-12-06</th>\n",
              "      <td>1332.75</td>\n",
              "      <td>1342.47</td>\n",
              "      <td>1331.23</td>\n",
              "      <td>1339.39</td>\n",
              "      <td>1648729.0</td>\n",
              "    </tr>\n",
              "    <tr>\n",
              "      <th>2019-12-05</th>\n",
              "      <td>1327.00</td>\n",
              "      <td>1327.98</td>\n",
              "      <td>1314.32</td>\n",
              "      <td>1326.96</td>\n",
              "      <td>1220631.0</td>\n",
              "    </tr>\n",
              "  </tbody>\n",
              "</table>\n",
              "</div>"
            ],
            "text/plain": [
              "            1. open  2. high   3. low  4. close  5. volume\n",
              "date                                                      \n",
              "2019-12-11  1348.30  1349.89  1341.62   1342.16   299492.0\n",
              "2019-12-10  1339.94  1348.00  1334.00   1342.89   868417.0\n",
              "2019-12-09  1338.86  1357.55  1336.07   1342.99  1556889.0\n",
              "2019-12-06  1332.75  1342.47  1331.23   1339.39  1648729.0\n",
              "2019-12-05  1327.00  1327.98  1314.32   1326.96  1220631.0"
            ]
          },
          "metadata": {
            "tags": []
          },
          "execution_count": 9
        }
      ]
    },
    {
      "cell_type": "code",
      "metadata": {
        "id": "FEBJWbzn5Wpw",
        "colab_type": "code",
        "outputId": "be71f8c8-745b-4166-e870-1c0b3da49cb6",
        "colab": {
          "base_uri": "https://localhost:8080/",
          "height": 34
        }
      },
      "source": [
        "data.shape"
      ],
      "execution_count": 10,
      "outputs": [
        {
          "output_type": "execute_result",
          "data": {
            "text/plain": [
              "(3856, 5)"
            ]
          },
          "metadata": {
            "tags": []
          },
          "execution_count": 10
        }
      ]
    },
    {
      "cell_type": "code",
      "metadata": {
        "id": "x7-JbhtZ3lWs",
        "colab_type": "code",
        "outputId": "ff7dd9fa-3794-411f-8ead-836a9f9853e8",
        "colab": {
          "base_uri": "https://localhost:8080/",
          "height": 502
        }
      },
      "source": [
        "#Let’s plot the 'close' variable to understand how it’s shaping up in our data: \n",
        "\n",
        "plt.figure(figsize=(16,8))\n",
        "plt.plot(data['4. close'], label='Close Price history')"
      ],
      "execution_count": 11,
      "outputs": [
        {
          "output_type": "execute_result",
          "data": {
            "text/plain": [
              "[<matplotlib.lines.Line2D at 0x7fe8ffac3cf8>]"
            ]
          },
          "metadata": {
            "tags": []
          },
          "execution_count": 11
        },
        {
          "output_type": "display_data",
          "data": {
            "image/png": "[encoded data removed]",
            "text/plain": [
              "<Figure size 1152x576 with 1 Axes>"
            ]
          },
          "metadata": {
            "tags": []
          }
        }
      ]
    },
    {
      "cell_type": "code",
      "metadata": {
        "id": "PGvUCxsclQVg",
        "colab_type": "code",
        "colab": {}
      },
      "source": [
        "#Change the data format ,so that it will be easy to understand and readable.\n",
        "\n",
        "data.columns=['open','high','low','close','volume']\n",
        "data=data.reset_index()"
      ],
      "execution_count": 0,
      "outputs": []
    },
    {
      "cell_type": "code",
      "metadata": {
        "id": "JoEjeClXoQeN",
        "colab_type": "code",
        "outputId": "5711a3b2-8b15-4bc3-c5d6-40004ca37abc",
        "colab": {
          "base_uri": "https://localhost:8080/",
          "height": 227
        }
      },
      "source": [
        "data.head().transpose()"
      ],
      "execution_count": 13,
      "outputs": [
        {
          "output_type": "execute_result",
          "data": {
            "text/html": [
              "<div>\n",
              "<style scoped>\n",
              "    .dataframe tbody tr th:only-of-type {\n",
              "        vertical-align: middle;\n",
              "    }\n",
              "\n",
              "    .dataframe tbody tr th {\n",
              "        vertical-align: top;\n",
              "    }\n",
              "\n",
              "    .dataframe thead th {\n",
              "        text-align: right;\n",
              "    }\n",
              "</style>\n",
              "<table border=\"1\" class=\"dataframe\">\n",
              "  <thead>\n",
              "    <tr style=\"text-align: right;\">\n",
              "      <th></th>\n",
              "      <th>0</th>\n",
              "      <th>1</th>\n",
              "      <th>2</th>\n",
              "      <th>3</th>\n",
              "      <th>4</th>\n",
              "    </tr>\n",
              "  </thead>\n",
              "  <tbody>\n",
              "    <tr>\n",
              "      <th>date</th>\n",
              "      <td>2019-12-11 00:00:00</td>\n",
              "      <td>2019-12-10 00:00:00</td>\n",
              "      <td>2019-12-09 00:00:00</td>\n",
              "      <td>2019-12-06 00:00:00</td>\n",
              "      <td>2019-12-05 00:00:00</td>\n",
              "    </tr>\n",
              "    <tr>\n",
              "      <th>open</th>\n",
              "      <td>1348.3</td>\n",
              "      <td>1339.94</td>\n",
              "      <td>1338.86</td>\n",
              "      <td>1332.75</td>\n",
              "      <td>1327</td>\n",
              "    </tr>\n",
              "    <tr>\n",
              "      <th>high</th>\n",
              "      <td>1349.89</td>\n",
              "      <td>1348</td>\n",
              "      <td>1357.55</td>\n",
              "      <td>1342.47</td>\n",
              "      <td>1327.98</td>\n",
              "    </tr>\n",
              "    <tr>\n",
              "      <th>low</th>\n",
              "      <td>1341.62</td>\n",
              "      <td>1334</td>\n",
              "      <td>1336.07</td>\n",
              "      <td>1331.23</td>\n",
              "      <td>1314.32</td>\n",
              "    </tr>\n",
              "    <tr>\n",
              "      <th>close</th>\n",
              "      <td>1342.16</td>\n",
              "      <td>1342.89</td>\n",
              "      <td>1342.99</td>\n",
              "      <td>1339.39</td>\n",
              "      <td>1326.96</td>\n",
              "    </tr>\n",
              "    <tr>\n",
              "      <th>volume</th>\n",
              "      <td>299492</td>\n",
              "      <td>868417</td>\n",
              "      <td>1.55689e+06</td>\n",
              "      <td>1.64873e+06</td>\n",
              "      <td>1.22063e+06</td>\n",
              "    </tr>\n",
              "  </tbody>\n",
              "</table>\n",
              "</div>"
            ],
            "text/plain": [
              "                          0  ...                    4\n",
              "date    2019-12-11 00:00:00  ...  2019-12-05 00:00:00\n",
              "open                 1348.3  ...                 1327\n",
              "high                1349.89  ...              1327.98\n",
              "low                 1341.62  ...              1314.32\n",
              "close               1342.16  ...              1326.96\n",
              "volume               299492  ...          1.22063e+06\n",
              "\n",
              "[6 rows x 5 columns]"
            ]
          },
          "metadata": {
            "tags": []
          },
          "execution_count": 13
        }
      ]
    },
    {
      "cell_type": "code",
      "metadata": {
        "id": "OKUPkEV9lGMX",
        "colab_type": "code",
        "outputId": "90ea29f9-2892-4e25-b889-8b8d0b410438",
        "colab": {
          "base_uri": "https://localhost:8080/",
          "height": 286
        }
      },
      "source": [
        "data.describe()   # for statistical details like percentile, mean, std and quantiles of data."
      ],
      "execution_count": 14,
      "outputs": [
        {
          "output_type": "execute_result",
          "data": {
            "text/html": [
              "<div>\n",
              "<style scoped>\n",
              "    .dataframe tbody tr th:only-of-type {\n",
              "        vertical-align: middle;\n",
              "    }\n",
              "\n",
              "    .dataframe tbody tr th {\n",
              "        vertical-align: top;\n",
              "    }\n",
              "\n",
              "    .dataframe thead th {\n",
              "        text-align: right;\n",
              "    }\n",
              "</style>\n",
              "<table border=\"1\" class=\"dataframe\">\n",
              "  <thead>\n",
              "    <tr style=\"text-align: right;\">\n",
              "      <th></th>\n",
              "      <th>open</th>\n",
              "      <th>high</th>\n",
              "      <th>low</th>\n",
              "      <th>close</th>\n",
              "      <th>volume</th>\n",
              "    </tr>\n",
              "  </thead>\n",
              "  <tbody>\n",
              "    <tr>\n",
              "      <th>count</th>\n",
              "      <td>3856.000000</td>\n",
              "      <td>3856.000000</td>\n",
              "      <td>3856.000000</td>\n",
              "      <td>3856.000000</td>\n",
              "      <td>3.856000e+03</td>\n",
              "    </tr>\n",
              "    <tr>\n",
              "      <th>mean</th>\n",
              "      <td>659.289664</td>\n",
              "      <td>665.370856</td>\n",
              "      <td>652.730137</td>\n",
              "      <td>659.135486</td>\n",
              "      <td>7.136229e+06</td>\n",
              "    </tr>\n",
              "    <tr>\n",
              "      <th>std</th>\n",
              "      <td>278.567076</td>\n",
              "      <td>280.225183</td>\n",
              "      <td>276.855170</td>\n",
              "      <td>278.676621</td>\n",
              "      <td>8.010855e+06</td>\n",
              "    </tr>\n",
              "    <tr>\n",
              "      <th>min</th>\n",
              "      <td>99.090000</td>\n",
              "      <td>101.740000</td>\n",
              "      <td>95.960000</td>\n",
              "      <td>100.010000</td>\n",
              "      <td>3.845900e+04</td>\n",
              "    </tr>\n",
              "    <tr>\n",
              "      <th>25%</th>\n",
              "      <td>475.132500</td>\n",
              "      <td>480.055000</td>\n",
              "      <td>470.320000</td>\n",
              "      <td>474.742500</td>\n",
              "      <td>1.925898e+06</td>\n",
              "    </tr>\n",
              "    <tr>\n",
              "      <th>50%</th>\n",
              "      <td>588.440000</td>\n",
              "      <td>592.370000</td>\n",
              "      <td>582.835000</td>\n",
              "      <td>587.325000</td>\n",
              "      <td>4.423500e+06</td>\n",
              "    </tr>\n",
              "    <tr>\n",
              "      <th>75%</th>\n",
              "      <td>829.022500</td>\n",
              "      <td>831.935000</td>\n",
              "      <td>823.386950</td>\n",
              "      <td>828.667500</td>\n",
              "      <td>9.148300e+06</td>\n",
              "    </tr>\n",
              "    <tr>\n",
              "      <th>max</th>\n",
              "      <td>1348.300000</td>\n",
              "      <td>1357.550000</td>\n",
              "      <td>1341.620000</td>\n",
              "      <td>1342.990000</td>\n",
              "      <td>8.215110e+07</td>\n",
              "    </tr>\n",
              "  </tbody>\n",
              "</table>\n",
              "</div>"
            ],
            "text/plain": [
              "              open         high          low        close        volume\n",
              "count  3856.000000  3856.000000  3856.000000  3856.000000  3.856000e+03\n",
              "mean    659.289664   665.370856   652.730137   659.135486  7.136229e+06\n",
              "std     278.567076   280.225183   276.855170   278.676621  8.010855e+06\n",
              "min      99.090000   101.740000    95.960000   100.010000  3.845900e+04\n",
              "25%     475.132500   480.055000   470.320000   474.742500  1.925898e+06\n",
              "50%     588.440000   592.370000   582.835000   587.325000  4.423500e+06\n",
              "75%     829.022500   831.935000   823.386950   828.667500  9.148300e+06\n",
              "max    1348.300000  1357.550000  1341.620000  1342.990000  8.215110e+07"
            ]
          },
          "metadata": {
            "tags": []
          },
          "execution_count": 14
        }
      ]
    },
    {
      "cell_type": "code",
      "metadata": {
        "id": "v8dtCEDglJbK",
        "colab_type": "code",
        "outputId": "fbaea4ef-d35d-483a-a500-7664b29b4060",
        "colab": {
          "base_uri": "https://localhost:8080/",
          "height": 204
        }
      },
      "source": [
        "data.info()        #Information about a DataFrame including the index dtype and column dtypes, non-null values and memory usage."
      ],
      "execution_count": 15,
      "outputs": [
        {
          "output_type": "stream",
          "text": [
            "<class 'pandas.core.frame.DataFrame'>\n",
            "RangeIndex: 3856 entries, 0 to 3855\n",
            "Data columns (total 6 columns):\n",
            "date      3856 non-null datetime64[ns]\n",
            "open      3856 non-null float64\n",
            "high      3856 non-null float64\n",
            "low       3856 non-null float64\n",
            "close     3856 non-null float64\n",
            "volume    3856 non-null float64\n",
            "dtypes: datetime64[ns](1), float64(5)\n",
            "memory usage: 180.9 KB\n"
          ],
          "name": "stdout"
        }
      ]
    },
    {
      "cell_type": "markdown",
      "metadata": {
        "id": "NC45ofLZuau8",
        "colab_type": "text"
      },
      "source": [
        "\n",
        "\n",
        "*   'date' is of datetime type while all others are float\n",
        "\n",
        "\n"
      ]
    },
    {
      "cell_type": "code",
      "metadata": {
        "id": "_q9nhquSui5-",
        "colab_type": "code",
        "outputId": "23611623-b0a2-4365-e09a-f4469c824bd7",
        "colab": {
          "base_uri": "https://localhost:8080/",
          "height": 136
        }
      },
      "source": [
        "data.isnull().sum() # number of null values in each column."
      ],
      "execution_count": 16,
      "outputs": [
        {
          "output_type": "execute_result",
          "data": {
            "text/plain": [
              "date      0\n",
              "open      0\n",
              "high      0\n",
              "low       0\n",
              "close     0\n",
              "volume    0\n",
              "dtype: int64"
            ]
          },
          "metadata": {
            "tags": []
          },
          "execution_count": 16
        }
      ]
    },
    {
      "cell_type": "code",
      "metadata": {
        "id": "BxPBPsKp5y_B",
        "colab_type": "code",
        "colab": {}
      },
      "source": [
        ""
      ],
      "execution_count": 0,
      "outputs": []
    },
    {
      "cell_type": "markdown",
      "metadata": {
        "id": "8gWpLPpU_3sf",
        "colab_type": "text"
      },
      "source": [
        "#Models"
      ]
    },
    {
      "cell_type": "code",
      "metadata": {
        "id": "LDj4nJh4DgEy",
        "colab_type": "code",
        "colab": {}
      },
      "source": [
        ""
      ],
      "execution_count": 0,
      "outputs": []
    },
    {
      "cell_type": "markdown",
      "metadata": {
        "id": "SVyzQSvu_6Fd",
        "colab_type": "text"
      },
      "source": [
        "##i).Moving Average\n",
        "\n",
        "\n",
        "\n",
        "*   The predicted closing price for each day will be the average of a set of previously observed values. \n",
        "\n",
        "*   for each subsequent step, the predicted values are taken into consideration while removing the oldest observed value from the set.\n",
        "\n"
      ]
    },
    {
      "cell_type": "code",
      "metadata": {
        "id": "-qtNV9tm_5Xo",
        "colab_type": "code",
        "colab": {}
      },
      "source": [
        "#arrange the data in ascending order\n",
        "data=data.sort_values('date',ascending=True).reset_index().drop('index',axis=1)"
      ],
      "execution_count": 0,
      "outputs": []
    },
    {
      "cell_type": "code",
      "metadata": {
        "id": "KkhzMAwAA29u",
        "colab_type": "code",
        "outputId": "101f0ae4-a691-4478-e726-517d827f7a58",
        "colab": {
          "base_uri": "https://localhost:8080/",
          "height": 197
        }
      },
      "source": [
        "data.head()"
      ],
      "execution_count": 18,
      "outputs": [
        {
          "output_type": "execute_result",
          "data": {
            "text/html": [
              "<div>\n",
              "<style scoped>\n",
              "    .dataframe tbody tr th:only-of-type {\n",
              "        vertical-align: middle;\n",
              "    }\n",
              "\n",
              "    .dataframe tbody tr th {\n",
              "        vertical-align: top;\n",
              "    }\n",
              "\n",
              "    .dataframe thead th {\n",
              "        text-align: right;\n",
              "    }\n",
              "</style>\n",
              "<table border=\"1\" class=\"dataframe\">\n",
              "  <thead>\n",
              "    <tr style=\"text-align: right;\">\n",
              "      <th></th>\n",
              "      <th>date</th>\n",
              "      <th>open</th>\n",
              "      <th>high</th>\n",
              "      <th>low</th>\n",
              "      <th>close</th>\n",
              "      <th>volume</th>\n",
              "    </tr>\n",
              "  </thead>\n",
              "  <tbody>\n",
              "    <tr>\n",
              "      <th>0</th>\n",
              "      <td>2004-08-19</td>\n",
              "      <td>100.01</td>\n",
              "      <td>104.06</td>\n",
              "      <td>95.96</td>\n",
              "      <td>100.335</td>\n",
              "      <td>44659000.0</td>\n",
              "    </tr>\n",
              "    <tr>\n",
              "      <th>1</th>\n",
              "      <td>2004-08-20</td>\n",
              "      <td>101.01</td>\n",
              "      <td>109.08</td>\n",
              "      <td>100.50</td>\n",
              "      <td>108.310</td>\n",
              "      <td>22834300.0</td>\n",
              "    </tr>\n",
              "    <tr>\n",
              "      <th>2</th>\n",
              "      <td>2004-08-23</td>\n",
              "      <td>110.76</td>\n",
              "      <td>113.48</td>\n",
              "      <td>109.05</td>\n",
              "      <td>109.400</td>\n",
              "      <td>18256100.0</td>\n",
              "    </tr>\n",
              "    <tr>\n",
              "      <th>3</th>\n",
              "      <td>2004-08-24</td>\n",
              "      <td>111.24</td>\n",
              "      <td>111.60</td>\n",
              "      <td>103.57</td>\n",
              "      <td>104.870</td>\n",
              "      <td>15247300.0</td>\n",
              "    </tr>\n",
              "    <tr>\n",
              "      <th>4</th>\n",
              "      <td>2004-08-25</td>\n",
              "      <td>104.76</td>\n",
              "      <td>108.00</td>\n",
              "      <td>103.88</td>\n",
              "      <td>106.000</td>\n",
              "      <td>9188600.0</td>\n",
              "    </tr>\n",
              "  </tbody>\n",
              "</table>\n",
              "</div>"
            ],
            "text/plain": [
              "        date    open    high     low    close      volume\n",
              "0 2004-08-19  100.01  104.06   95.96  100.335  44659000.0\n",
              "1 2004-08-20  101.01  109.08  100.50  108.310  22834300.0\n",
              "2 2004-08-23  110.76  113.48  109.05  109.400  18256100.0\n",
              "3 2004-08-24  111.24  111.60  103.57  104.870  15247300.0\n",
              "4 2004-08-25  104.76  108.00  103.88  106.000   9188600.0"
            ]
          },
          "metadata": {
            "tags": []
          },
          "execution_count": 18
        }
      ]
    },
    {
      "cell_type": "markdown",
      "metadata": {
        "id": "kcDACt7zQWS9",
        "colab_type": "text"
      },
      "source": [
        "\n",
        "\n",
        "* In this method we have the use of only 'date' and target feature 'close'.so,we will make a new dataframe called as 'data_M_A'"
      ]
    },
    {
      "cell_type": "code",
      "metadata": {
        "id": "JRhvffeDRQso",
        "colab_type": "code",
        "colab": {}
      },
      "source": [
        "#make new dataframe\n",
        "data_M_A=data[['date','close']]"
      ],
      "execution_count": 0,
      "outputs": []
    },
    {
      "cell_type": "code",
      "metadata": {
        "id": "W85vBoBZA4VY",
        "colab_type": "code",
        "colab": {}
      },
      "source": [
        "#splitting in train and test set.\n",
        "train_len=int(0.9*len(data_M_A))    # not using following method for splitting data as it rearrange the the data every time it splitt.\n",
        "train=data_M_A[:train_len]          # x_train,x_valid,y_train,y_valid=train_test_split(data_M_A,y_label,test_size=.15,random_state=0)     # Split the data in two parts i.e. train and validation part.\n",
        "\n",
        "valid=data_M_A[train_len:]"
      ],
      "execution_count": 0,
      "outputs": []
    },
    {
      "cell_type": "markdown",
      "metadata": {
        "id": "f-HL3nCkhdZ0",
        "colab_type": "text"
      },
      "source": [
        "###Prediction"
      ]
    },
    {
      "cell_type": "code",
      "metadata": {
        "id": "T1htPcoYGGCk",
        "colab_type": "code",
        "colab": {}
      },
      "source": [
        "#Making the prediction\n",
        "predictions = []\n",
        "for i in range(0,valid.shape[0]):\n",
        "    a = train['close'][len(train)-valid.shape[0]+i:].sum() + sum(predictions)\n",
        "    b = a/(valid.shape[0])\n",
        "    predictions.append(b)"
      ],
      "execution_count": 0,
      "outputs": []
    },
    {
      "cell_type": "code",
      "metadata": {
        "id": "Fa6sfR89Kp6s",
        "colab_type": "code",
        "outputId": "88637627-223b-490a-8094-5b3e95914a81",
        "colab": {
          "base_uri": "https://localhost:8080/",
          "height": 34
        }
      },
      "source": [
        "#Checking the result(RMSE values)\n",
        "\n",
        "ms=mean_squared_error(np.array(valid['close']), predictions)      \n",
        "rms=np.sqrt(ms)\n",
        "rms                                       # Mathematically: rms=np.sqrt(np.mean(np.power((np.array(y_valid)-predictions),2)))"
      ],
      "execution_count": 22,
      "outputs": [
        {
          "output_type": "execute_result",
          "data": {
            "text/plain": [
              "171.79519432256902"
            ]
          },
          "metadata": {
            "tags": []
          },
          "execution_count": 22
        }
      ]
    },
    {
      "cell_type": "markdown",
      "metadata": {
        "id": "afXfqlJVhZVE",
        "colab_type": "text"
      },
      "source": [
        "###Plot"
      ]
    },
    {
      "cell_type": "code",
      "metadata": {
        "id": "mRl_jugEOprC",
        "colab_type": "code",
        "outputId": "c34f001a-06fc-4fdc-b0f7-25ae4fbeeecd",
        "colab": {
          "base_uri": "https://localhost:8080/",
          "height": 627
        }
      },
      "source": [
        "#plot\n",
        "valid['predictions'] = 0\n",
        "valid['predictions'] = predictions\n",
        "plt.figure(figsize=(20,10))\n",
        "plt.plot(train['close'])\n",
        "plt.plot(valid[['close', 'predictions']])\n",
        "#plt.plot(data['close'])\n"
      ],
      "execution_count": 23,
      "outputs": [
        {
          "output_type": "execute_result",
          "data": {
            "text/plain": [
              "[<matplotlib.lines.Line2D at 0x7fe8fe7b8a58>,\n",
              " <matplotlib.lines.Line2D at 0x7fe8fe7b8b70>]"
            ]
          },
          "metadata": {
            "tags": []
          },
          "execution_count": 23
        },
        {
          "output_type": "display_data",
          "data": {
            "image/png": "[encoded data removed]",
            "text/plain": [
              "<Figure size 1440x720 with 1 Axes>"
            ]
          },
          "metadata": {
            "tags": []
          }
        }
      ]
    },
    {
      "cell_type": "markdown",
      "metadata": {
        "id": "lVpJsmGghJmB",
        "colab_type": "text"
      },
      "source": [
        "###Conclusion\n",
        "\n",
        "\n",
        "*   RMSE value is close to 172 but the result is not very auscpicious.\n",
        "*   As from the plot ,the predicted value are following the same trend as the observed value, first increase then decrease \n",
        "\n"
      ]
    },
    {
      "cell_type": "markdown",
      "metadata": {
        "id": "4pQGYz4Vm9C1",
        "colab_type": "text"
      },
      "source": [
        "##ii). Linear Regression"
      ]
    },
    {
      "cell_type": "markdown",
      "metadata": {
        "id": "EezmTEypnJlA",
        "colab_type": "text"
      },
      "source": [
        "\n",
        "\n",
        "*   This returns an equation that determines the relationship between independent variables and dependent variables('close').                      \n",
        "\n",
        "We will first create a separate dataset, so that any feature engineering based on the model doesn't affect the original dataset.\n",
        "\n"
      ]
    },
    {
      "cell_type": "markdown",
      "metadata": {
        "id": "rh0KszQ9qJXC",
        "colab_type": "text"
      },
      "source": [
        "###Dummy Dataset "
      ]
    },
    {
      "cell_type": "code",
      "metadata": {
        "id": "HUBXEsxYfMGV",
        "colab_type": "code",
        "colab": {
          "base_uri": "https://localhost:8080/",
          "height": 197
        },
        "outputId": "9ef6ab26-fdd0-4cb7-9ad3-cf3c4d9fab26"
      },
      "source": [
        "data_L_R=data[['date','close']]\n",
        "data_L_R.head()"
      ],
      "execution_count": 24,
      "outputs": [
        {
          "output_type": "execute_result",
          "data": {
            "text/html": [
              "<div>\n",
              "<style scoped>\n",
              "    .dataframe tbody tr th:only-of-type {\n",
              "        vertical-align: middle;\n",
              "    }\n",
              "\n",
              "    .dataframe tbody tr th {\n",
              "        vertical-align: top;\n",
              "    }\n",
              "\n",
              "    .dataframe thead th {\n",
              "        text-align: right;\n",
              "    }\n",
              "</style>\n",
              "<table border=\"1\" class=\"dataframe\">\n",
              "  <thead>\n",
              "    <tr style=\"text-align: right;\">\n",
              "      <th></th>\n",
              "      <th>date</th>\n",
              "      <th>close</th>\n",
              "    </tr>\n",
              "  </thead>\n",
              "  <tbody>\n",
              "    <tr>\n",
              "      <th>0</th>\n",
              "      <td>2004-08-19</td>\n",
              "      <td>100.335</td>\n",
              "    </tr>\n",
              "    <tr>\n",
              "      <th>1</th>\n",
              "      <td>2004-08-20</td>\n",
              "      <td>108.310</td>\n",
              "    </tr>\n",
              "    <tr>\n",
              "      <th>2</th>\n",
              "      <td>2004-08-23</td>\n",
              "      <td>109.400</td>\n",
              "    </tr>\n",
              "    <tr>\n",
              "      <th>3</th>\n",
              "      <td>2004-08-24</td>\n",
              "      <td>104.870</td>\n",
              "    </tr>\n",
              "    <tr>\n",
              "      <th>4</th>\n",
              "      <td>2004-08-25</td>\n",
              "      <td>106.000</td>\n",
              "    </tr>\n",
              "  </tbody>\n",
              "</table>\n",
              "</div>"
            ],
            "text/plain": [
              "        date    close\n",
              "0 2004-08-19  100.335\n",
              "1 2004-08-20  108.310\n",
              "2 2004-08-23  109.400\n",
              "3 2004-08-24  104.870\n",
              "4 2004-08-25  106.000"
            ]
          },
          "metadata": {
            "tags": []
          },
          "execution_count": 24
        }
      ]
    },
    {
      "cell_type": "code",
      "metadata": {
        "id": "yf41U7k0aZxo",
        "colab_type": "code",
        "colab": {}
      },
      "source": [
        "#setting index as date value\n",
        "data_L_R.index=data_L_R['date']"
      ],
      "execution_count": 0,
      "outputs": []
    },
    {
      "cell_type": "markdown",
      "metadata": {
        "id": "qj76RxeZqgUI",
        "colab_type": "text"
      },
      "source": [
        "###Feature_Engineering\n"
      ]
    },
    {
      "cell_type": "markdown",
      "metadata": {
        "id": "NZMMMYb2v6v5",
        "colab_type": "text"
      },
      "source": [
        "* we can extract more features from 'date' column other than 'day','month' and 'year' like :\n",
        "\n",
        "*   'Dayofweek',\n",
        "*   'Dayofyear',\n",
        "\n",
        "*   'Is_month_end' or 'Is_month_start' etc.\n",
        "\n",
        "\n",
        "\n",
        "\n",
        "\n",
        "\n",
        " \n",
        "\n"
      ]
    },
    {
      "cell_type": "code",
      "metadata": {
        "id": "xnVxRPk4pxXc",
        "colab_type": "code",
        "colab": {}
      },
      "source": [
        "!pip install fastai==0.7.0  #install fastai for using structured module"
      ],
      "execution_count": 0,
      "outputs": []
    },
    {
      "cell_type": "code",
      "metadata": {
        "id": "9-uJbmt5rQq1",
        "colab_type": "code",
        "colab": {}
      },
      "source": [
        "from fastai.structured import add_datepart\n",
        "add_datepart(data_L_R,'date')"
      ],
      "execution_count": 0,
      "outputs": []
    },
    {
      "cell_type": "code",
      "metadata": {
        "id": "lblRUiMkuHEL",
        "colab_type": "code",
        "colab": {
          "base_uri": "https://localhost:8080/",
          "height": 227
        },
        "outputId": "b70b2593-ebbf-40df-b340-a7aa06d3ce23"
      },
      "source": [
        "data_L_R.head()"
      ],
      "execution_count": 28,
      "outputs": [
        {
          "output_type": "execute_result",
          "data": {
            "text/html": [
              "<div>\n",
              "<style scoped>\n",
              "    .dataframe tbody tr th:only-of-type {\n",
              "        vertical-align: middle;\n",
              "    }\n",
              "\n",
              "    .dataframe tbody tr th {\n",
              "        vertical-align: top;\n",
              "    }\n",
              "\n",
              "    .dataframe thead th {\n",
              "        text-align: right;\n",
              "    }\n",
              "</style>\n",
              "<table border=\"1\" class=\"dataframe\">\n",
              "  <thead>\n",
              "    <tr style=\"text-align: right;\">\n",
              "      <th></th>\n",
              "      <th>close</th>\n",
              "      <th>Year</th>\n",
              "      <th>Month</th>\n",
              "      <th>Week</th>\n",
              "      <th>Day</th>\n",
              "      <th>Dayofweek</th>\n",
              "      <th>Dayofyear</th>\n",
              "      <th>Is_month_end</th>\n",
              "      <th>Is_month_start</th>\n",
              "      <th>Is_quarter_end</th>\n",
              "      <th>Is_quarter_start</th>\n",
              "      <th>Is_year_end</th>\n",
              "      <th>Is_year_start</th>\n",
              "      <th>Elapsed</th>\n",
              "    </tr>\n",
              "    <tr>\n",
              "      <th>date</th>\n",
              "      <th></th>\n",
              "      <th></th>\n",
              "      <th></th>\n",
              "      <th></th>\n",
              "      <th></th>\n",
              "      <th></th>\n",
              "      <th></th>\n",
              "      <th></th>\n",
              "      <th></th>\n",
              "      <th></th>\n",
              "      <th></th>\n",
              "      <th></th>\n",
              "      <th></th>\n",
              "      <th></th>\n",
              "    </tr>\n",
              "  </thead>\n",
              "  <tbody>\n",
              "    <tr>\n",
              "      <th>2004-08-19</th>\n",
              "      <td>100.335</td>\n",
              "      <td>2004</td>\n",
              "      <td>8</td>\n",
              "      <td>34</td>\n",
              "      <td>19</td>\n",
              "      <td>3</td>\n",
              "      <td>232</td>\n",
              "      <td>False</td>\n",
              "      <td>False</td>\n",
              "      <td>False</td>\n",
              "      <td>False</td>\n",
              "      <td>False</td>\n",
              "      <td>False</td>\n",
              "      <td>1092873600</td>\n",
              "    </tr>\n",
              "    <tr>\n",
              "      <th>2004-08-20</th>\n",
              "      <td>108.310</td>\n",
              "      <td>2004</td>\n",
              "      <td>8</td>\n",
              "      <td>34</td>\n",
              "      <td>20</td>\n",
              "      <td>4</td>\n",
              "      <td>233</td>\n",
              "      <td>False</td>\n",
              "      <td>False</td>\n",
              "      <td>False</td>\n",
              "      <td>False</td>\n",
              "      <td>False</td>\n",
              "      <td>False</td>\n",
              "      <td>1092960000</td>\n",
              "    </tr>\n",
              "    <tr>\n",
              "      <th>2004-08-23</th>\n",
              "      <td>109.400</td>\n",
              "      <td>2004</td>\n",
              "      <td>8</td>\n",
              "      <td>35</td>\n",
              "      <td>23</td>\n",
              "      <td>0</td>\n",
              "      <td>236</td>\n",
              "      <td>False</td>\n",
              "      <td>False</td>\n",
              "      <td>False</td>\n",
              "      <td>False</td>\n",
              "      <td>False</td>\n",
              "      <td>False</td>\n",
              "      <td>1093219200</td>\n",
              "    </tr>\n",
              "    <tr>\n",
              "      <th>2004-08-24</th>\n",
              "      <td>104.870</td>\n",
              "      <td>2004</td>\n",
              "      <td>8</td>\n",
              "      <td>35</td>\n",
              "      <td>24</td>\n",
              "      <td>1</td>\n",
              "      <td>237</td>\n",
              "      <td>False</td>\n",
              "      <td>False</td>\n",
              "      <td>False</td>\n",
              "      <td>False</td>\n",
              "      <td>False</td>\n",
              "      <td>False</td>\n",
              "      <td>1093305600</td>\n",
              "    </tr>\n",
              "    <tr>\n",
              "      <th>2004-08-25</th>\n",
              "      <td>106.000</td>\n",
              "      <td>2004</td>\n",
              "      <td>8</td>\n",
              "      <td>35</td>\n",
              "      <td>25</td>\n",
              "      <td>2</td>\n",
              "      <td>238</td>\n",
              "      <td>False</td>\n",
              "      <td>False</td>\n",
              "      <td>False</td>\n",
              "      <td>False</td>\n",
              "      <td>False</td>\n",
              "      <td>False</td>\n",
              "      <td>1093392000</td>\n",
              "    </tr>\n",
              "  </tbody>\n",
              "</table>\n",
              "</div>"
            ],
            "text/plain": [
              "              close  Year  Month  ...  Is_year_end  Is_year_start     Elapsed\n",
              "date                              ...                                        \n",
              "2004-08-19  100.335  2004      8  ...        False          False  1092873600\n",
              "2004-08-20  108.310  2004      8  ...        False          False  1092960000\n",
              "2004-08-23  109.400  2004      8  ...        False          False  1093219200\n",
              "2004-08-24  104.870  2004      8  ...        False          False  1093305600\n",
              "2004-08-25  106.000  2004      8  ...        False          False  1093392000\n",
              "\n",
              "[5 rows x 14 columns]"
            ]
          },
          "metadata": {
            "tags": []
          },
          "execution_count": 28
        }
      ]
    },
    {
      "cell_type": "markdown",
      "metadata": {
        "id": "_3S-AgRSxlfA",
        "colab_type": "text"
      },
      "source": [
        "Elapsed is the timestamp, so we can drop it."
      ]
    },
    {
      "cell_type": "code",
      "metadata": {
        "id": "esrjxp3FvYm8",
        "colab_type": "code",
        "colab": {}
      },
      "source": [
        "#dropping 'Elapsed' column\n",
        "data_L_R=data_L_R.drop('Elapsed',axis=1)"
      ],
      "execution_count": 0,
      "outputs": []
    },
    {
      "cell_type": "code",
      "metadata": {
        "id": "idUhhJsqx0pX",
        "colab_type": "code",
        "colab": {
          "base_uri": "https://localhost:8080/",
          "height": 227
        },
        "outputId": "2638b41b-115f-4d3d-b427-2d6e81e05b6e"
      },
      "source": [
        "data_L_R.head()"
      ],
      "execution_count": 30,
      "outputs": [
        {
          "output_type": "execute_result",
          "data": {
            "text/html": [
              "<div>\n",
              "<style scoped>\n",
              "    .dataframe tbody tr th:only-of-type {\n",
              "        vertical-align: middle;\n",
              "    }\n",
              "\n",
              "    .dataframe tbody tr th {\n",
              "        vertical-align: top;\n",
              "    }\n",
              "\n",
              "    .dataframe thead th {\n",
              "        text-align: right;\n",
              "    }\n",
              "</style>\n",
              "<table border=\"1\" class=\"dataframe\">\n",
              "  <thead>\n",
              "    <tr style=\"text-align: right;\">\n",
              "      <th></th>\n",
              "      <th>close</th>\n",
              "      <th>Year</th>\n",
              "      <th>Month</th>\n",
              "      <th>Week</th>\n",
              "      <th>Day</th>\n",
              "      <th>Dayofweek</th>\n",
              "      <th>Dayofyear</th>\n",
              "      <th>Is_month_end</th>\n",
              "      <th>Is_month_start</th>\n",
              "      <th>Is_quarter_end</th>\n",
              "      <th>Is_quarter_start</th>\n",
              "      <th>Is_year_end</th>\n",
              "      <th>Is_year_start</th>\n",
              "    </tr>\n",
              "    <tr>\n",
              "      <th>date</th>\n",
              "      <th></th>\n",
              "      <th></th>\n",
              "      <th></th>\n",
              "      <th></th>\n",
              "      <th></th>\n",
              "      <th></th>\n",
              "      <th></th>\n",
              "      <th></th>\n",
              "      <th></th>\n",
              "      <th></th>\n",
              "      <th></th>\n",
              "      <th></th>\n",
              "      <th></th>\n",
              "    </tr>\n",
              "  </thead>\n",
              "  <tbody>\n",
              "    <tr>\n",
              "      <th>2004-08-19</th>\n",
              "      <td>100.335</td>\n",
              "      <td>2004</td>\n",
              "      <td>8</td>\n",
              "      <td>34</td>\n",
              "      <td>19</td>\n",
              "      <td>3</td>\n",
              "      <td>232</td>\n",
              "      <td>False</td>\n",
              "      <td>False</td>\n",
              "      <td>False</td>\n",
              "      <td>False</td>\n",
              "      <td>False</td>\n",
              "      <td>False</td>\n",
              "    </tr>\n",
              "    <tr>\n",
              "      <th>2004-08-20</th>\n",
              "      <td>108.310</td>\n",
              "      <td>2004</td>\n",
              "      <td>8</td>\n",
              "      <td>34</td>\n",
              "      <td>20</td>\n",
              "      <td>4</td>\n",
              "      <td>233</td>\n",
              "      <td>False</td>\n",
              "      <td>False</td>\n",
              "      <td>False</td>\n",
              "      <td>False</td>\n",
              "      <td>False</td>\n",
              "      <td>False</td>\n",
              "    </tr>\n",
              "    <tr>\n",
              "      <th>2004-08-23</th>\n",
              "      <td>109.400</td>\n",
              "      <td>2004</td>\n",
              "      <td>8</td>\n",
              "      <td>35</td>\n",
              "      <td>23</td>\n",
              "      <td>0</td>\n",
              "      <td>236</td>\n",
              "      <td>False</td>\n",
              "      <td>False</td>\n",
              "      <td>False</td>\n",
              "      <td>False</td>\n",
              "      <td>False</td>\n",
              "      <td>False</td>\n",
              "    </tr>\n",
              "    <tr>\n",
              "      <th>2004-08-24</th>\n",
              "      <td>104.870</td>\n",
              "      <td>2004</td>\n",
              "      <td>8</td>\n",
              "      <td>35</td>\n",
              "      <td>24</td>\n",
              "      <td>1</td>\n",
              "      <td>237</td>\n",
              "      <td>False</td>\n",
              "      <td>False</td>\n",
              "      <td>False</td>\n",
              "      <td>False</td>\n",
              "      <td>False</td>\n",
              "      <td>False</td>\n",
              "    </tr>\n",
              "    <tr>\n",
              "      <th>2004-08-25</th>\n",
              "      <td>106.000</td>\n",
              "      <td>2004</td>\n",
              "      <td>8</td>\n",
              "      <td>35</td>\n",
              "      <td>25</td>\n",
              "      <td>2</td>\n",
              "      <td>238</td>\n",
              "      <td>False</td>\n",
              "      <td>False</td>\n",
              "      <td>False</td>\n",
              "      <td>False</td>\n",
              "      <td>False</td>\n",
              "      <td>False</td>\n",
              "    </tr>\n",
              "  </tbody>\n",
              "</table>\n",
              "</div>"
            ],
            "text/plain": [
              "              close  Year  Month  ...  Is_quarter_start  Is_year_end  Is_year_start\n",
              "date                              ...                                              \n",
              "2004-08-19  100.335  2004      8  ...             False        False          False\n",
              "2004-08-20  108.310  2004      8  ...             False        False          False\n",
              "2004-08-23  109.400  2004      8  ...             False        False          False\n",
              "2004-08-24  104.870  2004      8  ...             False        False          False\n",
              "2004-08-25  106.000  2004      8  ...             False        False          False\n",
              "\n",
              "[5 rows x 13 columns]"
            ]
          },
          "metadata": {
            "tags": []
          },
          "execution_count": 30
        }
      ]
    },
    {
      "cell_type": "code",
      "metadata": {
        "id": "OAYsx-Aix2F7",
        "colab_type": "code",
        "colab": {
          "base_uri": "https://localhost:8080/",
          "height": 227
        },
        "outputId": "91ff9421-c88d-4616-c2c6-3154000fce79"
      },
      "source": [
        "data_L_R['mon_fri']=0\n",
        "\n",
        "data_L_R['mon_fri']=[1 if (i==0 or i==4) else 0 for i in data_L_R['Dayofweek']  ] # explanation of \"if else comprehensive list\" : https://colab.research.google.com/drive/1dnubPliz3FdmNFVocK8ERr1MP0BocDnT?authuser=1#scrollTo=UJWzqjkPH9UC\n",
        "data_L_R.head()"
      ],
      "execution_count": 31,
      "outputs": [
        {
          "output_type": "execute_result",
          "data": {
            "text/html": [
              "<div>\n",
              "<style scoped>\n",
              "    .dataframe tbody tr th:only-of-type {\n",
              "        vertical-align: middle;\n",
              "    }\n",
              "\n",
              "    .dataframe tbody tr th {\n",
              "        vertical-align: top;\n",
              "    }\n",
              "\n",
              "    .dataframe thead th {\n",
              "        text-align: right;\n",
              "    }\n",
              "</style>\n",
              "<table border=\"1\" class=\"dataframe\">\n",
              "  <thead>\n",
              "    <tr style=\"text-align: right;\">\n",
              "      <th></th>\n",
              "      <th>close</th>\n",
              "      <th>Year</th>\n",
              "      <th>Month</th>\n",
              "      <th>Week</th>\n",
              "      <th>Day</th>\n",
              "      <th>Dayofweek</th>\n",
              "      <th>Dayofyear</th>\n",
              "      <th>Is_month_end</th>\n",
              "      <th>Is_month_start</th>\n",
              "      <th>Is_quarter_end</th>\n",
              "      <th>Is_quarter_start</th>\n",
              "      <th>Is_year_end</th>\n",
              "      <th>Is_year_start</th>\n",
              "      <th>mon_fri</th>\n",
              "    </tr>\n",
              "    <tr>\n",
              "      <th>date</th>\n",
              "      <th></th>\n",
              "      <th></th>\n",
              "      <th></th>\n",
              "      <th></th>\n",
              "      <th></th>\n",
              "      <th></th>\n",
              "      <th></th>\n",
              "      <th></th>\n",
              "      <th></th>\n",
              "      <th></th>\n",
              "      <th></th>\n",
              "      <th></th>\n",
              "      <th></th>\n",
              "      <th></th>\n",
              "    </tr>\n",
              "  </thead>\n",
              "  <tbody>\n",
              "    <tr>\n",
              "      <th>2004-08-19</th>\n",
              "      <td>100.335</td>\n",
              "      <td>2004</td>\n",
              "      <td>8</td>\n",
              "      <td>34</td>\n",
              "      <td>19</td>\n",
              "      <td>3</td>\n",
              "      <td>232</td>\n",
              "      <td>False</td>\n",
              "      <td>False</td>\n",
              "      <td>False</td>\n",
              "      <td>False</td>\n",
              "      <td>False</td>\n",
              "      <td>False</td>\n",
              "      <td>0</td>\n",
              "    </tr>\n",
              "    <tr>\n",
              "      <th>2004-08-20</th>\n",
              "      <td>108.310</td>\n",
              "      <td>2004</td>\n",
              "      <td>8</td>\n",
              "      <td>34</td>\n",
              "      <td>20</td>\n",
              "      <td>4</td>\n",
              "      <td>233</td>\n",
              "      <td>False</td>\n",
              "      <td>False</td>\n",
              "      <td>False</td>\n",
              "      <td>False</td>\n",
              "      <td>False</td>\n",
              "      <td>False</td>\n",
              "      <td>1</td>\n",
              "    </tr>\n",
              "    <tr>\n",
              "      <th>2004-08-23</th>\n",
              "      <td>109.400</td>\n",
              "      <td>2004</td>\n",
              "      <td>8</td>\n",
              "      <td>35</td>\n",
              "      <td>23</td>\n",
              "      <td>0</td>\n",
              "      <td>236</td>\n",
              "      <td>False</td>\n",
              "      <td>False</td>\n",
              "      <td>False</td>\n",
              "      <td>False</td>\n",
              "      <td>False</td>\n",
              "      <td>False</td>\n",
              "      <td>1</td>\n",
              "    </tr>\n",
              "    <tr>\n",
              "      <th>2004-08-24</th>\n",
              "      <td>104.870</td>\n",
              "      <td>2004</td>\n",
              "      <td>8</td>\n",
              "      <td>35</td>\n",
              "      <td>24</td>\n",
              "      <td>1</td>\n",
              "      <td>237</td>\n",
              "      <td>False</td>\n",
              "      <td>False</td>\n",
              "      <td>False</td>\n",
              "      <td>False</td>\n",
              "      <td>False</td>\n",
              "      <td>False</td>\n",
              "      <td>0</td>\n",
              "    </tr>\n",
              "    <tr>\n",
              "      <th>2004-08-25</th>\n",
              "      <td>106.000</td>\n",
              "      <td>2004</td>\n",
              "      <td>8</td>\n",
              "      <td>35</td>\n",
              "      <td>25</td>\n",
              "      <td>2</td>\n",
              "      <td>238</td>\n",
              "      <td>False</td>\n",
              "      <td>False</td>\n",
              "      <td>False</td>\n",
              "      <td>False</td>\n",
              "      <td>False</td>\n",
              "      <td>False</td>\n",
              "      <td>0</td>\n",
              "    </tr>\n",
              "  </tbody>\n",
              "</table>\n",
              "</div>"
            ],
            "text/plain": [
              "              close  Year  Month  ...  Is_year_end  Is_year_start  mon_fri\n",
              "date                              ...                                     \n",
              "2004-08-19  100.335  2004      8  ...        False          False        0\n",
              "2004-08-20  108.310  2004      8  ...        False          False        1\n",
              "2004-08-23  109.400  2004      8  ...        False          False        1\n",
              "2004-08-24  104.870  2004      8  ...        False          False        0\n",
              "2004-08-25  106.000  2004      8  ...        False          False        0\n",
              "\n",
              "[5 rows x 14 columns]"
            ]
          },
          "metadata": {
            "tags": []
          },
          "execution_count": 31
        }
      ]
    },
    {
      "cell_type": "markdown",
      "metadata": {
        "id": "lekKRLYlNTKa",
        "colab_type": "text"
      },
      "source": [
        "if the day of the week is equal to 0 or 4, the 'mon_fri' column will be 1 otherwise it will be 0."
      ]
    },
    {
      "cell_type": "markdown",
      "metadata": {
        "id": "gvKbVkxYNrIy",
        "colab_type": "text"
      },
      "source": [
        "###Train_Test split "
      ]
    },
    {
      "cell_type": "code",
      "metadata": {
        "id": "1N69YZUHW98n",
        "colab_type": "code",
        "colab": {}
      },
      "source": [
        "#splitting in train and test set.\n",
        "train_len=int(0.9*len(data_L_R))    # not using following method for splitting data as it rearrange the the data every time it splitt.\n",
        "train=data_L_R[:train_len]          # x_train,x_valid,y_train,y_valid=train_test_split(data_M_A,y_label,test_size=.15,random_state=0)     # Split the data in two parts i.e. train and validation part.\n",
        "\n",
        "valid=data_L_R[train_len:]"
      ],
      "execution_count": 0,
      "outputs": []
    },
    {
      "cell_type": "code",
      "metadata": {
        "id": "ugbQu_W4XjdZ",
        "colab_type": "code",
        "colab": {}
      },
      "source": [
        "x_train=train.drop('close',axis=1)\n",
        "y_train=train['close']\n",
        "x_valid=valid.drop('close',axis=1)\n",
        "y_valid=valid['close']"
      ],
      "execution_count": 0,
      "outputs": []
    },
    {
      "cell_type": "markdown",
      "metadata": {
        "id": "-aiy7ugKRJ9Z",
        "colab_type": "text"
      },
      "source": [
        "###Model_Training"
      ]
    },
    {
      "cell_type": "code",
      "metadata": {
        "id": "_0leR9jrPMqZ",
        "colab_type": "code",
        "colab": {
          "base_uri": "https://localhost:8080/",
          "height": 34
        },
        "outputId": "20ed4d7d-4748-437e-db60-0d60788a7a0e"
      },
      "source": [
        "from sklearn.linear_model import LinearRegression\n",
        "L_R_Model=LinearRegression()\n",
        "L_R_Model.fit(x_train,y_train)"
      ],
      "execution_count": 34,
      "outputs": [
        {
          "output_type": "execute_result",
          "data": {
            "text/plain": [
              "LinearRegression(copy_X=True, fit_intercept=True, n_jobs=None, normalize=False)"
            ]
          },
          "metadata": {
            "tags": []
          },
          "execution_count": 34
        }
      ]
    },
    {
      "cell_type": "markdown",
      "metadata": {
        "id": "7Lmli4XBRQd9",
        "colab_type": "text"
      },
      "source": [
        "###Prediction"
      ]
    },
    {
      "cell_type": "code",
      "metadata": {
        "id": "3cnD-m2cP9ib",
        "colab_type": "code",
        "colab": {}
      },
      "source": [
        "Predict_L_R=L_R_Model.predict(x_valid)"
      ],
      "execution_count": 0,
      "outputs": []
    },
    {
      "cell_type": "markdown",
      "metadata": {
        "id": "qecBdoz4RUAL",
        "colab_type": "text"
      },
      "source": [
        "###Evaluation"
      ]
    },
    {
      "cell_type": "code",
      "metadata": {
        "id": "w-hNoepRQLio",
        "colab_type": "code",
        "colab": {
          "base_uri": "https://localhost:8080/",
          "height": 34
        },
        "outputId": "6213a008-4c7a-4a70-b481-897366926041"
      },
      "source": [
        "#Checking the result(RMSE values)\n",
        "\n",
        "ms=mean_squared_error(y_valid, Predict_L_R)      \n",
        "rms=np.sqrt(ms)\n",
        "rms                                       # Mathematically: rms=np.sqrt(np.mean(np.power((np.array(y_valid)-predictions),2)))"
      ],
      "execution_count": 36,
      "outputs": [
        {
          "output_type": "execute_result",
          "data": {
            "text/plain": [
              "214.8595955863622"
            ]
          },
          "metadata": {
            "tags": []
          },
          "execution_count": 36
        }
      ]
    },
    {
      "cell_type": "markdown",
      "metadata": {
        "id": "ZItodPCdb6ly",
        "colab_type": "text"
      },
      "source": [
        "Linear Regression perform poorly than Moving Average technnique as RMSE value for Linear Regression is higher than Moving Average."
      ]
    },
    {
      "cell_type": "markdown",
      "metadata": {
        "id": "AzXGXa5rRjHi",
        "colab_type": "text"
      },
      "source": [
        "###Plot"
      ]
    },
    {
      "cell_type": "code",
      "metadata": {
        "id": "gziLcKEQQc_U",
        "colab_type": "code",
        "colab": {
          "base_uri": "https://localhost:8080/",
          "height": 627
        },
        "outputId": "f66cd637-cd72-483e-e0da-6ef4f67fd7d3"
      },
      "source": [
        "#plot\n",
        "valid['predictions'] = 0\n",
        "valid['predictions'] = Predict_L_R\n",
        "plt.figure(figsize=(20,10))\n",
        "plt.plot(train['close'])\n",
        "plt.plot(valid[['close', 'predictions']])\n"
      ],
      "execution_count": 37,
      "outputs": [
        {
          "output_type": "execute_result",
          "data": {
            "text/plain": [
              "[<matplotlib.lines.Line2D at 0x7fe8ecce9320>,\n",
              " <matplotlib.lines.Line2D at 0x7fe8ecce9400>]"
            ]
          },
          "metadata": {
            "tags": []
          },
          "execution_count": 37
        },
        {
          "output_type": "display_data",
          "data": {
            "image/png": "[encoded data removed]",
            "text/plain": [
              "<Figure size 1440x720 with 1 Axes>"
            ]
          },
          "metadata": {
            "tags": []
          }
        }
      ]
    },
    {
      "cell_type": "markdown",
      "metadata": {
        "id": "1oWANMRfZNSp",
        "colab_type": "text"
      },
      "source": [
        "\n",
        "\n",
        "*   Linear Regresion is  simple technique and easy to interpret.\n",
        "*   But it is prone to overfitting it performs well for problem where the independent features are useful for determining the target value.\n",
        "\n",
        "\n",
        "\n",
        "\n"
      ]
    },
    {
      "cell_type": "code",
      "metadata": {
        "id": "Q617l4ACWp9E",
        "colab_type": "code",
        "colab": {}
      },
      "source": [
        ""
      ],
      "execution_count": 0,
      "outputs": []
    },
    {
      "cell_type": "markdown",
      "metadata": {
        "id": "XL0hgHFFeClU",
        "colab_type": "text"
      },
      "source": [
        "##iii) Auto Arima\n",
        "*   Polpular Statistical method for time series forecasting.\n",
        "*   It process past values  to predict the future values."
      ]
    },
    {
      "cell_type": "code",
      "metadata": {
        "id": "3jjAK3ROhdfF",
        "colab_type": "code",
        "colab": {
          "base_uri": "https://localhost:8080/",
          "height": 290
        },
        "outputId": "652b4482-6fb0-4528-8704-44cf6d38656b"
      },
      "source": [
        "pip install pyramid-arima "
      ],
      "execution_count": 38,
      "outputs": [
        {
          "output_type": "stream",
          "text": [
            "Collecting pyramid-arima\n",
            "\u001b[?25l  Downloading https://files.pythonhosted.org/packages/5c/84/57422f2a6ade3161c586545e38b518ba1b7ab30ee4a4acc29110c0aba2bc/pyramid_arima-0.9.0-cp36-cp36m-manylinux1_x86_64.whl (597kB)\n",
            "\r\u001b[K     |▌                               | 10kB 25.4MB/s eta 0:00:01\r\u001b[K     |█                               | 20kB 3.0MB/s eta 0:00:01\r\u001b[K     |█▋                              | 30kB 4.4MB/s eta 0:00:01\r\u001b[K     |██▏                             | 40kB 2.9MB/s eta 0:00:01\r\u001b[K     |██▊                             | 51kB 3.6MB/s eta 0:00:01\r\u001b[K     |███▎                            | 61kB 4.2MB/s eta 0:00:01\r\u001b[K     |███▉                            | 71kB 4.9MB/s eta 0:00:01\r\u001b[K     |████▍                           | 81kB 5.5MB/s eta 0:00:01\r\u001b[K     |█████                           | 92kB 6.1MB/s eta 0:00:01\r\u001b[K     |█████▌                          | 102kB 4.8MB/s eta 0:00:01\r\u001b[K     |██████                          | 112kB 4.8MB/s eta 0:00:01\r\u001b[K     |██████▋                         | 122kB 4.8MB/s eta 0:00:01\r\u001b[K     |███████▏                        | 133kB 4.8MB/s eta 0:00:01\r\u001b[K     |███████▊                        | 143kB 4.8MB/s eta 0:00:01\r\u001b[K     |████████▏                       | 153kB 4.8MB/s eta 0:00:01\r\u001b[K     |████████▊                       | 163kB 4.8MB/s eta 0:00:01\r\u001b[K     |█████████▎                      | 174kB 4.8MB/s eta 0:00:01\r\u001b[K     |█████████▉                      | 184kB 4.8MB/s eta 0:00:01\r\u001b[K     |██████████▍                     | 194kB 4.8MB/s eta 0:00:01\r\u001b[K     |███████████                     | 204kB 4.8MB/s eta 0:00:01\r\u001b[K     |███████████▌                    | 215kB 4.8MB/s eta 0:00:01\r\u001b[K     |████████████                    | 225kB 4.8MB/s eta 0:00:01\r\u001b[K     |████████████▋                   | 235kB 4.8MB/s eta 0:00:01\r\u001b[K     |█████████████▏                  | 245kB 4.8MB/s eta 0:00:01\r\u001b[K     |█████████████▊                  | 256kB 4.8MB/s eta 0:00:01\r\u001b[K     |██████████████▎                 | 266kB 4.8MB/s eta 0:00:01\r\u001b[K     |██████████████▉                 | 276kB 4.8MB/s eta 0:00:01\r\u001b[K     |███████████████▍                | 286kB 4.8MB/s eta 0:00:01\r\u001b[K     |████████████████                | 296kB 4.8MB/s eta 0:00:01\r\u001b[K     |████████████████▍               | 307kB 4.8MB/s eta 0:00:01\r\u001b[K     |█████████████████               | 317kB 4.8MB/s eta 0:00:01\r\u001b[K     |█████████████████▌              | 327kB 4.8MB/s eta 0:00:01\r\u001b[K     |██████████████████              | 337kB 4.8MB/s eta 0:00:01\r\u001b[K     |██████████████████▋             | 348kB 4.8MB/s eta 0:00:01\r\u001b[K     |███████████████████▏            | 358kB 4.8MB/s eta 0:00:01\r\u001b[K     |███████████████████▊            | 368kB 4.8MB/s eta 0:00:01\r\u001b[K     |████████████████████▎           | 378kB 4.8MB/s eta 0:00:01\r\u001b[K     |████████████████████▉           | 389kB 4.8MB/s eta 0:00:01\r\u001b[K     |█████████████████████▍          | 399kB 4.8MB/s eta 0:00:01\r\u001b[K     |██████████████████████          | 409kB 4.8MB/s eta 0:00:01\r\u001b[K     |██████████████████████▌         | 419kB 4.8MB/s eta 0:00:01\r\u001b[K     |███████████████████████         | 430kB 4.8MB/s eta 0:00:01\r\u001b[K     |███████████████████████▋        | 440kB 4.8MB/s eta 0:00:01\r\u001b[K     |████████████████████████▏       | 450kB 4.8MB/s eta 0:00:01\r\u001b[K     |████████████████████████▋       | 460kB 4.8MB/s eta 0:00:01\r\u001b[K     |█████████████████████████▏      | 471kB 4.8MB/s eta 0:00:01\r\u001b[K     |█████████████████████████▊      | 481kB 4.8MB/s eta 0:00:01\r\u001b[K     |██████████████████████████▎     | 491kB 4.8MB/s eta 0:00:01\r\u001b[K     |██████████████████████████▉     | 501kB 4.8MB/s eta 0:00:01\r\u001b[K     |███████████████████████████▍    | 512kB 4.8MB/s eta 0:00:01\r\u001b[K     |████████████████████████████    | 522kB 4.8MB/s eta 0:00:01\r\u001b[K     |████████████████████████████▌   | 532kB 4.8MB/s eta 0:00:01\r\u001b[K     |█████████████████████████████   | 542kB 4.8MB/s eta 0:00:01\r\u001b[K     |█████████████████████████████▋  | 552kB 4.8MB/s eta 0:00:01\r\u001b[K     |██████████████████████████████▏ | 563kB 4.8MB/s eta 0:00:01\r\u001b[K     |██████████████████████████████▊ | 573kB 4.8MB/s eta 0:00:01\r\u001b[K     |███████████████████████████████▎| 583kB 4.8MB/s eta 0:00:01\r\u001b[K     |███████████████████████████████▉| 593kB 4.8MB/s eta 0:00:01\r\u001b[K     |████████████████████████████████| 604kB 4.8MB/s \n",
            "\u001b[?25hRequirement already satisfied: statsmodels>=0.9.0 in /usr/local/lib/python3.6/dist-packages (from pyramid-arima) (0.10.2)\n",
            "Requirement already satisfied: pandas>=0.19 in /usr/local/lib/python3.6/dist-packages (from pyramid-arima) (0.25.3)\n",
            "Requirement already satisfied: Cython>=0.23 in /usr/local/lib/python3.6/dist-packages (from pyramid-arima) (0.29.14)\n",
            "Requirement already satisfied: scikit-learn>=0.17 in /usr/local/lib/python3.6/dist-packages (from pyramid-arima) (0.21.3)\n",
            "Requirement already satisfied: scipy>=0.9 in /usr/local/lib/python3.6/dist-packages (from pyramid-arima) (1.3.3)\n",
            "Requirement already satisfied: numpy>=1.10 in /usr/local/lib/python3.6/dist-packages (from pyramid-arima) (1.17.4)\n",
            "Requirement already satisfied: patsy>=0.4.0 in /usr/local/lib/python3.6/dist-packages (from statsmodels>=0.9.0->pyramid-arima) (0.5.1)\n",
            "Requirement already satisfied: python-dateutil>=2.6.1 in /usr/local/lib/python3.6/dist-packages (from pandas>=0.19->pyramid-arima) (2.6.1)\n",
            "Requirement already satisfied: pytz>=2017.2 in /usr/local/lib/python3.6/dist-packages (from pandas>=0.19->pyramid-arima) (2018.9)\n",
            "Requirement already satisfied: joblib>=0.11 in /usr/local/lib/python3.6/dist-packages (from scikit-learn>=0.17->pyramid-arima) (0.14.0)\n",
            "Requirement already satisfied: six in /usr/local/lib/python3.6/dist-packages (from patsy>=0.4.0->statsmodels>=0.9.0->pyramid-arima) (1.12.0)\n",
            "Installing collected packages: pyramid-arima\n",
            "Successfully installed pyramid-arima-0.9.0\n"
          ],
          "name": "stdout"
        }
      ]
    },
    {
      "cell_type": "code",
      "metadata": {
        "id": "foBAcRwQeNtQ",
        "colab_type": "code",
        "colab": {}
      },
      "source": [
        "# import pyramid\n",
        "from pyramid.arima import auto_arima "
      ],
      "execution_count": 0,
      "outputs": []
    },
    {
      "cell_type": "markdown",
      "metadata": {
        "id": "cfQyMhRajP2S",
        "colab_type": "text"
      },
      "source": [
        "###Dummy Dataset"
      ]
    },
    {
      "cell_type": "code",
      "metadata": {
        "id": "_gQ88OWVgseq",
        "colab_type": "code",
        "colab": {}
      },
      "source": [
        "data_Auto_Arima=data"
      ],
      "execution_count": 0,
      "outputs": []
    },
    {
      "cell_type": "code",
      "metadata": {
        "id": "tD3fU8tmkl5t",
        "colab_type": "code",
        "colab": {}
      },
      "source": [
        "# setting date as index value\n",
        "data_Auto_Arima.index=data_Auto_Arima['date']"
      ],
      "execution_count": 0,
      "outputs": []
    },
    {
      "cell_type": "markdown",
      "metadata": {
        "id": "9WpmEuIMlCXL",
        "colab_type": "text"
      },
      "source": [
        "###Train_Test_Split"
      ]
    },
    {
      "cell_type": "code",
      "metadata": {
        "id": "pe9i1RHak7Nk",
        "colab_type": "code",
        "colab": {}
      },
      "source": [
        "#splitting in train and test set.\n",
        "train_len=int(0.9*len(data_Auto_Arima))    # not using following method for splitting data as it rearrange the the data every time it splitt.\n",
        "train=data_Auto_Arima[:train_len]          # x_train,x_valid,y_train,y_valid=train_test_split(data_M_A,y_label,test_size=.15,random_state=0)     # Split the data in two parts i.e. train and validation part.\n",
        "\n",
        "valid=data_Auto_Arima[train_len:] "
      ],
      "execution_count": 0,
      "outputs": []
    },
    {
      "cell_type": "code",
      "metadata": {
        "id": "mbDYLSTplODS",
        "colab_type": "code",
        "colab": {}
      },
      "source": [
        "training = train['close']    # it only perform on target value as it process past value to predict future value.\n",
        "validation = valid['close']"
      ],
      "execution_count": 0,
      "outputs": []
    },
    {
      "cell_type": "markdown",
      "metadata": {
        "id": "cIfPHj3Kl07A",
        "colab_type": "text"
      },
      "source": [
        "###Model training \n"
      ]
    },
    {
      "cell_type": "code",
      "metadata": {
        "id": "JcbnB3dslcY2",
        "colab_type": "code",
        "colab": {
          "base_uri": "https://localhost:8080/",
          "height": 290
        },
        "outputId": "41154c52-15db-45d9-f203-0ee6a4bdf17f"
      },
      "source": [
        "model = auto_arima(training, start_p=1, start_q=1,max_p=3,max_q=3,m=12,start_P=0,seasonal=True,d=1, D=1, trace=True,error_action='ignore',suppress_warnings=True)\n",
        "model.fit(training)"
      ],
      "execution_count": 44,
      "outputs": [
        {
          "output_type": "stream",
          "text": [
            "Fit ARIMA: order=(1, 1, 1) seasonal_order=(0, 1, 1, 12); AIC=28155.254, BIC=28185.995, Fit time=28.880 seconds\n",
            "Fit ARIMA: order=(0, 1, 0) seasonal_order=(0, 1, 0, 12); AIC=30536.750, BIC=30549.046, Fit time=0.219 seconds\n",
            "Fit ARIMA: order=(1, 1, 0) seasonal_order=(1, 1, 0, 12); AIC=29523.430, BIC=29548.023, Fit time=7.153 seconds\n",
            "Fit ARIMA: order=(0, 1, 1) seasonal_order=(0, 1, 1, 12); AIC=28154.355, BIC=28178.948, Fit time=26.044 seconds\n",
            "Fit ARIMA: order=(0, 1, 1) seasonal_order=(1, 1, 1, 12); AIC=28155.695, BIC=28186.436, Fit time=32.069 seconds\n",
            "Fit ARIMA: order=(0, 1, 1) seasonal_order=(0, 1, 0, 12); AIC=30534.820, BIC=30553.264, Fit time=1.059 seconds\n",
            "Fit ARIMA: order=(0, 1, 1) seasonal_order=(0, 1, 2, 12); AIC=28155.688, BIC=28186.429, Fit time=59.082 seconds\n",
            "Fit ARIMA: order=(0, 1, 1) seasonal_order=(1, 1, 2, 12); AIC=28157.467, BIC=28194.356, Fit time=26.532 seconds\n",
            "Fit ARIMA: order=(0, 1, 0) seasonal_order=(0, 1, 1, 12); AIC=28155.257, BIC=28173.701, Fit time=17.266 seconds\n",
            "Fit ARIMA: order=(0, 1, 2) seasonal_order=(0, 1, 1, 12); AIC=28156.479, BIC=28187.220, Fit time=11.258 seconds\n",
            "Fit ARIMA: order=(1, 1, 2) seasonal_order=(0, 1, 1, 12); AIC=28158.380, BIC=28195.269, Fit time=13.259 seconds\n",
            "Total fit time: 222.827 seconds\n"
          ],
          "name": "stdout"
        },
        {
          "output_type": "execute_result",
          "data": {
            "text/plain": [
              "ARIMA(callback=None, disp=0, maxiter=50, method=None, order=(0, 1, 1),\n",
              "      out_of_sample_size=0, scoring='mse', scoring_args={},\n",
              "      seasonal_order=(0, 1, 1, 12), solver='lbfgs', start_params=None,\n",
              "      suppress_warnings=True, transparams=True, trend='c')"
            ]
          },
          "metadata": {
            "tags": []
          },
          "execution_count": 44
        }
      ]
    },
    {
      "cell_type": "markdown",
      "metadata": {
        "id": "vx3BHXHrm9XU",
        "colab_type": "text"
      },
      "source": [
        "##Predictions"
      ]
    },
    {
      "cell_type": "code",
      "metadata": {
        "id": "nhqBH4QNm7GT",
        "colab_type": "code",
        "colab": {}
      },
      "source": [
        "forecast=model.predict(n_periods=len(valid))\n",
        "forecast=pd.DataFrame(forecast,index=valid.index,columns=['Predictions'])"
      ],
      "execution_count": 0,
      "outputs": []
    },
    {
      "cell_type": "markdown",
      "metadata": {
        "id": "HAWUKXTRDd8T",
        "colab_type": "text"
      },
      "source": [
        "##Evaluation"
      ]
    },
    {
      "cell_type": "code",
      "metadata": {
        "id": "dMr7KO31n-Vv",
        "colab_type": "code",
        "colab": {
          "base_uri": "https://localhost:8080/",
          "height": 34
        },
        "outputId": "1369b55f-ffe7-4a1e-dfed-034e9510f7c3"
      },
      "source": [
        "#Checking the result(RMSE values)\n",
        "\n",
        "ms=mean_squared_error(np.array(valid['close']),(forecast['Predictions']))      \n",
        "rms=np.sqrt(ms)\n",
        "rms                                       # Mathematically: rms=np.sqrt(np.mean(np.power((np.array(y_valid)-predictions),2)))"
      ],
      "execution_count": 46,
      "outputs": [
        {
          "output_type": "execute_result",
          "data": {
            "text/plain": [
              "70.58531058208031"
            ]
          },
          "metadata": {
            "tags": []
          },
          "execution_count": 46
        }
      ]
    },
    {
      "cell_type": "markdown",
      "metadata": {
        "id": "BfgFRz9_oknh",
        "colab_type": "text"
      },
      "source": [
        "###Plot"
      ]
    },
    {
      "cell_type": "code",
      "metadata": {
        "id": "UJZPEiz8oYhd",
        "colab_type": "code",
        "colab": {
          "base_uri": "https://localhost:8080/",
          "height": 610
        },
        "outputId": "ad6a13c2-6902-4bd9-8738-fbd815d5f8c7"
      },
      "source": [
        "plt.figure(figsize=(20,10))\n",
        "plt.plot(train['close'])\n",
        "plt.plot(valid['close'])\n",
        "plt.plot(forecast['Predictions'])"
      ],
      "execution_count": 47,
      "outputs": [
        {
          "output_type": "execute_result",
          "data": {
            "text/plain": [
              "[<matplotlib.lines.Line2D at 0x7fe8e0760f60>]"
            ]
          },
          "metadata": {
            "tags": []
          },
          "execution_count": 47
        },
        {
          "output_type": "display_data",
          "data": {
            "image/png": "[encoded data removed]",
            "text/plain": [
              "<Figure size 1440x720 with 1 Axes>"
            ]
          },
          "metadata": {
            "tags": []
          }
        }
      ]
    },
    {
      "cell_type": "markdown",
      "metadata": {
        "id": "A4ice8qet8zj",
        "colab_type": "text"
      },
      "source": [
        "the model has captured a trend in the series, but does not focus on the seasonal part."
      ]
    },
    {
      "cell_type": "markdown",
      "metadata": {
        "id": "Brr15_iJszg4",
        "colab_type": "text"
      },
      "source": [
        "###Conclusion\n",
        "* an auto ARIMA model uses past data to understand the pattern in the time series ,using these values the model  captured an increasing trend in the series.\n",
        "* These predictions are still not close to the real values but are far better than previously implemented machine learning model."
      ]
    },
    {
      "cell_type": "code",
      "metadata": {
        "id": "vai7jOolo4Og",
        "colab_type": "code",
        "colab": {}
      },
      "source": [
        ""
      ],
      "execution_count": 0,
      "outputs": []
    },
    {
      "cell_type": "markdown",
      "metadata": {
        "id": "-SFpgYjduq0D",
        "colab_type": "text"
      },
      "source": [
        "##iv).LSTM"
      ]
    },
    {
      "cell_type": "markdown",
      "metadata": {
        "id": "98xnbuwiu5pt",
        "colab_type": "text"
      },
      "source": [
        "\n",
        "\n",
        "*   use for sequnece predictions probem and is extremly  effective.\n",
        "*   it is able to store past information that is important , and forget that is not.\n",
        "\n"
      ]
    },
    {
      "cell_type": "code",
      "metadata": {
        "id": "zlR3YR8yvlho",
        "colab_type": "code",
        "colab": {}
      },
      "source": [
        "# importing libraries\n",
        "from sklearn.preprocessing import MinMaxScaler\n",
        "from keras.models import Sequential\n",
        "from keras.layers import Dense,Dropout,LSTM"
      ],
      "execution_count": 0,
      "outputs": []
    },
    {
      "cell_type": "markdown",
      "metadata": {
        "id": "J3S6TtE3wsaN",
        "colab_type": "text"
      },
      "source": [
        "###Dummy_DataFrame"
      ]
    },
    {
      "cell_type": "code",
      "metadata": {
        "id": "Skfs4KtOwroi",
        "colab_type": "code",
        "colab": {}
      },
      "source": [
        "data_LSTM=data[['date','close']]\n",
        "data_LSTM.index=data['date']\n",
        "data_LSTM=data_LSTM.drop('date',axis=1)"
      ],
      "execution_count": 0,
      "outputs": []
    },
    {
      "cell_type": "code",
      "metadata": {
        "id": "4kwddGm_AxtK",
        "colab_type": "code",
        "colab": {}
      },
      "source": [
        "dataset=data_LSTM.values"
      ],
      "execution_count": 0,
      "outputs": []
    },
    {
      "cell_type": "markdown",
      "metadata": {
        "id": "fQNolBiU6S_P",
        "colab_type": "text"
      },
      "source": [
        "###Train_Test_Split"
      ]
    },
    {
      "cell_type": "code",
      "metadata": {
        "id": "iMav2Ygu6Os5",
        "colab_type": "code",
        "colab": {}
      },
      "source": [
        "#splitting in train and test set.\n",
        "train_len=int(0.9*len(data_LSTM))    # not using following method for splitting data as it rearrange the the data every time it splitt.\n",
        "train=dataset[:train_len,:]          # x_train,x_valid,y_train,y_valid=train_test_split(data_M_A,y_label,test_size=.15,random_state=0)     # Split the data in two parts i.e. train and validation part.\n",
        "\n",
        "valid=dataset[train_len:,:]"
      ],
      "execution_count": 0,
      "outputs": []
    },
    {
      "cell_type": "markdown",
      "metadata": {
        "id": "SlTFyDWpC67l",
        "colab_type": "text"
      },
      "source": [
        "##Scaler"
      ]
    },
    {
      "cell_type": "code",
      "metadata": {
        "id": "LW7STLvv_CHG",
        "colab_type": "code",
        "colab": {}
      },
      "source": [
        "scaler = MinMaxScaler(feature_range=(0, 1))\n",
        "scaled_data = scaler.fit_transform(dataset)"
      ],
      "execution_count": 0,
      "outputs": []
    },
    {
      "cell_type": "code",
      "metadata": {
        "id": "jjwKz7niEQOa",
        "colab_type": "code",
        "colab": {}
      },
      "source": [
        "x_train, y_train = [], []\n",
        "for i in range(60,len(train)):\n",
        "    x_train.append(scaled_data[i-60:i,0])\n",
        "    y_train.append(scaled_data[i,0])\n",
        "x_train, y_train = np.array(x_train), np.array(y_train)\n",
        "\n",
        "x_train = np.reshape(x_train, (x_train.shape[0],x_train.shape[1],1))"
      ],
      "execution_count": 0,
      "outputs": []
    },
    {
      "cell_type": "markdown",
      "metadata": {
        "id": "P_-uAj24DG6G",
        "colab_type": "text"
      },
      "source": [
        "##Model_Training"
      ]
    },
    {
      "cell_type": "code",
      "metadata": {
        "id": "GpXcGh9sFrwe",
        "colab_type": "code",
        "colab": {}
      },
      "source": [
        "# create and fit the LSTM network\n",
        "model = Sequential()\n",
        "model.add(LSTM(units=50, return_sequences=True, input_shape=(x_train.shape[1],1)))\n",
        "model.add(LSTM(units=50))\n",
        "model.add(Dense(1))\n",
        "\n",
        "model.compile(loss='mean_squared_error', optimizer='adam')\n",
        "model.fit(x_train, y_train, epochs=1, batch_size=1, verbose=2)"
      ],
      "execution_count": 0,
      "outputs": []
    },
    {
      "cell_type": "markdown",
      "metadata": {
        "id": "Hd9XJEbJDXnn",
        "colab_type": "text"
      },
      "source": [
        "##Predictions"
      ]
    },
    {
      "cell_type": "code",
      "metadata": {
        "id": "_7cEkBDAGazD",
        "colab_type": "code",
        "colab": {}
      },
      "source": [
        "inputs = data_LSTM[len(data_LSTM) - len(valid) - 60:].values\n",
        "inputs = inputs.reshape(-1,1)\n",
        "inputs  = scaler.transform(inputs)\n",
        "\n",
        "X_test = []\n",
        "for i in range(60,inputs.shape[0]):\n",
        "    X_test.append(inputs[i-60:i,0])\n",
        "X_test = np.array(X_test)\n",
        "\n",
        "X_test = np.reshape(X_test, (X_test.shape[0],X_test.shape[1],1))\n",
        "closing_price = model.predict(X_test)\n",
        "closing_price = scaler.inverse_transform(closing_price)"
      ],
      "execution_count": 0,
      "outputs": []
    },
    {
      "cell_type": "markdown",
      "metadata": {
        "id": "i-i3KYekDk7k",
        "colab_type": "text"
      },
      "source": [
        "##Evaluation"
      ]
    },
    {
      "cell_type": "code",
      "metadata": {
        "id": "CaXKIPWTFrla",
        "colab_type": "code",
        "colab": {
          "base_uri": "https://localhost:8080/",
          "height": 34
        },
        "outputId": "68de6c98-270a-4012-ae41-c25402dc41f2"
      },
      "source": [
        "#Checking the result(RMSE values)\n",
        "\n",
        "ms=mean_squared_error(closing_price,valid)  \n",
        "rms=np.sqrt(ms) \n",
        "rms         "
      ],
      "execution_count": 56,
      "outputs": [
        {
          "output_type": "execute_result",
          "data": {
            "text/plain": [
              "28.70021802789464"
            ]
          },
          "metadata": {
            "tags": []
          },
          "execution_count": 56
        }
      ]
    },
    {
      "cell_type": "markdown",
      "metadata": {
        "id": "PZZjr5RwDq1w",
        "colab_type": "text"
      },
      "source": [
        "##Plot"
      ]
    },
    {
      "cell_type": "code",
      "metadata": {
        "id": "xTMNqIuBNUpg",
        "colab_type": "code",
        "colab": {
          "base_uri": "https://localhost:8080/",
          "height": 626
        },
        "outputId": "5db0e34b-f15f-4944-f00f-a4b34e46f8f4"
      },
      "source": [
        "train=data_LSTM[:len(train)]\n",
        "valid=data_LSTM[len(train):]\n",
        "valid['Predictions']=closing_price\n",
        "plt.figure(figsize=(20,10))\n",
        "plt.plot(data_LSTM[:len(train)])\n",
        "plt.plot(valid[['close','Predictions']])\n",
        "# plt.plot(valid['close'])"
      ],
      "execution_count": 65,
      "outputs": [
        {
          "output_type": "execute_result",
          "data": {
            "text/plain": [
              "[<matplotlib.lines.Line2D at 0x7fe86ddb4cc0>,\n",
              " <matplotlib.lines.Line2D at 0x7fe86dd562b0>]"
            ]
          },
          "metadata": {
            "tags": []
          },
          "execution_count": 65
        },
        {
          "output_type": "display_data",
          "data": {
            "image/png": "[encoded data removed]",
            "text/plain": [
              "<Figure size 1440x720 with 1 Axes>"
            ]
          },
          "metadata": {
            "tags": []
          }
        }
      ]
    },
    {
      "cell_type": "markdown",
      "metadata": {
        "id": "sHrm-gu_Gvmr",
        "colab_type": "text"
      },
      "source": [
        "##Conclusion\n",
        "The LSTM model can be tuned for various parameters such as changing the number of LSTM layers, adding dropout value or increasing the number of epochs."
      ]
    },
    {
      "cell_type": "code",
      "metadata": {
        "id": "wYLYRdkORjSD",
        "colab_type": "code",
        "colab": {}
      },
      "source": [
        ""
      ],
      "execution_count": 0,
      "outputs": []
    }
  ]
}